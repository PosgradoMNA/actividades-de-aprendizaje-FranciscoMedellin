{
  "nbformat": 4,
  "nbformat_minor": 0,
  "metadata": {
    "kernelspec": {
      "display_name": "Python 3",
      "language": "python",
      "name": "python3"
    },
    "language_info": {
      "codemirror_mode": {
        "name": "ipython",
        "version": 3
      },
      "file_extension": ".py",
      "mimetype": "text/x-python",
      "name": "python",
      "nbconvert_exporter": "python",
      "pygments_lexer": "ipython3",
      "version": "3.7.7"
    },
    "colab": {
      "provenance": [],
      "collapsed_sections": [
        "szpzFXgiVQwN",
        "TIFwAtW1pc6h"
      ],
      "include_colab_link": true
    },
    "accelerator": "GPU"
  },
  "cells": [
    {
      "cell_type": "markdown",
      "metadata": {
        "id": "view-in-github",
        "colab_type": "text"
      },
      "source": [
        "<a href=\"https://colab.research.google.com/github/PosgradoMNA/actividades-de-aprendizaje-FranciscoMedellin/blob/main/Actividad_Semanal_7_Regresiones.ipynb\" target=\"_parent\"><img src=\"https://colab.research.google.com/assets/colab-badge.svg\" alt=\"Open In Colab\"/></a>"
      ]
    },
    {
      "cell_type": "markdown",
      "source": [
        "# Actividad Semanal -- 7 Regresiones\n",
        "- Materia: Ciencia y Analítica de Datos.\n",
        "- Nombre de la entrega: Actividad Semanal 7 Regresiones\n",
        "- Fecha: 09/11/2022.\n",
        "- Francisco Medellin Zertuche - A01794044.\n",
        "- Profesor titular: María de la Paz Rico Fernández.\n",
        "- Profesor tutor: Roberto Antonio Guevara González."
      ],
      "metadata": {
        "id": "uQ0kwt9r40G3"
      }
    },
    {
      "cell_type": "markdown",
      "metadata": {
        "id": "WUO-kdryVQwK"
      },
      "source": [
        "# Linear Models\n"
      ]
    },
    {
      "cell_type": "code",
      "source": [],
      "metadata": {
        "id": "Msm89naSzi21"
      },
      "execution_count": null,
      "outputs": []
    },
    {
      "cell_type": "markdown",
      "metadata": {
        "id": "u3ytB4LpVQwM"
      },
      "source": [
        "- In supervised learning, the training data fed to the algorithm includes the desired solutions, called labels. \n",
        "- In **regression**, the labels are continuous quantities.\n",
        "- Linear models predict by computing a weighted sum of input features plus a bias term."
      ]
    },
    {
      "cell_type": "code",
      "metadata": {
        "id": "HMp_I4Y6VQwN"
      },
      "source": [
        "import numpy as np\n",
        "%matplotlib inline\n",
        "import matplotlib\n",
        "import matplotlib.pyplot as plt\n",
        "import pandas as pd\n",
        "import seaborn as sns\n",
        "# to make this notebook's output stable across runs\n",
        "np.random.seed(42)"
      ],
      "execution_count": null,
      "outputs": []
    },
    {
      "cell_type": "code",
      "source": [
        "5-2"
      ],
      "metadata": {
        "colab": {
          "base_uri": "https://localhost:8080/"
        },
        "id": "exg6xSYf3F5D",
        "outputId": "09e8c07b-9e62-44e5-9176-9419e1faa96a"
      },
      "execution_count": null,
      "outputs": [
        {
          "output_type": "execute_result",
          "data": {
            "text/plain": [
              "3"
            ]
          },
          "metadata": {},
          "execution_count": 44
        }
      ]
    },
    {
      "cell_type": "markdown",
      "metadata": {
        "id": "szpzFXgiVQwN"
      },
      "source": [
        "## Simple Linear Regression\n",
        "\n",
        "Simple linear regression equation:\n",
        "\n",
        "$y = ax + b$\n",
        "<br>\n",
        "$a$: slope\n",
        "<br>\n",
        "$b$: intercept\n",
        "\n",
        "Generate linear-looking data with the equation:\n",
        "\n",
        "$y = 3X + 4 + noise$"
      ]
    },
    {
      "cell_type": "code",
      "metadata": {
        "colab": {
          "base_uri": "https://localhost:8080/"
        },
        "id": "mitJFYeiMQqD",
        "outputId": "8281c3ba-8ac7-4cd2-d2e5-ecd4f0d12dcf"
      },
      "source": [
        "np.random.rand(100, 1)"
      ],
      "execution_count": null,
      "outputs": [
        {
          "output_type": "execute_result",
          "data": {
            "text/plain": [
              "array([[0.37454012],\n",
              "       [0.95071431],\n",
              "       [0.73199394],\n",
              "       [0.59865848],\n",
              "       [0.15601864],\n",
              "       [0.15599452],\n",
              "       [0.05808361],\n",
              "       [0.86617615],\n",
              "       [0.60111501],\n",
              "       [0.70807258],\n",
              "       [0.02058449],\n",
              "       [0.96990985],\n",
              "       [0.83244264],\n",
              "       [0.21233911],\n",
              "       [0.18182497],\n",
              "       [0.18340451],\n",
              "       [0.30424224],\n",
              "       [0.52475643],\n",
              "       [0.43194502],\n",
              "       [0.29122914],\n",
              "       [0.61185289],\n",
              "       [0.13949386],\n",
              "       [0.29214465],\n",
              "       [0.36636184],\n",
              "       [0.45606998],\n",
              "       [0.78517596],\n",
              "       [0.19967378],\n",
              "       [0.51423444],\n",
              "       [0.59241457],\n",
              "       [0.04645041],\n",
              "       [0.60754485],\n",
              "       [0.17052412],\n",
              "       [0.06505159],\n",
              "       [0.94888554],\n",
              "       [0.96563203],\n",
              "       [0.80839735],\n",
              "       [0.30461377],\n",
              "       [0.09767211],\n",
              "       [0.68423303],\n",
              "       [0.44015249],\n",
              "       [0.12203823],\n",
              "       [0.49517691],\n",
              "       [0.03438852],\n",
              "       [0.9093204 ],\n",
              "       [0.25877998],\n",
              "       [0.66252228],\n",
              "       [0.31171108],\n",
              "       [0.52006802],\n",
              "       [0.54671028],\n",
              "       [0.18485446],\n",
              "       [0.96958463],\n",
              "       [0.77513282],\n",
              "       [0.93949894],\n",
              "       [0.89482735],\n",
              "       [0.59789998],\n",
              "       [0.92187424],\n",
              "       [0.0884925 ],\n",
              "       [0.19598286],\n",
              "       [0.04522729],\n",
              "       [0.32533033],\n",
              "       [0.38867729],\n",
              "       [0.27134903],\n",
              "       [0.82873751],\n",
              "       [0.35675333],\n",
              "       [0.28093451],\n",
              "       [0.54269608],\n",
              "       [0.14092422],\n",
              "       [0.80219698],\n",
              "       [0.07455064],\n",
              "       [0.98688694],\n",
              "       [0.77224477],\n",
              "       [0.19871568],\n",
              "       [0.00552212],\n",
              "       [0.81546143],\n",
              "       [0.70685734],\n",
              "       [0.72900717],\n",
              "       [0.77127035],\n",
              "       [0.07404465],\n",
              "       [0.35846573],\n",
              "       [0.11586906],\n",
              "       [0.86310343],\n",
              "       [0.62329813],\n",
              "       [0.33089802],\n",
              "       [0.06355835],\n",
              "       [0.31098232],\n",
              "       [0.32518332],\n",
              "       [0.72960618],\n",
              "       [0.63755747],\n",
              "       [0.88721274],\n",
              "       [0.47221493],\n",
              "       [0.11959425],\n",
              "       [0.71324479],\n",
              "       [0.76078505],\n",
              "       [0.5612772 ],\n",
              "       [0.77096718],\n",
              "       [0.4937956 ],\n",
              "       [0.52273283],\n",
              "       [0.42754102],\n",
              "       [0.02541913],\n",
              "       [0.10789143]])"
            ]
          },
          "metadata": {},
          "execution_count": 2
        }
      ]
    },
    {
      "cell_type": "code",
      "metadata": {
        "colab": {
          "base_uri": "https://localhost:8080/",
          "height": 282
        },
        "id": "QyubE1VEVQwN",
        "outputId": "37daa4f8-a0d3-463c-b058-069a0dc6aa79"
      },
      "source": [
        "X = 2*np.random.rand(100, 1)\n",
        "y = 4 + 3 * X + np.random.randn(100, 1)\n",
        "plt.scatter(X, y)"
      ],
      "execution_count": null,
      "outputs": [
        {
          "output_type": "execute_result",
          "data": {
            "text/plain": [
              "<matplotlib.collections.PathCollection at 0x7fdb6122ba10>"
            ]
          },
          "metadata": {},
          "execution_count": 3
        },
        {
          "output_type": "display_data",
          "data": {
            "text/plain": [
              "<Figure size 432x288 with 1 Axes>"
            ],
            "image/png": "[encoded data removed]"
          },
          "metadata": {
            "needs_background": "light"
          }
        }
      ]
    },
    {
      "cell_type": "code",
      "source": [
        "import pandas as pd\n",
        "pd.DataFrame(y)"
      ],
      "metadata": {
        "colab": {
          "base_uri": "https://localhost:8080/",
          "height": 424
        },
        "id": "M5kaENJ4bZY5",
        "outputId": "ccac3234-4dc3-4296-800f-1258bf2f90f4"
      },
      "execution_count": null,
      "outputs": [
        {
          "output_type": "execute_result",
          "data": {
            "text/plain": [
              "            0\n",
              "0    3.508550\n",
              "1    8.050716\n",
              "2    6.179208\n",
              "3    6.337073\n",
              "4   11.311173\n",
              "..        ...\n",
              "95   5.441928\n",
              "96  10.121188\n",
              "97   9.787643\n",
              "98   8.061635\n",
              "99   9.597115\n",
              "\n",
              "[100 rows x 1 columns]"
            ],
            "text/html": [
              "\n",
              "  <div id=\"df-d0d4f536-e8cc-4401-8567-1f41eac0ed4c\">\n",
              "    <div class=\"colab-df-container\">\n",
              "      <div>\n",
              "<style scoped>\n",
              "    .dataframe tbody tr th:only-of-type {\n",
              "        vertical-align: middle;\n",
              "    }\n",
              "\n",
              "    .dataframe tbody tr th {\n",
              "        vertical-align: top;\n",
              "    }\n",
              "\n",
              "    .dataframe thead th {\n",
              "        text-align: right;\n",
              "    }\n",
              "</style>\n",
              "<table border=\"1\" class=\"dataframe\">\n",
              "  <thead>\n",
              "    <tr style=\"text-align: right;\">\n",
              "      <th></th>\n",
              "      <th>0</th>\n",
              "    </tr>\n",
              "  </thead>\n",
              "  <tbody>\n",
              "    <tr>\n",
              "      <th>0</th>\n",
              "      <td>3.508550</td>\n",
              "    </tr>\n",
              "    <tr>\n",
              "      <th>1</th>\n",
              "      <td>8.050716</td>\n",
              "    </tr>\n",
              "    <tr>\n",
              "      <th>2</th>\n",
              "      <td>6.179208</td>\n",
              "    </tr>\n",
              "    <tr>\n",
              "      <th>3</th>\n",
              "      <td>6.337073</td>\n",
              "    </tr>\n",
              "    <tr>\n",
              "      <th>4</th>\n",
              "      <td>11.311173</td>\n",
              "    </tr>\n",
              "    <tr>\n",
              "      <th>...</th>\n",
              "      <td>...</td>\n",
              "    </tr>\n",
              "    <tr>\n",
              "      <th>95</th>\n",
              "      <td>5.441928</td>\n",
              "    </tr>\n",
              "    <tr>\n",
              "      <th>96</th>\n",
              "      <td>10.121188</td>\n",
              "    </tr>\n",
              "    <tr>\n",
              "      <th>97</th>\n",
              "      <td>9.787643</td>\n",
              "    </tr>\n",
              "    <tr>\n",
              "      <th>98</th>\n",
              "      <td>8.061635</td>\n",
              "    </tr>\n",
              "    <tr>\n",
              "      <th>99</th>\n",
              "      <td>9.597115</td>\n",
              "    </tr>\n",
              "  </tbody>\n",
              "</table>\n",
              "<p>100 rows × 1 columns</p>\n",
              "</div>\n",
              "      <button class=\"colab-df-convert\" onclick=\"convertToInteractive('df-d0d4f536-e8cc-4401-8567-1f41eac0ed4c')\"\n",
              "              title=\"Convert this dataframe to an interactive table.\"\n",
              "              style=\"display:none;\">\n",
              "        \n",
              "  <svg xmlns=\"http://www.w3.org/2000/svg\" height=\"24px\"viewBox=\"0 0 24 24\"\n",
              "       width=\"24px\">\n",
              "    <path d=\"M0 0h24v24H0V0z\" fill=\"none\"/>\n",
              "    <path d=\"M18.56 5.44l.94 2.06.94-2.06 2.06-.94-2.06-.94-.94-2.06-.94 2.06-2.06.94zm-11 1L8.5 8.5l.94-2.06 2.06-.94-2.06-.94L8.5 2.5l-.94 2.06-2.06.94zm10 10l.94 2.06.94-2.06 2.06-.94-2.06-.94-.94-2.06-.94 2.06-2.06.94z\"/><path d=\"M17.41 7.96l-1.37-1.37c-.4-.4-.92-.59-1.43-.59-.52 0-1.04.2-1.43.59L10.3 9.45l-7.72 7.72c-.78.78-.78 2.05 0 2.83L4 21.41c.39.39.9.59 1.41.59.51 0 1.02-.2 1.41-.59l7.78-7.78 2.81-2.81c.8-.78.8-2.07 0-2.86zM5.41 20L4 18.59l7.72-7.72 1.47 1.35L5.41 20z\"/>\n",
              "  </svg>\n",
              "      </button>\n",
              "      \n",
              "  <style>\n",
              "    .colab-df-container {\n",
              "      display:flex;\n",
              "      flex-wrap:wrap;\n",
              "      gap: 12px;\n",
              "    }\n",
              "\n",
              "    .colab-df-convert {\n",
              "      background-color: #E8F0FE;\n",
              "      border: none;\n",
              "      border-radius: 50%;\n",
              "      cursor: pointer;\n",
              "      display: none;\n",
              "      fill: #1967D2;\n",
              "      height: 32px;\n",
              "      padding: 0 0 0 0;\n",
              "      width: 32px;\n",
              "    }\n",
              "\n",
              "    .colab-df-convert:hover {\n",
              "      background-color: #E2EBFA;\n",
              "      box-shadow: 0px 1px 2px rgba(60, 64, 67, 0.3), 0px 1px 3px 1px rgba(60, 64, 67, 0.15);\n",
              "      fill: #174EA6;\n",
              "    }\n",
              "\n",
              "    [theme=dark] .colab-df-convert {\n",
              "      background-color: #3B4455;\n",
              "      fill: #D2E3FC;\n",
              "    }\n",
              "\n",
              "    [theme=dark] .colab-df-convert:hover {\n",
              "      background-color: #434B5C;\n",
              "      box-shadow: 0px 1px 3px 1px rgba(0, 0, 0, 0.15);\n",
              "      filter: drop-shadow(0px 1px 2px rgba(0, 0, 0, 0.3));\n",
              "      fill: #FFFFFF;\n",
              "    }\n",
              "  </style>\n",
              "\n",
              "      <script>\n",
              "        const buttonEl =\n",
              "          document.querySelector('#df-d0d4f536-e8cc-4401-8567-1f41eac0ed4c button.colab-df-convert');\n",
              "        buttonEl.style.display =\n",
              "          google.colab.kernel.accessAllowed ? 'block' : 'none';\n",
              "\n",
              "        async function convertToInteractive(key) {\n",
              "          const element = document.querySelector('#df-d0d4f536-e8cc-4401-8567-1f41eac0ed4c');\n",
              "          const dataTable =\n",
              "            await google.colab.kernel.invokeFunction('convertToInteractive',\n",
              "                                                     [key], {});\n",
              "          if (!dataTable) return;\n",
              "\n",
              "          const docLinkHtml = 'Like what you see? Visit the ' +\n",
              "            '<a target=\"_blank\" href=https://colab.research.google.com/notebooks/data_table.ipynb>data table notebook</a>'\n",
              "            + ' to learn more about interactive tables.';\n",
              "          element.innerHTML = '';\n",
              "          dataTable['output_type'] = 'display_data';\n",
              "          await google.colab.output.renderOutput(dataTable, element);\n",
              "          const docLink = document.createElement('div');\n",
              "          docLink.innerHTML = docLinkHtml;\n",
              "          element.appendChild(docLink);\n",
              "        }\n",
              "      </script>\n",
              "    </div>\n",
              "  </div>\n",
              "  "
            ]
          },
          "metadata": {},
          "execution_count": 4
        }
      ]
    },
    {
      "cell_type": "code",
      "metadata": {
        "colab": {
          "base_uri": "https://localhost:8080/"
        },
        "id": "x6XGt_iAVQwO",
        "outputId": "3dded33a-65fe-453a-ee0e-eecfa974927b"
      },
      "source": [
        "from sklearn.linear_model import LinearRegression\n",
        "\n",
        "linear_reg = LinearRegression(fit_intercept=True)\n",
        "linear_reg.fit(X, y)"
      ],
      "execution_count": null,
      "outputs": [
        {
          "output_type": "execute_result",
          "data": {
            "text/plain": [
              "LinearRegression()"
            ]
          },
          "metadata": {},
          "execution_count": 5
        }
      ]
    },
    {
      "cell_type": "markdown",
      "metadata": {
        "id": "Hnm9YgjbVQwO"
      },
      "source": [
        "Plot the model's predictions:"
      ]
    },
    {
      "cell_type": "code",
      "metadata": {
        "id": "9NtrLfGGVQwP"
      },
      "source": [
        "#X_fit[]"
      ],
      "execution_count": null,
      "outputs": []
    },
    {
      "cell_type": "code",
      "metadata": {
        "colab": {
          "base_uri": "https://localhost:8080/",
          "height": 287
        },
        "id": "1ZTT31igVQwP",
        "outputId": "1532faa2-883f-4b83-ae4e-8275606886fb"
      },
      "source": [
        "# construct best fit line\n",
        "X_fit = np.linspace(0, 2, 100)\n",
        "y_fit = linear_reg.predict(X_fit[:, np.newaxis])\n",
        "\n",
        "plt.scatter(X, y)\n",
        "plt.plot(X_fit, y_fit, \"r-\", linewidth=2, label=\"Predictions\")\n",
        "plt.xlabel(\"$X$\", fontsize=18)\n",
        "plt.ylabel(\"$y$\", rotation=0, fontsize=18)\n",
        "plt.legend(loc=\"upper left\", fontsize=14);"
      ],
      "execution_count": null,
      "outputs": [
        {
          "output_type": "display_data",
          "data": {
            "text/plain": [
              "<Figure size 432x288 with 1 Axes>"
            ],
            "image/png": "[encoded data removed]"
          },
          "metadata": {
            "needs_background": "light"
          }
        }
      ]
    },
    {
      "cell_type": "markdown",
      "metadata": {
        "id": "kIfOsEcWVQwP"
      },
      "source": [
        "Predictions are a good fit."
      ]
    },
    {
      "cell_type": "markdown",
      "metadata": {
        "id": "z2VYUeGrVQwQ"
      },
      "source": [
        "Generate new data to make predictions with the model:"
      ]
    },
    {
      "cell_type": "code",
      "metadata": {
        "colab": {
          "base_uri": "https://localhost:8080/"
        },
        "id": "FuEd0Wp0VQwQ",
        "outputId": "9bf4fae7-e05a-49c9-8db6-fa9e809a8633"
      },
      "source": [
        "X_new = np.array([[0], [2]])\n",
        "X_new"
      ],
      "execution_count": null,
      "outputs": [
        {
          "output_type": "execute_result",
          "data": {
            "text/plain": [
              "array([[0],\n",
              "       [2]])"
            ]
          },
          "metadata": {},
          "execution_count": 7
        }
      ]
    },
    {
      "cell_type": "code",
      "metadata": {
        "colab": {
          "base_uri": "https://localhost:8080/"
        },
        "id": "lLCnLm7_VQwQ",
        "outputId": "bd53dfab-c355-4c52-84a2-d694e7088e92"
      },
      "source": [
        "X_new.shape"
      ],
      "execution_count": null,
      "outputs": [
        {
          "output_type": "execute_result",
          "data": {
            "text/plain": [
              "(2, 1)"
            ]
          },
          "metadata": {},
          "execution_count": 8
        }
      ]
    },
    {
      "cell_type": "code",
      "metadata": {
        "colab": {
          "base_uri": "https://localhost:8080/"
        },
        "id": "zJIzUfZsVQwQ",
        "outputId": "3ff13e62-9b3d-440f-d972-b1ca4849ef38"
      },
      "source": [
        "y_new = linear_reg.predict(X_new)\n",
        "y_new"
      ],
      "execution_count": null,
      "outputs": [
        {
          "output_type": "execute_result",
          "data": {
            "text/plain": [
              "array([[ 3.74406122],\n",
              "       [10.47517611]])"
            ]
          },
          "metadata": {},
          "execution_count": 9
        }
      ]
    },
    {
      "cell_type": "code",
      "metadata": {
        "colab": {
          "base_uri": "https://localhost:8080/"
        },
        "id": "ICiEnkbdVQwQ",
        "outputId": "a3d3bcbe-7d9a-4475-dbe0-9117858c6cdf"
      },
      "source": [
        " linear_reg.coef_, linear_reg.intercept_"
      ],
      "execution_count": null,
      "outputs": [
        {
          "output_type": "execute_result",
          "data": {
            "text/plain": [
              "(array([[3.36555744]]), array([3.74406122]))"
            ]
          },
          "metadata": {},
          "execution_count": 10
        }
      ]
    },
    {
      "cell_type": "markdown",
      "metadata": {
        "id": "iBXzOecgVQwR"
      },
      "source": [
        "The model estimates:\n",
        "\n",
        "$\\hat{y} = 3.36X + 3.74$"
      ]
    },
    {
      "cell_type": "code",
      "metadata": {
        "id": "ZNvipq0wQYfj"
      },
      "source": [
        "#|VENTAS|GANANCIAS|\n",
        "#COEF*VENTAS+B\n",
        "#|VENTAS|COMPRAS|GANANCIAS|\n",
        "#COEF1*X1+COEF2*X2+B=Y"
      ],
      "execution_count": null,
      "outputs": []
    },
    {
      "cell_type": "markdown",
      "metadata": {
        "id": "_Rv-RJSnVQwR"
      },
      "source": [
        "## Polynomial Regression\n",
        "\n",
        "If data is more complex than a straight line, you can use a linear model ti fit non-linear data adding powers of each feature as new features and then train a linear model on the extended set of features. "
      ]
    },
    {
      "cell_type": "markdown",
      "metadata": {
        "id": "dPrpAVsZVQwR"
      },
      "source": [
        "$$y = a_0 + a_1x_1 + a_2x_2 + a_3x_3 + ...$$ to $$y = a_0 + a_1x + a_2x^2 + a_3x^3+ ...$$ "
      ]
    },
    {
      "cell_type": "markdown",
      "metadata": {
        "id": "9kjMWzEfVQwR"
      },
      "source": [
        "This is still a linear model, the linearity refers to the fact that the coefficients never multiply or divide each other."
      ]
    },
    {
      "cell_type": "markdown",
      "metadata": {
        "id": "2M3fp_CSVQwR"
      },
      "source": [
        "To generate polynomial data we use the function:\n",
        "\n",
        "$y = 0.50X^2 + X + 2 + noise$"
      ]
    },
    {
      "cell_type": "code",
      "metadata": {
        "id": "sSrueMnPVQwR"
      },
      "source": [
        "# generate non-linear data e.g. quadratic equation\n",
        "m = 100\n",
        "X = 6 * np.random.rand(m, 1) - 3\n",
        "y = 0.5 * X**2 + X + 2 + np.random.randn(m, 1)"
      ],
      "execution_count": null,
      "outputs": []
    },
    {
      "cell_type": "code",
      "metadata": {
        "colab": {
          "base_uri": "https://localhost:8080/",
          "height": 291
        },
        "id": "GNQQoXkMVQwS",
        "outputId": "5284814d-3b79-4a75-c7c3-a26c161846ca"
      },
      "source": [
        "plt.plot(X, y, \"b.\")\n",
        "plt.xlabel(\"$x_1$\", fontsize=18)\n",
        "plt.ylabel(\"$y$\", rotation=0, fontsize=18)\n",
        "plt.axis([-3, 3, 0, 10]);"
      ],
      "execution_count": null,
      "outputs": [
        {
          "output_type": "display_data",
          "data": {
            "text/plain": [
              "<Figure size 432x288 with 1 Axes>"
            ],
            "image/png": "[encoded data removed]"
          },
          "metadata": {
            "needs_background": "light"
          }
        }
      ]
    },
    {
      "cell_type": "code",
      "source": [
        "import pandas as pd\n",
        "pd.DataFrame(y)"
      ],
      "metadata": {
        "id": "YtaK_dsidNcP",
        "outputId": "ed940d74-045d-4578-a1c1-3cac6bbea074",
        "colab": {
          "base_uri": "https://localhost:8080/",
          "height": 423
        }
      },
      "execution_count": null,
      "outputs": [
        {
          "output_type": "execute_result",
          "data": {
            "text/plain": [
              "           0\n",
              "0   3.998940\n",
              "1   4.320418\n",
              "2   2.599923\n",
              "3   2.175267\n",
              "4   0.447174\n",
              "..       ...\n",
              "95  0.565325\n",
              "96  2.759217\n",
              "97  3.314489\n",
              "98  3.124415\n",
              "99  1.650905\n",
              "\n",
              "[100 rows x 1 columns]"
            ],
            "text/html": [
              "\n",
              "  <div id=\"df-a10cfaa4-512e-4bca-b06c-4dff01d92ace\">\n",
              "    <div class=\"colab-df-container\">\n",
              "      <div>\n",
              "<style scoped>\n",
              "    .dataframe tbody tr th:only-of-type {\n",
              "        vertical-align: middle;\n",
              "    }\n",
              "\n",
              "    .dataframe tbody tr th {\n",
              "        vertical-align: top;\n",
              "    }\n",
              "\n",
              "    .dataframe thead th {\n",
              "        text-align: right;\n",
              "    }\n",
              "</style>\n",
              "<table border=\"1\" class=\"dataframe\">\n",
              "  <thead>\n",
              "    <tr style=\"text-align: right;\">\n",
              "      <th></th>\n",
              "      <th>0</th>\n",
              "    </tr>\n",
              "  </thead>\n",
              "  <tbody>\n",
              "    <tr>\n",
              "      <th>0</th>\n",
              "      <td>3.998940</td>\n",
              "    </tr>\n",
              "    <tr>\n",
              "      <th>1</th>\n",
              "      <td>4.320418</td>\n",
              "    </tr>\n",
              "    <tr>\n",
              "      <th>2</th>\n",
              "      <td>2.599923</td>\n",
              "    </tr>\n",
              "    <tr>\n",
              "      <th>3</th>\n",
              "      <td>2.175267</td>\n",
              "    </tr>\n",
              "    <tr>\n",
              "      <th>4</th>\n",
              "      <td>0.447174</td>\n",
              "    </tr>\n",
              "    <tr>\n",
              "      <th>...</th>\n",
              "      <td>...</td>\n",
              "    </tr>\n",
              "    <tr>\n",
              "      <th>95</th>\n",
              "      <td>0.565325</td>\n",
              "    </tr>\n",
              "    <tr>\n",
              "      <th>96</th>\n",
              "      <td>2.759217</td>\n",
              "    </tr>\n",
              "    <tr>\n",
              "      <th>97</th>\n",
              "      <td>3.314489</td>\n",
              "    </tr>\n",
              "    <tr>\n",
              "      <th>98</th>\n",
              "      <td>3.124415</td>\n",
              "    </tr>\n",
              "    <tr>\n",
              "      <th>99</th>\n",
              "      <td>1.650905</td>\n",
              "    </tr>\n",
              "  </tbody>\n",
              "</table>\n",
              "<p>100 rows × 1 columns</p>\n",
              "</div>\n",
              "      <button class=\"colab-df-convert\" onclick=\"convertToInteractive('df-a10cfaa4-512e-4bca-b06c-4dff01d92ace')\"\n",
              "              title=\"Convert this dataframe to an interactive table.\"\n",
              "              style=\"display:none;\">\n",
              "        \n",
              "  <svg xmlns=\"http://www.w3.org/2000/svg\" height=\"24px\"viewBox=\"0 0 24 24\"\n",
              "       width=\"24px\">\n",
              "    <path d=\"M0 0h24v24H0V0z\" fill=\"none\"/>\n",
              "    <path d=\"M18.56 5.44l.94 2.06.94-2.06 2.06-.94-2.06-.94-.94-2.06-.94 2.06-2.06.94zm-11 1L8.5 8.5l.94-2.06 2.06-.94-2.06-.94L8.5 2.5l-.94 2.06-2.06.94zm10 10l.94 2.06.94-2.06 2.06-.94-2.06-.94-.94-2.06-.94 2.06-2.06.94z\"/><path d=\"M17.41 7.96l-1.37-1.37c-.4-.4-.92-.59-1.43-.59-.52 0-1.04.2-1.43.59L10.3 9.45l-7.72 7.72c-.78.78-.78 2.05 0 2.83L4 21.41c.39.39.9.59 1.41.59.51 0 1.02-.2 1.41-.59l7.78-7.78 2.81-2.81c.8-.78.8-2.07 0-2.86zM5.41 20L4 18.59l7.72-7.72 1.47 1.35L5.41 20z\"/>\n",
              "  </svg>\n",
              "      </button>\n",
              "      \n",
              "  <style>\n",
              "    .colab-df-container {\n",
              "      display:flex;\n",
              "      flex-wrap:wrap;\n",
              "      gap: 12px;\n",
              "    }\n",
              "\n",
              "    .colab-df-convert {\n",
              "      background-color: #E8F0FE;\n",
              "      border: none;\n",
              "      border-radius: 50%;\n",
              "      cursor: pointer;\n",
              "      display: none;\n",
              "      fill: #1967D2;\n",
              "      height: 32px;\n",
              "      padding: 0 0 0 0;\n",
              "      width: 32px;\n",
              "    }\n",
              "\n",
              "    .colab-df-convert:hover {\n",
              "      background-color: #E2EBFA;\n",
              "      box-shadow: 0px 1px 2px rgba(60, 64, 67, 0.3), 0px 1px 3px 1px rgba(60, 64, 67, 0.15);\n",
              "      fill: #174EA6;\n",
              "    }\n",
              "\n",
              "    [theme=dark] .colab-df-convert {\n",
              "      background-color: #3B4455;\n",
              "      fill: #D2E3FC;\n",
              "    }\n",
              "\n",
              "    [theme=dark] .colab-df-convert:hover {\n",
              "      background-color: #434B5C;\n",
              "      box-shadow: 0px 1px 3px 1px rgba(0, 0, 0, 0.15);\n",
              "      filter: drop-shadow(0px 1px 2px rgba(0, 0, 0, 0.3));\n",
              "      fill: #FFFFFF;\n",
              "    }\n",
              "  </style>\n",
              "\n",
              "      <script>\n",
              "        const buttonEl =\n",
              "          document.querySelector('#df-a10cfaa4-512e-4bca-b06c-4dff01d92ace button.colab-df-convert');\n",
              "        buttonEl.style.display =\n",
              "          google.colab.kernel.accessAllowed ? 'block' : 'none';\n",
              "\n",
              "        async function convertToInteractive(key) {\n",
              "          const element = document.querySelector('#df-a10cfaa4-512e-4bca-b06c-4dff01d92ace');\n",
              "          const dataTable =\n",
              "            await google.colab.kernel.invokeFunction('convertToInteractive',\n",
              "                                                     [key], {});\n",
              "          if (!dataTable) return;\n",
              "\n",
              "          const docLinkHtml = 'Like what you see? Visit the ' +\n",
              "            '<a target=\"_blank\" href=https://colab.research.google.com/notebooks/data_table.ipynb>data table notebook</a>'\n",
              "            + ' to learn more about interactive tables.';\n",
              "          element.innerHTML = '';\n",
              "          dataTable['output_type'] = 'display_data';\n",
              "          await google.colab.output.renderOutput(dataTable, element);\n",
              "          const docLink = document.createElement('div');\n",
              "          docLink.innerHTML = docLinkHtml;\n",
              "          element.appendChild(docLink);\n",
              "        }\n",
              "      </script>\n",
              "    </div>\n",
              "  </div>\n",
              "  "
            ]
          },
          "metadata": {},
          "execution_count": 76
        }
      ]
    },
    {
      "cell_type": "markdown",
      "metadata": {
        "id": "vrZTRaLNVQwS"
      },
      "source": [
        "Now we can use `PolynomialFeatues` to transform training data adding the square of each feature as new features."
      ]
    },
    {
      "cell_type": "code",
      "metadata": {
        "id": "BXo0Hm56VQwS"
      },
      "source": [
        "from sklearn.preprocessing import PolynomialFeatures\n",
        "\n",
        "poly_features = PolynomialFeatures(degree=2, include_bias=False)\n",
        "X_poly = poly_features.fit_transform(X)"
      ],
      "execution_count": null,
      "outputs": []
    },
    {
      "cell_type": "code",
      "metadata": {
        "colab": {
          "base_uri": "https://localhost:8080/"
        },
        "id": "1FqY9-I4VQwS",
        "outputId": "d5d3ca46-6530-4848-96a2-2a9c61918fbc"
      },
      "source": [
        "X_poly"
      ],
      "execution_count": null,
      "outputs": [
        {
          "output_type": "execute_result",
          "data": {
            "text/plain": [
              "array([[-2.38324557e+00,  5.67985946e+00],\n",
              "       [ 4.25427011e-01,  1.80988142e-01],\n",
              "       [-2.88979418e+00,  8.35091039e+00],\n",
              "       [-1.05861711e-01,  1.12067018e-02],\n",
              "       [-1.73790252e+00,  3.02030517e+00],\n",
              "       [-9.23900594e-01,  8.53592308e-01],\n",
              "       [ 1.65482841e+00,  2.73845708e+00],\n",
              "       [ 2.64742503e+00,  7.00885927e+00],\n",
              "       [-2.56550237e+00,  6.58180240e+00],\n",
              "       [ 2.05453236e-01,  4.22110321e-02],\n",
              "       [ 2.29520091e+00,  5.26794724e+00],\n",
              "       [-2.50494879e+00,  6.27476846e+00],\n",
              "       [ 1.94708428e+00,  3.79113720e+00],\n",
              "       [-8.53191894e-01,  7.27936409e-01],\n",
              "       [-1.06743179e+00,  1.13941062e+00],\n",
              "       [ 2.86479832e+00,  8.20706940e+00],\n",
              "       [-1.79484546e+00,  3.22147023e+00],\n",
              "       [ 1.15916364e+00,  1.34366036e+00],\n",
              "       [ 1.92864437e+00,  3.71966910e+00],\n",
              "       [-2.75289903e+00,  7.57845306e+00],\n",
              "       [ 1.02231275e+00,  1.04512336e+00],\n",
              "       [ 2.70929985e+00,  7.34030566e+00],\n",
              "       [-2.25468020e+00,  5.08358280e+00],\n",
              "       [ 2.37732782e+00,  5.65168755e+00],\n",
              "       [ 5.68659824e-01,  3.23373996e-01],\n",
              "       [ 6.99627491e-01,  4.89478626e-01],\n",
              "       [ 6.77665049e-01,  4.59229919e-01],\n",
              "       [-1.20698468e+00,  1.45681202e+00],\n",
              "       [ 2.61121089e+00,  6.81842232e+00],\n",
              "       [ 2.68410278e+00,  7.20440771e+00],\n",
              "       [ 7.51827961e-01,  5.65245283e-01],\n",
              "       [ 1.70053636e+00,  2.89182390e+00],\n",
              "       [ 6.73547915e-01,  4.53666794e-01],\n",
              "       [-9.36093146e-02,  8.76270377e-03],\n",
              "       [ 9.64920710e-01,  9.31071976e-01],\n",
              "       [ 3.18008716e-01,  1.01129543e-01],\n",
              "       [ 5.84855176e-01,  3.42055577e-01],\n",
              "       [ 1.70299532e+00,  2.90019306e+00],\n",
              "       [-1.14577011e-01,  1.31278915e-02],\n",
              "       [-2.75547536e+00,  7.59264448e+00],\n",
              "       [-2.01600311e+00,  4.06426856e+00],\n",
              "       [-3.68356701e-01,  1.35686659e-01],\n",
              "       [ 1.34895936e+00,  1.81969135e+00],\n",
              "       [ 5.59671890e-01,  3.13232624e-01],\n",
              "       [ 9.01765115e-01,  8.13180323e-01],\n",
              "       [-1.24326429e-01,  1.54570608e-02],\n",
              "       [ 6.94452132e-01,  4.82263763e-01],\n",
              "       [-1.02589537e+00,  1.05246132e+00],\n",
              "       [-1.78904444e-01,  3.20068000e-02],\n",
              "       [ 1.46567439e+00,  2.14820143e+00],\n",
              "       [ 2.23099667e+00,  4.97734616e+00],\n",
              "       [-3.98067996e-01,  1.58458130e-01],\n",
              "       [-2.73803005e+00,  7.49680858e+00],\n",
              "       [-2.02996474e+00,  4.12075683e+00],\n",
              "       [-2.87483316e+00,  8.26466572e+00],\n",
              "       [ 9.19578115e-01,  8.45623910e-01],\n",
              "       [-1.00611225e+00,  1.01226186e+00],\n",
              "       [ 2.54871814e-01,  6.49596417e-02],\n",
              "       [-4.03389193e-02,  1.62722841e-03],\n",
              "       [-2.51084106e+00,  6.30432284e+00],\n",
              "       [-5.80431833e-01,  3.36901113e-01],\n",
              "       [-1.67663325e+00,  2.81109906e+00],\n",
              "       [-4.89601268e-01,  2.39709402e-01],\n",
              "       [-1.77853032e+00,  3.16317009e+00],\n",
              "       [ 2.04271444e+00,  4.17268227e+00],\n",
              "       [-1.95483998e+00,  3.82139935e+00],\n",
              "       [ 2.76468331e+00,  7.64347380e+00],\n",
              "       [-5.04555803e-01,  2.54576558e-01],\n",
              "       [ 2.07747175e+00,  4.31588888e+00],\n",
              "       [ 7.72588909e-01,  5.96893623e-01],\n",
              "       [ 1.41210179e+00,  1.99403147e+00],\n",
              "       [ 1.60634333e+00,  2.58033889e+00],\n",
              "       [ 2.90692914e-02,  8.45023700e-04],\n",
              "       [ 2.59803140e-01,  6.74976716e-02],\n",
              "       [ 8.39752069e-02,  7.05183537e-03],\n",
              "       [ 5.28350269e-01,  2.79154006e-01],\n",
              "       [-2.82363333e+00,  7.97290516e+00],\n",
              "       [-6.26908981e-01,  3.93014870e-01],\n",
              "       [ 6.37132281e-01,  4.05937544e-01],\n",
              "       [ 5.86341392e-01,  3.43796227e-01],\n",
              "       [ 1.75773657e+00,  3.08963784e+00],\n",
              "       [ 9.30056033e-01,  8.65004225e-01],\n",
              "       [ 2.95279990e+00,  8.71902724e+00],\n",
              "       [-1.29687283e+00,  1.68187913e+00],\n",
              "       [-8.45093822e-01,  7.14183568e-01],\n",
              "       [-6.96917089e-01,  4.85693429e-01],\n",
              "       [-2.05123158e-01,  4.20755099e-02],\n",
              "       [ 2.01598838e+00,  4.06420916e+00],\n",
              "       [-1.58524744e+00,  2.51300943e+00],\n",
              "       [ 1.65600124e+00,  2.74234011e+00],\n",
              "       [-5.68138901e-01,  3.22781811e-01],\n",
              "       [ 6.11132302e-01,  3.73482691e-01],\n",
              "       [ 7.95243199e-01,  6.32411746e-01],\n",
              "       [-7.62908177e-01,  5.82028886e-01],\n",
              "       [ 7.56912312e-02,  5.72916249e-03],\n",
              "       [-5.21812952e-01,  2.72288757e-01],\n",
              "       [-2.58520328e+00,  6.68327601e+00],\n",
              "       [-3.77007667e-01,  1.42134781e-01],\n",
              "       [-2.41563964e+00,  5.83531489e+00],\n",
              "       [-5.69875206e-01,  3.24757750e-01]])"
            ]
          },
          "metadata": {},
          "execution_count": 78
        }
      ]
    },
    {
      "cell_type": "markdown",
      "metadata": {
        "id": "GrFMRU_eVQwS"
      },
      "source": [
        "`X_poly` now contains the original feature of X plus the square of the feature:"
      ]
    },
    {
      "cell_type": "code",
      "metadata": {
        "colab": {
          "base_uri": "https://localhost:8080/"
        },
        "id": "M8FH1dY2UwgN",
        "outputId": "b1ab252f-15be-4663-8014-d7420047017e"
      },
      "source": [
        "print(X[0])\n",
        "print(X[0]*X[0])\n"
      ],
      "execution_count": null,
      "outputs": [
        {
          "output_type": "stream",
          "name": "stdout",
          "text": [
            "[-2.38324557]\n",
            "[5.67985946]\n"
          ]
        }
      ]
    },
    {
      "cell_type": "code",
      "metadata": {
        "colab": {
          "base_uri": "https://localhost:8080/"
        },
        "id": "PSflPniWVQwT",
        "outputId": "5c8dc768-8e52-42f9-e790-5ba1ce7d5816"
      },
      "source": [
        "X_poly[0]"
      ],
      "execution_count": null,
      "outputs": [
        {
          "output_type": "execute_result",
          "data": {
            "text/plain": [
              "array([-2.38324557,  5.67985946])"
            ]
          },
          "metadata": {},
          "execution_count": 80
        }
      ]
    },
    {
      "cell_type": "markdown",
      "metadata": {
        "id": "HaXjXg7FVQwT"
      },
      "source": [
        "Fit the model to this extended training data:"
      ]
    },
    {
      "cell_type": "code",
      "metadata": {
        "colab": {
          "base_uri": "https://localhost:8080/"
        },
        "id": "c0Qu93dgVQwT",
        "outputId": "2d33bd34-f425-4206-87b9-49daa184637c"
      },
      "source": [
        "lin_reg = LinearRegression(fit_intercept=True)\n",
        "lin_reg.fit(X_poly, y)\n",
        "lin_reg.coef_, lin_reg.intercept_"
      ],
      "execution_count": null,
      "outputs": [
        {
          "output_type": "execute_result",
          "data": {
            "text/plain": [
              "(array([[0.89643337, 0.48819444]]), array([2.09460069]))"
            ]
          },
          "metadata": {},
          "execution_count": 81
        }
      ]
    },
    {
      "cell_type": "markdown",
      "metadata": {
        "id": "rKOSwvnmVQwT"
      },
      "source": [
        "The model estimates:\n",
        "\n",
        "$\\hat{y} =  0.89X +0.48X^2 + 2.09$"
      ]
    },
    {
      "cell_type": "markdown",
      "metadata": {
        "id": "_EtZEKz5VQwT"
      },
      "source": [
        "Plot the data and the predictions:"
      ]
    },
    {
      "cell_type": "code",
      "metadata": {
        "colab": {
          "base_uri": "https://localhost:8080/",
          "height": 291
        },
        "id": "6Q8dHRgdVQwT",
        "outputId": "eeb2ed3a-bcc3-4f4d-b052-65f07a498a05"
      },
      "source": [
        "X_new=np.linspace(-3, 3, 100).reshape(100, 1)\n",
        "X_new_poly = poly_features.transform(X_new)\n",
        "y_new = lin_reg.predict(X_new_poly)\n",
        "plt.plot(X, y, \"b.\")\n",
        "plt.plot(X_new, y_new, \"r-\", linewidth=2, label=\"Predictions\")\n",
        "plt.xlabel(\"$x_1$\", fontsize=18)\n",
        "plt.ylabel(\"$y$\", rotation=0, fontsize=18)\n",
        "plt.legend(loc=\"upper left\", fontsize=14)\n",
        "plt.axis([-3, 3, 0, 10]);"
      ],
      "execution_count": null,
      "outputs": [
        {
          "output_type": "display_data",
          "data": {
            "text/plain": [
              "<Figure size 432x288 with 1 Axes>"
            ],
            "image/png": "[encoded data removed]"
          },
          "metadata": {
            "needs_background": "light"
          }
        }
      ]
    },
    {
      "cell_type": "code",
      "source": [],
      "metadata": {
        "id": "vyq0o8f2pcqa"
      },
      "execution_count": null,
      "outputs": []
    },
    {
      "cell_type": "markdown",
      "source": [
        "## R square\n",
        "\n",
        "R² es una medida estadística de qué tan cerca están los datos de la línea de regresión ajustada. También se conoce como el coeficiente de determinación o el coeficiente de determinación múltiple para la regresión múltiple. Para decirlo en un lenguaje más simple, R² es una medida de ajuste para los modelos de regresión lineal.\n",
        "\n",
        "\n",
        "\n",
        "R² no indica si un modelo de regresión se ajusta adecuadamente a sus datos. Un buen modelo puede tener un valor R² bajo. Por otro lado, un modelo sesgado puede tener un valor alto de R².\n",
        "\n",
        " SSres + SSreg = SStot, R² = Explained variation / Total Variation\n",
        " \n",
        " ![image.png](https://i.stack.imgur.com/xb1VY.png)\n",
        " \n",
        "![image.png](https://3.bp.blogspot.com/-MFqQLwbGwd4/WMO7tz39beI/AAAAAAAAF9I/Bjpfohgv_5E4lu7HzHJBQtXsBM--byqPwCLcB/s1600/rsquared.png)\n"
      ],
      "metadata": {
        "id": "TIFwAtW1pc6h"
      }
    },
    {
      "cell_type": "markdown",
      "metadata": {
        "id": "nTKFj4x9LMXm"
      },
      "source": [
        "# Ejercicio 1\n",
        "\n",
        "Utiliza la base de datos de \n",
        "https://www.kaggle.com/vinicius150987/manufacturing-cost\n",
        "\n",
        "Suponga que trabaja como consultor de una empresa de nueva creación que busca desarrollar un modelo para estimar el costo de los bienes vendidos a medida que varían el volumen de producción (número de unidades producidas). La startup recopiló datos y le pidió que desarrollara un modelo para predecir su costo frente a la cantidad de unidades vendidas."
      ]
    },
    {
      "cell_type": "code",
      "source": [
        "import numpy as np\n",
        "%matplotlib inline\n",
        "import matplotlib\n",
        "import matplotlib.pyplot as plt\n",
        "import pandas as pd\n",
        "import seaborn as sns\n",
        "# to make this notebook's output stable across runs\n",
        "np.random.seed(42)"
      ],
      "metadata": {
        "id": "m4YV8WyJSiIN"
      },
      "execution_count": 6,
      "outputs": []
    },
    {
      "cell_type": "code",
      "metadata": {
        "colab": {
          "base_uri": "https://localhost:8080/",
          "height": 363
        },
        "id": "oTnErQOkL3oa",
        "outputId": "f8c1ad3f-f458-42a1-a3a4-c23e21f12dad"
      },
      "source": [
        "import pandas as pd\n",
        "df = pd.read_csv('https://raw.githubusercontent.com/marypazrf/bdd/main/EconomiesOfScale.csv')\n",
        "df.sample(10)"
      ],
      "execution_count": 1,
      "outputs": [
        {
          "output_type": "execute_result",
          "data": {
            "text/plain": [
              "     Number of Units  Manufacturing Cost\n",
              "635         4.950911           42.020070\n",
              "797         5.536360           35.230730\n",
              "403         4.142276           34.982691\n",
              "628         4.934726           47.254788\n",
              "4           1.298773           98.777013\n",
              "901         6.124839           29.785536\n",
              "519         4.510989           39.014060\n",
              "931         6.476508           30.222178\n",
              "95          2.761981           48.258282\n",
              "818         5.618099           32.063596"
            ],
            "text/html": [
              "\n",
              "  <div id=\"df-4b0fba0a-05ac-47ea-90cb-b64660240ba5\">\n",
              "    <div class=\"colab-df-container\">\n",
              "      <div>\n",
              "<style scoped>\n",
              "    .dataframe tbody tr th:only-of-type {\n",
              "        vertical-align: middle;\n",
              "    }\n",
              "\n",
              "    .dataframe tbody tr th {\n",
              "        vertical-align: top;\n",
              "    }\n",
              "\n",
              "    .dataframe thead th {\n",
              "        text-align: right;\n",
              "    }\n",
              "</style>\n",
              "<table border=\"1\" class=\"dataframe\">\n",
              "  <thead>\n",
              "    <tr style=\"text-align: right;\">\n",
              "      <th></th>\n",
              "      <th>Number of Units</th>\n",
              "      <th>Manufacturing Cost</th>\n",
              "    </tr>\n",
              "  </thead>\n",
              "  <tbody>\n",
              "    <tr>\n",
              "      <th>635</th>\n",
              "      <td>4.950911</td>\n",
              "      <td>42.020070</td>\n",
              "    </tr>\n",
              "    <tr>\n",
              "      <th>797</th>\n",
              "      <td>5.536360</td>\n",
              "      <td>35.230730</td>\n",
              "    </tr>\n",
              "    <tr>\n",
              "      <th>403</th>\n",
              "      <td>4.142276</td>\n",
              "      <td>34.982691</td>\n",
              "    </tr>\n",
              "    <tr>\n",
              "      <th>628</th>\n",
              "      <td>4.934726</td>\n",
              "      <td>47.254788</td>\n",
              "    </tr>\n",
              "    <tr>\n",
              "      <th>4</th>\n",
              "      <td>1.298773</td>\n",
              "      <td>98.777013</td>\n",
              "    </tr>\n",
              "    <tr>\n",
              "      <th>901</th>\n",
              "      <td>6.124839</td>\n",
              "      <td>29.785536</td>\n",
              "    </tr>\n",
              "    <tr>\n",
              "      <th>519</th>\n",
              "      <td>4.510989</td>\n",
              "      <td>39.014060</td>\n",
              "    </tr>\n",
              "    <tr>\n",
              "      <th>931</th>\n",
              "      <td>6.476508</td>\n",
              "      <td>30.222178</td>\n",
              "    </tr>\n",
              "    <tr>\n",
              "      <th>95</th>\n",
              "      <td>2.761981</td>\n",
              "      <td>48.258282</td>\n",
              "    </tr>\n",
              "    <tr>\n",
              "      <th>818</th>\n",
              "      <td>5.618099</td>\n",
              "      <td>32.063596</td>\n",
              "    </tr>\n",
              "  </tbody>\n",
              "</table>\n",
              "</div>\n",
              "      <button class=\"colab-df-convert\" onclick=\"convertToInteractive('df-4b0fba0a-05ac-47ea-90cb-b64660240ba5')\"\n",
              "              title=\"Convert this dataframe to an interactive table.\"\n",
              "              style=\"display:none;\">\n",
              "        \n",
              "  <svg xmlns=\"http://www.w3.org/2000/svg\" height=\"24px\"viewBox=\"0 0 24 24\"\n",
              "       width=\"24px\">\n",
              "    <path d=\"M0 0h24v24H0V0z\" fill=\"none\"/>\n",
              "    <path d=\"M18.56 5.44l.94 2.06.94-2.06 2.06-.94-2.06-.94-.94-2.06-.94 2.06-2.06.94zm-11 1L8.5 8.5l.94-2.06 2.06-.94-2.06-.94L8.5 2.5l-.94 2.06-2.06.94zm10 10l.94 2.06.94-2.06 2.06-.94-2.06-.94-.94-2.06-.94 2.06-2.06.94z\"/><path d=\"M17.41 7.96l-1.37-1.37c-.4-.4-.92-.59-1.43-.59-.52 0-1.04.2-1.43.59L10.3 9.45l-7.72 7.72c-.78.78-.78 2.05 0 2.83L4 21.41c.39.39.9.59 1.41.59.51 0 1.02-.2 1.41-.59l7.78-7.78 2.81-2.81c.8-.78.8-2.07 0-2.86zM5.41 20L4 18.59l7.72-7.72 1.47 1.35L5.41 20z\"/>\n",
              "  </svg>\n",
              "      </button>\n",
              "      \n",
              "  <style>\n",
              "    .colab-df-container {\n",
              "      display:flex;\n",
              "      flex-wrap:wrap;\n",
              "      gap: 12px;\n",
              "    }\n",
              "\n",
              "    .colab-df-convert {\n",
              "      background-color: #E8F0FE;\n",
              "      border: none;\n",
              "      border-radius: 50%;\n",
              "      cursor: pointer;\n",
              "      display: none;\n",
              "      fill: #1967D2;\n",
              "      height: 32px;\n",
              "      padding: 0 0 0 0;\n",
              "      width: 32px;\n",
              "    }\n",
              "\n",
              "    .colab-df-convert:hover {\n",
              "      background-color: #E2EBFA;\n",
              "      box-shadow: 0px 1px 2px rgba(60, 64, 67, 0.3), 0px 1px 3px 1px rgba(60, 64, 67, 0.15);\n",
              "      fill: #174EA6;\n",
              "    }\n",
              "\n",
              "    [theme=dark] .colab-df-convert {\n",
              "      background-color: #3B4455;\n",
              "      fill: #D2E3FC;\n",
              "    }\n",
              "\n",
              "    [theme=dark] .colab-df-convert:hover {\n",
              "      background-color: #434B5C;\n",
              "      box-shadow: 0px 1px 3px 1px rgba(0, 0, 0, 0.15);\n",
              "      filter: drop-shadow(0px 1px 2px rgba(0, 0, 0, 0.3));\n",
              "      fill: #FFFFFF;\n",
              "    }\n",
              "  </style>\n",
              "\n",
              "      <script>\n",
              "        const buttonEl =\n",
              "          document.querySelector('#df-4b0fba0a-05ac-47ea-90cb-b64660240ba5 button.colab-df-convert');\n",
              "        buttonEl.style.display =\n",
              "          google.colab.kernel.accessAllowed ? 'block' : 'none';\n",
              "\n",
              "        async function convertToInteractive(key) {\n",
              "          const element = document.querySelector('#df-4b0fba0a-05ac-47ea-90cb-b64660240ba5');\n",
              "          const dataTable =\n",
              "            await google.colab.kernel.invokeFunction('convertToInteractive',\n",
              "                                                     [key], {});\n",
              "          if (!dataTable) return;\n",
              "\n",
              "          const docLinkHtml = 'Like what you see? Visit the ' +\n",
              "            '<a target=\"_blank\" href=https://colab.research.google.com/notebooks/data_table.ipynb>data table notebook</a>'\n",
              "            + ' to learn more about interactive tables.';\n",
              "          element.innerHTML = '';\n",
              "          dataTable['output_type'] = 'display_data';\n",
              "          await google.colab.output.renderOutput(dataTable, element);\n",
              "          const docLink = document.createElement('div');\n",
              "          docLink.innerHTML = docLinkHtml;\n",
              "          element.appendChild(docLink);\n",
              "        }\n",
              "      </script>\n",
              "    </div>\n",
              "  </div>\n",
              "  "
            ]
          },
          "metadata": {},
          "execution_count": 1
        }
      ]
    },
    {
      "cell_type": "code",
      "metadata": {
        "id": "14kGO5nkMGlV"
      },
      "source": [
        "X = df[['Number of Units']]\n",
        "y = df['Manufacturing Cost']"
      ],
      "execution_count": 2,
      "outputs": []
    },
    {
      "cell_type": "code",
      "source": [
        "len(X)"
      ],
      "metadata": {
        "id": "ksh_OrkjY3GW",
        "outputId": "d1c0a355-981b-4ac4-f529-393d4ddf78e6",
        "colab": {
          "base_uri": "https://localhost:8080/"
        }
      },
      "execution_count": 3,
      "outputs": [
        {
          "output_type": "execute_result",
          "data": {
            "text/plain": [
              "1000"
            ]
          },
          "metadata": {},
          "execution_count": 3
        }
      ]
    },
    {
      "cell_type": "code",
      "source": [
        "y.describe"
      ],
      "metadata": {
        "colab": {
          "base_uri": "https://localhost:8080/"
        },
        "id": "bwR6SSqQDfC2",
        "outputId": "4c97ff5a-0afb-4e21-ce13-6d66cd7456d6"
      },
      "execution_count": 4,
      "outputs": [
        {
          "output_type": "execute_result",
          "data": {
            "text/plain": [
              "<bound method NDFrame.describe of 0      95.066056\n",
              "1      96.531750\n",
              "2      73.661311\n",
              "3      95.566843\n",
              "4      98.777013\n",
              "         ...    \n",
              "995    23.855067\n",
              "996    27.536542\n",
              "997    25.973787\n",
              "998    25.138311\n",
              "999    21.547777\n",
              "Name: Manufacturing Cost, Length: 1000, dtype: float64>"
            ]
          },
          "metadata": {},
          "execution_count": 4
        }
      ]
    },
    {
      "cell_type": "code",
      "metadata": {
        "colab": {
          "base_uri": "https://localhost:8080/",
          "height": 282
        },
        "id": "idoEjfEhMoxk",
        "outputId": "403a09aa-2498-4a58-a66e-bcf5d7f70241"
      },
      "source": [
        "plt.plot(X,y,'b.')"
      ],
      "execution_count": 7,
      "outputs": [
        {
          "output_type": "execute_result",
          "data": {
            "text/plain": [
              "[<matplotlib.lines.Line2D at 0x7f67922a3610>]"
            ]
          },
          "metadata": {},
          "execution_count": 7
        },
        {
          "output_type": "display_data",
          "data": {
            "text/plain": [
              "<Figure size 432x288 with 1 Axes>"
            ],
            "image/png": "[encoded data removed]"
          },
          "metadata": {
            "needs_background": "light"
          }
        }
      ]
    },
    {
      "cell_type": "markdown",
      "source": [
        "**Lineal Regression:**"
      ],
      "metadata": {
        "id": "cj1nhkt2SqF-"
      }
    },
    {
      "cell_type": "code",
      "source": [
        "# Primero hacemos un split de los datos\n",
        "from sklearn.model_selection import train_test_split\n",
        "X_tv,X_test,y_tv,y_test=train_test_split(X,y,test_size=0.3,random_state=8)\n"
      ],
      "metadata": {
        "id": "kMmOy97puOLE"
      },
      "execution_count": 161,
      "outputs": []
    },
    {
      "cell_type": "code",
      "source": [
        "from sklearn.linear_model import LinearRegression\n",
        "\n",
        "LR=LinearRegression()\n",
        "LR.fit(X_tv,y_tv)\n",
        "y_pred_lin=LR.predict(X_test)\n",
        "\n",
        "plt.scatter(X_test, y_test)\n",
        "plt.plot(X_test, y_pred_lin, \"r-\", linewidth=2, label=\"Predictions\")\n",
        "plt.xlabel(\"$X$\", fontsize=18)\n",
        "plt.ylabel(\"$y$\", rotation=0, fontsize=18)\n",
        "plt.legend(loc=\"upper left\", fontsize=14);"
      ],
      "metadata": {
        "colab": {
          "base_uri": "https://localhost:8080/",
          "height": 287
        },
        "id": "RqIrFVR4SyCx",
        "outputId": "d2dacfa2-e961-49a9-c006-7aa15cb9cf15"
      },
      "execution_count": 162,
      "outputs": [
        {
          "output_type": "display_data",
          "data": {
            "text/plain": [
              "<Figure size 432x288 with 1 Axes>"
            ],
            "image/png": "[encoded data removed]"
          },
          "metadata": {
            "needs_background": "light"
          }
        }
      ]
    },
    {
      "cell_type": "markdown",
      "source": [
        "Encontremos los coeficientes de la funcion, y sus respectivos coeficientes de error como R2 y MAE."
      ],
      "metadata": {
        "id": "h-ZTUUxHS6No"
      }
    },
    {
      "cell_type": "code",
      "source": [
        "from sklearn import metrics\n",
        "from sklearn.metrics import r2_score\n",
        "\n",
        "list_MAE=[]\n",
        "list_R2=[]\n",
        "\n",
        "mae=metrics.mean_absolute_error(y_test, y_pred_lin)\n",
        "r2=r2_score(y_test, y_pred_lin)\n",
        "\n",
        "list_MAE.append(mae)\n",
        "list_R2.append(r2)\n",
        "print('Error medio Absoluto (MAE):', metrics.mean_absolute_error(y_test, y_pred_lin))\n",
        "print('Root Mean Squared Error:', np.sqrt(metrics.mean_squared_error(y_test, y_pred_lin)))\n",
        "print('r2_score',r2_score(y_test, y_pred_lin))"
      ],
      "metadata": {
        "colab": {
          "base_uri": "https://localhost:8080/"
        },
        "id": "Rc7c9HsSS2r3",
        "outputId": "db86693e-0d67-43d7-a661-1ba9a4fd4970"
      },
      "execution_count": 163,
      "outputs": [
        {
          "output_type": "stream",
          "name": "stdout",
          "text": [
            "Error medio Absoluto (MAE): 4.850630520117253\n",
            "Root Mean Squared Error: 6.833841737376273\n",
            "r2_score 0.5798838950837469\n"
          ]
        }
      ]
    },
    {
      "cell_type": "code",
      "source": [
        "# Coeficientes de la funcion\n",
        "LR.coef_, LR.intercept_"
      ],
      "metadata": {
        "colab": {
          "base_uri": "https://localhost:8080/"
        },
        "id": "JHSlGnYzTNs5",
        "outputId": "bb46701e-4473-41be-e26f-60c42e43ec44"
      },
      "execution_count": 164,
      "outputs": [
        {
          "output_type": "execute_result",
          "data": {
            "text/plain": [
              "(array([-5.95829066]), 66.57464345668173)"
            ]
          },
          "metadata": {},
          "execution_count": 164
        }
      ]
    },
    {
      "cell_type": "markdown",
      "source": [
        "Funcion: <br>\n",
        "\n",
        "${\\hat{y}=-5.95x+66.57}$"
      ],
      "metadata": {
        "id": "5OoXmJd4TzYR"
      }
    },
    {
      "cell_type": "markdown",
      "source": [
        "**Regresion Polinomial**"
      ],
      "metadata": {
        "id": "v04KaoV8tzvb"
      }
    },
    {
      "cell_type": "code",
      "source": [
        "# Slipt data\n",
        "from sklearn.model_selection import train_test_split\n",
        "X_tv,X_test,y_tv,y_test=train_test_split(X,y,test_size=0.3,random_state=6)"
      ],
      "metadata": {
        "id": "nf27zUC9Zx3u"
      },
      "execution_count": 165,
      "outputs": []
    },
    {
      "cell_type": "code",
      "source": [
        "#polinomial\n",
        "from sklearn.preprocessing import PolynomialFeatures\n",
        "\n",
        "poly=PolynomialFeatures(2)\n",
        "\n",
        "X_test.values.sort(axis=0)\n",
        "X_poly_train=poly.fit_transform(X_tv)\n",
        "X_poly_test=poly.fit_transform(X_test)\n",
        "\n",
        "\n",
        "LR=LinearRegression()\n",
        "LR.fit(X_poly_train,y_tv)\n",
        "\n",
        "\n",
        "y_pred =LR.predict(X_poly_test)\n",
        "\n",
        "# Grafica\n",
        "plt.scatter(X_test, y_test)\n",
        "plt.plot(X_test, y_pred, \"r-\", linewidth=2, label=\"Predictions\")\n",
        "plt.xlabel(\"$X$\", fontsize=18)\n",
        "plt.ylabel(\"$y$\", rotation=0, fontsize=18)\n",
        "plt.legend(loc=\"upper left\", fontsize=14)\n",
        "\n",
        "#Errors\n",
        "mae=metrics.mean_absolute_error(y_test, y_pred)\n",
        "r2=r2_score(y_test, y_pred)\n",
        "\n",
        "list_MAE.append(mae)\n",
        "list_R2.append(r2)\n",
        "print('Error medio Absoluto (MAE):', mae)\n",
        "print('Root Mean Squared Error:', np.sqrt(metrics.mean_squared_error(y_test, y_pred)))\n",
        "print('r2_score',r2)"
      ],
      "metadata": {
        "colab": {
          "base_uri": "https://localhost:8080/",
          "height": 339
        },
        "id": "rhiTpK2yXuVj",
        "outputId": "9b3427a2-1d62-468c-92e6-274cb3092889"
      },
      "execution_count": 166,
      "outputs": [
        {
          "output_type": "stream",
          "name": "stdout",
          "text": [
            "Error medio Absoluto (MAE): 10.09828878271694\n",
            "Root Mean Squared Error: 13.679570444780149\n",
            "r2_score -0.6809373225652562\n"
          ]
        },
        {
          "output_type": "display_data",
          "data": {
            "text/plain": [
              "<Figure size 432x288 with 1 Axes>"
            ],
            "image/png": "[encoded data removed]"
          },
          "metadata": {
            "needs_background": "light"
          }
        }
      ]
    },
    {
      "cell_type": "markdown",
      "source": [
        "Obetenemos los coeficientes del polinomio"
      ],
      "metadata": {
        "id": "gvQUSfmRYlxr"
      }
    },
    {
      "cell_type": "code",
      "source": [
        "LR.coef_, LR.intercept_"
      ],
      "metadata": {
        "colab": {
          "base_uri": "https://localhost:8080/"
        },
        "id": "lfX-d0Y8YowH",
        "outputId": "90e05caa-bd1a-4dca-ebdd-51dc625a7229"
      },
      "execution_count": 84,
      "outputs": [
        {
          "output_type": "execute_result",
          "data": {
            "text/plain": [
              "(array([  0.       , -16.7124535,   1.1512094]), 89.83936399769576)"
            ]
          },
          "metadata": {},
          "execution_count": 84
        }
      ]
    },
    {
      "cell_type": "markdown",
      "source": [
        "${\\hat{y}=-16.71x+1.15x^2+89.83}$"
      ],
      "metadata": {
        "id": "IL4m_jPUYq5e"
      }
    },
    {
      "cell_type": "markdown",
      "source": [
        "**Regresión con Ridge**"
      ],
      "metadata": {
        "id": "LtJ86CFgvtrC"
      }
    },
    {
      "cell_type": "code",
      "source": [
        "# Primero hacemos un split igual que en el pasado modelo polinomial\n",
        "from sklearn.model_selection import train_test_split\n",
        "X_tv,X_test,y_tv,y_test=train_test_split(X,y,test_size=0.3,random_state=7)"
      ],
      "metadata": {
        "id": "i29hyNBXb_fa"
      },
      "execution_count": 167,
      "outputs": []
    },
    {
      "cell_type": "code",
      "source": [
        "#ridge\n",
        "from sklearn.linear_model import Ridge\n",
        "from sklearn.preprocessing import StandardScaler\n",
        "from sklearn.pipeline import Pipeline\n",
        "\n",
        "# reacomodar valores\n",
        "X_test.values.sort(axis=0)\n",
        "\n",
        "model_ridge = Pipeline([(\"poly_features\", PolynomialFeatures(degree=3, include_bias=False)),\n",
        "                  (\"scaler\", StandardScaler()),\n",
        "                  (\"ridge\", Ridge(alpha = 6, solver = 'cholesky', random_state = 42))])\n",
        "model_ridge.fit(X_tv, y_tv)\n",
        "\n",
        "\n",
        "y_pred_r = model_ridge.predict(X_test)\n",
        "\n",
        "plt.scatter(X_test, y_test)\n",
        "plt.plot(X_test, y_pred_r, \"r-\", linewidth=2, label=\"Predictions\")\n",
        "plt.xlabel(\"$X$\", fontsize=18)\n",
        "plt.ylabel(\"$y$\", rotation=0, fontsize=18)\n",
        "plt.legend(loc=\"upper left\", fontsize=14);"
      ],
      "metadata": {
        "colab": {
          "base_uri": "https://localhost:8080/",
          "height": 287
        },
        "id": "aa5A8MVdcRXL",
        "outputId": "db08760c-5484-487e-d2c1-4e894c84288f"
      },
      "execution_count": 168,
      "outputs": [
        {
          "output_type": "display_data",
          "data": {
            "text/plain": [
              "<Figure size 432x288 with 1 Axes>"
            ],
            "image/png": "[encoded data removed]"
          },
          "metadata": {
            "needs_background": "light"
          }
        }
      ]
    },
    {
      "cell_type": "code",
      "source": [
        "# Errors\n",
        "mae=metrics.mean_absolute_error(y_test, y_pred_r)\n",
        "r2=r2_score(y_test, y_pred_r)\n",
        "\n",
        "list_MAE.append(mae)\n",
        "list_R2.append(r2)\n",
        "print('Error medio Absoluto (MAE):', mae)\n",
        "print('Root Mean Squared Error:', np.sqrt(metrics.mean_squared_error(y_test, y_pred_r)))\n",
        "print('r2_score',r2)"
      ],
      "metadata": {
        "colab": {
          "base_uri": "https://localhost:8080/"
        },
        "id": "au8QIT71c1e8",
        "outputId": "0883595f-eaa1-4f28-b743-f58a2eef074d"
      },
      "execution_count": 169,
      "outputs": [
        {
          "output_type": "stream",
          "name": "stdout",
          "text": [
            "Error medio Absoluto (MAE): 9.856975023421832\n",
            "Root Mean Squared Error: 13.1844295935827\n",
            "r2_score -0.6612666814276205\n"
          ]
        }
      ]
    },
    {
      "cell_type": "markdown",
      "source": [
        "Ahora encontremos los coeficientes dados con Ridge"
      ],
      "metadata": {
        "id": "hWiEDNPFgvsc"
      }
    },
    {
      "cell_type": "code",
      "source": [
        "model_ridge.named_steps['ridge'].coef_, model_ridge.named_steps['ridge'].intercept_"
      ],
      "metadata": {
        "colab": {
          "base_uri": "https://localhost:8080/"
        },
        "id": "NHbOxXlsgu3V",
        "outputId": "c6e241a2-c9c7-4851-bfae-7207bd833c3b"
      },
      "execution_count": 148,
      "outputs": [
        {
          "output_type": "execute_result",
          "data": {
            "text/plain": [
              "(array([-15.98364264,   2.8727073 ,   5.49054084]), 40.24691190134286)"
            ]
          },
          "metadata": {},
          "execution_count": 148
        }
      ]
    },
    {
      "cell_type": "markdown",
      "source": [
        "${\\hat{y}=-15.98x+2.87x^2+5.49x^3+40.24}$"
      ],
      "metadata": {
        "id": "PamuBQ_Hg3ka"
      }
    },
    {
      "cell_type": "markdown",
      "source": [
        "**Regresion con Lasso**"
      ],
      "metadata": {
        "id": "zy20mW6g3fKG"
      }
    },
    {
      "cell_type": "code",
      "source": [
        "#lasso\n",
        "from sklearn.linear_model import Lasso\n",
        "\n",
        "\n",
        "\n",
        "\n",
        "model_lasso = Pipeline([(\"poly_features\", PolynomialFeatures(degree=3, include_bias=False)),\n",
        "                  (\"scaler\", StandardScaler()),\n",
        "                  (\"lasso\", Lasso(alpha = 6, random_state = 42))])\n",
        "model_lasso.fit(X_tv, y_tv)\n",
        "\n",
        "\n",
        "y_pred_lasso = model_lasso.predict(X_test)\n",
        "\n",
        "plt.scatter(X_test, y_test)\n",
        "plt.plot(X_test, y_pred_lasso, \"r-\", linewidth=2, label=\"Predictions\")\n",
        "plt.xlabel(\"$X$\", fontsize=18)\n",
        "plt.ylabel(\"$y$\", rotation=0, fontsize=18)\n",
        "plt.legend(loc=\"upper left\", fontsize=14)"
      ],
      "metadata": {
        "id": "wlkmZ9y03idt",
        "colab": {
          "base_uri": "https://localhost:8080/",
          "height": 287
        },
        "outputId": "a8f1bd8d-9fe4-4f86-d5e3-e1daf8d00fe3"
      },
      "execution_count": 152,
      "outputs": [
        {
          "output_type": "display_data",
          "data": {
            "text/plain": [
              "<Figure size 432x288 with 1 Axes>"
            ],
            "image/png": "[encoded data removed]"
          },
          "metadata": {
            "needs_background": "light"
          }
        }
      ]
    },
    {
      "cell_type": "markdown",
      "source": [
        "Podemos ver como incluso con el mismo alfa tenemos una penalizacion mas fuerte en el metodo de lasso. Esto tambien afectara a nuestros coeficientes de error. y nuestros coeficientes."
      ],
      "metadata": {
        "id": "eIbI4H2AhYUq"
      }
    },
    {
      "cell_type": "markdown",
      "source": [
        "Cambiemos el valore de alfa."
      ],
      "metadata": {
        "id": "SaN8-YCvh6gl"
      }
    },
    {
      "cell_type": "code",
      "source": [
        "#lasso\n",
        "from sklearn.linear_model import Lasso\n",
        "\n",
        "\n",
        "\n",
        "\n",
        "model_lasso = Pipeline([(\"poly_features\", PolynomialFeatures(degree=3, include_bias=False)),\n",
        "                  (\"scaler\", StandardScaler()),\n",
        "                  (\"lasso\", Lasso(alpha = 2.5, random_state = 42))])\n",
        "model_lasso.fit(X_tv, y_tv)\n",
        "\n",
        "\n",
        "y_pred_lasso = model_lasso.predict(X_test)\n",
        "\n",
        "plt.scatter(X_test, y_test)\n",
        "plt.plot(X_test, y_pred_lasso, \"r-\", linewidth=2, label=\"Predictions\")\n",
        "plt.xlabel(\"$X$\", fontsize=18)\n",
        "plt.ylabel(\"$y$\", rotation=0, fontsize=18)\n",
        "plt.legend(loc=\"upper left\", fontsize=14)"
      ],
      "metadata": {
        "colab": {
          "base_uri": "https://localhost:8080/",
          "height": 304
        },
        "id": "UDSCcaHfiBP9",
        "outputId": "a6195914-33b2-4757-f536-c7e48de7bb47"
      },
      "execution_count": 170,
      "outputs": [
        {
          "output_type": "execute_result",
          "data": {
            "text/plain": [
              "<matplotlib.legend.Legend at 0x7f678f355550>"
            ]
          },
          "metadata": {},
          "execution_count": 170
        },
        {
          "output_type": "display_data",
          "data": {
            "text/plain": [
              "<Figure size 432x288 with 1 Axes>"
            ],
            "image/png": "[encoded data removed]"
          },
          "metadata": {
            "needs_background": "light"
          }
        }
      ]
    },
    {
      "cell_type": "code",
      "source": [
        "mae=metrics.mean_absolute_error(y_test, y_pred_lasso)\n",
        "r2=r2_score(y_test, y_pred_lasso)\n",
        "\n",
        "list_MAE.append(mae)\n",
        "list_R2.append(r2)\n",
        "print('Error medio Absoluto (MAE):', mae)\n",
        "print('Root Mean Squared Error:', np.sqrt(metrics.mean_squared_error(y_test, y_pred_lasso)))\n",
        "print('r2_score',r2)"
      ],
      "metadata": {
        "colab": {
          "base_uri": "https://localhost:8080/"
        },
        "id": "YApgd8uYhfG4",
        "outputId": "2c3d4a09-14c0-4584-ec23-0eb5a29424aa"
      },
      "execution_count": 171,
      "outputs": [
        {
          "output_type": "stream",
          "name": "stdout",
          "text": [
            "Error medio Absoluto (MAE): 9.119137295391207\n",
            "Root Mean Squared Error: 12.083950950937835\n",
            "r2_score -0.3955152016898764\n"
          ]
        }
      ]
    },
    {
      "cell_type": "code",
      "source": [
        "model_lasso.named_steps['lasso'].coef_, model_lasso.named_steps['lasso'].intercept_"
      ],
      "metadata": {
        "colab": {
          "base_uri": "https://localhost:8080/"
        },
        "id": "lFUvBxH5hqgX",
        "outputId": "0a4e684c-2606-4d29-9ad9-f85a77ebe83e"
      },
      "execution_count": 159,
      "outputs": [
        {
          "output_type": "execute_result",
          "data": {
            "text/plain": [
              "(array([-5.67335058, -0.        , -0.        ]), 40.24691190134286)"
            ]
          },
          "metadata": {},
          "execution_count": 159
        }
      ]
    },
    {
      "cell_type": "markdown",
      "source": [
        "${\\hat{y}=-5.67x+40.24}$"
      ],
      "metadata": {
        "id": "67HtIvwGhr5j"
      }
    },
    {
      "cell_type": "markdown",
      "source": [
        "### **Graficas de MAE y R2**<br>\n",
        "\n",
        "Comparemos los diferentes errores de los modelos que hemos visto."
      ],
      "metadata": {
        "id": "EWQkoovPiPmJ"
      }
    },
    {
      "cell_type": "markdown",
      "source": [
        "**MAE**"
      ],
      "metadata": {
        "id": "LXO2r2gZj58p"
      }
    },
    {
      "cell_type": "code",
      "source": [
        "import seaborn as sns\n",
        "sns.barplot(x=[\"Lineal\",\"Polinomial\",\"Ridge\",\"Lasso\"],y=list_MAE, palette=\"Paired\")\n",
        "plt.title(\"MAE\")\n",
        "plt.show()"
      ],
      "metadata": {
        "colab": {
          "base_uri": "https://localhost:8080/",
          "height": 281
        },
        "id": "gjzphawQih2U",
        "outputId": "cf5d4bfa-ef37-4d56-bc27-e5c060a5b267"
      },
      "execution_count": 183,
      "outputs": [
        {
          "output_type": "display_data",
          "data": {
            "text/plain": [
              "<Figure size 432x288 with 1 Axes>"
            ],
            "image/png": "[encoded data removed]"
          },
          "metadata": {
            "needs_background": "light"
          }
        }
      ]
    },
    {
      "cell_type": "markdown",
      "source": [
        "**R2**"
      ],
      "metadata": {
        "id": "3GssF450kl-i"
      }
    },
    {
      "cell_type": "code",
      "source": [
        "sns.barplot(x=[\"Lineal\",\"Polinomial\",\"Ridge\",\"Lasso\"],y=list_R2, palette=\"Paired\")\n",
        "plt.title(\"R2\")\n",
        "plt.show()"
      ],
      "metadata": {
        "colab": {
          "base_uri": "https://localhost:8080/",
          "height": 281
        },
        "id": "3-mL1AIaih-g",
        "outputId": "fcc40105-83b5-4635-a638-ea23f9fa9c4a"
      },
      "execution_count": 184,
      "outputs": [
        {
          "output_type": "display_data",
          "data": {
            "text/plain": [
              "<Figure size 432x288 with 1 Axes>"
            ],
            "image/png": "[encoded data removed]"
          },
          "metadata": {
            "needs_background": "light"
          }
        }
      ]
    },
    {
      "cell_type": "markdown",
      "source": [
        "## **Explica tus resultados, que método conviene más a la empresa, ¿por que?, ¿que porcentajes de entrenamiento y evaluación usaste?, ¿que error tienes?, ¿es bueno?, ¿cómo lo sabes?**<br>\n",
        "\n",
        "\n",
        "En base a lo realizado durante este ejercisio primero necesitamos aclarar unos puntos en cuanto al comportamiento dado con los diferentes parametros que se configuraron para el entrenamiento y el test de los modelos.\n",
        "\n",
        "Con lo anterior podemos ver como los modelos polinmial, ridge y con lasso tienen un R2 con valor negativo, lo cual da una imagen demasiado optimista del ajuste de regression en el entrenamiento. Siendo un fuerte indicador de posible sobreentrenamiento(overfitting).\n",
        "\n",
        "Con el modelo lineal obtenemos un R2 de 0.6 y con un MAE de 4.5 dolares, muy lejano a los valores de 10 que obtenemos de los modelos polinomiales.\n",
        "\n",
        "Dicho esto podemos decir que el mejor modelo para utilizar por la empresa es el modelo lineal con  el R2 y MAE mas aceptables. En el caso del MAE lineal de 4.5 dolares esta por debajo de la STD de nuestro data set de 10 dolares.\n",
        "El modelo lineal es el que tiene mejores valores de MAE y de R2 para una posible implementacion.\n",
        "\n"
      ],
      "metadata": {
        "id": "83ne5Ig8k5Ie"
      }
    },
    {
      "cell_type": "markdown",
      "metadata": {
        "id": "CfqcmLmxLoe9"
      },
      "source": [
        "#Ejercicio 2\n",
        "Realiza la regresión polinomial de los siguientes datos:"
      ]
    },
    {
      "cell_type": "code",
      "source": [
        "df = pd.read_csv('https://raw.githubusercontent.com/marypazrf/bdd/main/kc_house_data.csv')\n",
        "df.sample(10)"
      ],
      "metadata": {
        "id": "57bn0j38qGrg",
        "colab": {
          "base_uri": "https://localhost:8080/",
          "height": 392
        },
        "outputId": "44e31f23-fa86-433c-81ec-6d1d7abc42d4"
      },
      "execution_count": 185,
      "outputs": [
        {
          "output_type": "execute_result",
          "data": {
            "text/plain": [
              "               id             date      price  bedrooms  bathrooms  \\\n",
              "735    2591820310  20141006T000000   365000.0         4       2.25   \n",
              "2830   7974200820  20140821T000000   865000.0         5       3.00   \n",
              "4106   7701450110  20140815T000000  1038000.0         4       2.50   \n",
              "16218  9522300010  20150331T000000  1490000.0         3       3.50   \n",
              "19964  9510861140  20140714T000000   711000.0         3       2.50   \n",
              "1227   1761300310  20140827T000000   211000.0         4       2.00   \n",
              "18849  7732410120  20140819T000000   790000.0         4       2.50   \n",
              "19369  7010701383  20141017T000000   680000.0         3       2.50   \n",
              "20164   291310170  20140804T000000   384500.0         3       2.50   \n",
              "7139   4232901990  20140516T000000   605000.0         2       1.00   \n",
              "\n",
              "       sqft_living  sqft_lot  floors  waterfront  view  ...  grade  \\\n",
              "735           2070      8893     2.0           0     0  ...      8   \n",
              "2830          2900      6730     1.0           0     0  ...      8   \n",
              "4106          3770     10893     2.0           0     2  ...     11   \n",
              "16218         4560     14608     2.0           0     2  ...     12   \n",
              "19964         2550      5376     2.0           0     0  ...      9   \n",
              "1227          1710      8288     1.5           0     0  ...      7   \n",
              "18849         2690      8036     2.0           0     0  ...      9   \n",
              "19369         1800      4400     1.0           0     0  ...      7   \n",
              "20164         1600      2610     2.0           0     0  ...      8   \n",
              "7139           910      3600     1.0           0     0  ...      7   \n",
              "\n",
              "       sqft_above  sqft_basement  yr_built  yr_renovated  zipcode      lat  \\\n",
              "735          2070              0      1986             0    98058  47.4388   \n",
              "2830         1830           1070      1977             0    98115  47.6784   \n",
              "4106         3770              0      1997             0    98006  47.5646   \n",
              "16218        4560              0      1990             0    98034  47.6995   \n",
              "19964        2550              0      2004             0    98052  47.6647   \n",
              "1227         1710              0      1970             0    98031  47.3947   \n",
              "18849        2690              0      1987             0    98007  47.6596   \n",
              "19369        1350            450      1970             0    98199  47.6599   \n",
              "20164        1600              0      2005             0    98027  47.5344   \n",
              "7139          910              0      1909             0    98119  47.6341   \n",
              "\n",
              "          long  sqft_living15  sqft_lot15  \n",
              "735   -122.162           2390        7700  \n",
              "2830  -122.285           2370        6283  \n",
              "4106  -122.129           3710        9685  \n",
              "16218 -122.228           4050       14226  \n",
              "19964 -122.083           2250        4050  \n",
              "1227  -122.174           1710        7200  \n",
              "18849 -122.144           2420        8087  \n",
              "19369 -122.396           1920        4400  \n",
              "20164 -122.068           1445        1288  \n",
              "7139  -122.361           1720        3600  \n",
              "\n",
              "[10 rows x 21 columns]"
            ],
            "text/html": [
              "\n",
              "  <div id=\"df-1a298b52-651c-4188-85c3-27da6593bbbb\">\n",
              "    <div class=\"colab-df-container\">\n",
              "      <div>\n",
              "<style scoped>\n",
              "    .dataframe tbody tr th:only-of-type {\n",
              "        vertical-align: middle;\n",
              "    }\n",
              "\n",
              "    .dataframe tbody tr th {\n",
              "        vertical-align: top;\n",
              "    }\n",
              "\n",
              "    .dataframe thead th {\n",
              "        text-align: right;\n",
              "    }\n",
              "</style>\n",
              "<table border=\"1\" class=\"dataframe\">\n",
              "  <thead>\n",
              "    <tr style=\"text-align: right;\">\n",
              "      <th></th>\n",
              "      <th>id</th>\n",
              "      <th>date</th>\n",
              "      <th>price</th>\n",
              "      <th>bedrooms</th>\n",
              "      <th>bathrooms</th>\n",
              "      <th>sqft_living</th>\n",
              "      <th>sqft_lot</th>\n",
              "      <th>floors</th>\n",
              "      <th>waterfront</th>\n",
              "      <th>view</th>\n",
              "      <th>...</th>\n",
              "      <th>grade</th>\n",
              "      <th>sqft_above</th>\n",
              "      <th>sqft_basement</th>\n",
              "      <th>yr_built</th>\n",
              "      <th>yr_renovated</th>\n",
              "      <th>zipcode</th>\n",
              "      <th>lat</th>\n",
              "      <th>long</th>\n",
              "      <th>sqft_living15</th>\n",
              "      <th>sqft_lot15</th>\n",
              "    </tr>\n",
              "  </thead>\n",
              "  <tbody>\n",
              "    <tr>\n",
              "      <th>735</th>\n",
              "      <td>2591820310</td>\n",
              "      <td>20141006T000000</td>\n",
              "      <td>365000.0</td>\n",
              "      <td>4</td>\n",
              "      <td>2.25</td>\n",
              "      <td>2070</td>\n",
              "      <td>8893</td>\n",
              "      <td>2.0</td>\n",
              "      <td>0</td>\n",
              "      <td>0</td>\n",
              "      <td>...</td>\n",
              "      <td>8</td>\n",
              "      <td>2070</td>\n",
              "      <td>0</td>\n",
              "      <td>1986</td>\n",
              "      <td>0</td>\n",
              "      <td>98058</td>\n",
              "      <td>47.4388</td>\n",
              "      <td>-122.162</td>\n",
              "      <td>2390</td>\n",
              "      <td>7700</td>\n",
              "    </tr>\n",
              "    <tr>\n",
              "      <th>2830</th>\n",
              "      <td>7974200820</td>\n",
              "      <td>20140821T000000</td>\n",
              "      <td>865000.0</td>\n",
              "      <td>5</td>\n",
              "      <td>3.00</td>\n",
              "      <td>2900</td>\n",
              "      <td>6730</td>\n",
              "      <td>1.0</td>\n",
              "      <td>0</td>\n",
              "      <td>0</td>\n",
              "      <td>...</td>\n",
              "      <td>8</td>\n",
              "      <td>1830</td>\n",
              "      <td>1070</td>\n",
              "      <td>1977</td>\n",
              "      <td>0</td>\n",
              "      <td>98115</td>\n",
              "      <td>47.6784</td>\n",
              "      <td>-122.285</td>\n",
              "      <td>2370</td>\n",
              "      <td>6283</td>\n",
              "    </tr>\n",
              "    <tr>\n",
              "      <th>4106</th>\n",
              "      <td>7701450110</td>\n",
              "      <td>20140815T000000</td>\n",
              "      <td>1038000.0</td>\n",
              "      <td>4</td>\n",
              "      <td>2.50</td>\n",
              "      <td>3770</td>\n",
              "      <td>10893</td>\n",
              "      <td>2.0</td>\n",
              "      <td>0</td>\n",
              "      <td>2</td>\n",
              "      <td>...</td>\n",
              "      <td>11</td>\n",
              "      <td>3770</td>\n",
              "      <td>0</td>\n",
              "      <td>1997</td>\n",
              "      <td>0</td>\n",
              "      <td>98006</td>\n",
              "      <td>47.5646</td>\n",
              "      <td>-122.129</td>\n",
              "      <td>3710</td>\n",
              "      <td>9685</td>\n",
              "    </tr>\n",
              "    <tr>\n",
              "      <th>16218</th>\n",
              "      <td>9522300010</td>\n",
              "      <td>20150331T000000</td>\n",
              "      <td>1490000.0</td>\n",
              "      <td>3</td>\n",
              "      <td>3.50</td>\n",
              "      <td>4560</td>\n",
              "      <td>14608</td>\n",
              "      <td>2.0</td>\n",
              "      <td>0</td>\n",
              "      <td>2</td>\n",
              "      <td>...</td>\n",
              "      <td>12</td>\n",
              "      <td>4560</td>\n",
              "      <td>0</td>\n",
              "      <td>1990</td>\n",
              "      <td>0</td>\n",
              "      <td>98034</td>\n",
              "      <td>47.6995</td>\n",
              "      <td>-122.228</td>\n",
              "      <td>4050</td>\n",
              "      <td>14226</td>\n",
              "    </tr>\n",
              "    <tr>\n",
              "      <th>19964</th>\n",
              "      <td>9510861140</td>\n",
              "      <td>20140714T000000</td>\n",
              "      <td>711000.0</td>\n",
              "      <td>3</td>\n",
              "      <td>2.50</td>\n",
              "      <td>2550</td>\n",
              "      <td>5376</td>\n",
              "      <td>2.0</td>\n",
              "      <td>0</td>\n",
              "      <td>0</td>\n",
              "      <td>...</td>\n",
              "      <td>9</td>\n",
              "      <td>2550</td>\n",
              "      <td>0</td>\n",
              "      <td>2004</td>\n",
              "      <td>0</td>\n",
              "      <td>98052</td>\n",
              "      <td>47.6647</td>\n",
              "      <td>-122.083</td>\n",
              "      <td>2250</td>\n",
              "      <td>4050</td>\n",
              "    </tr>\n",
              "    <tr>\n",
              "      <th>1227</th>\n",
              "      <td>1761300310</td>\n",
              "      <td>20140827T000000</td>\n",
              "      <td>211000.0</td>\n",
              "      <td>4</td>\n",
              "      <td>2.00</td>\n",
              "      <td>1710</td>\n",
              "      <td>8288</td>\n",
              "      <td>1.5</td>\n",
              "      <td>0</td>\n",
              "      <td>0</td>\n",
              "      <td>...</td>\n",
              "      <td>7</td>\n",
              "      <td>1710</td>\n",
              "      <td>0</td>\n",
              "      <td>1970</td>\n",
              "      <td>0</td>\n",
              "      <td>98031</td>\n",
              "      <td>47.3947</td>\n",
              "      <td>-122.174</td>\n",
              "      <td>1710</td>\n",
              "      <td>7200</td>\n",
              "    </tr>\n",
              "    <tr>\n",
              "      <th>18849</th>\n",
              "      <td>7732410120</td>\n",
              "      <td>20140819T000000</td>\n",
              "      <td>790000.0</td>\n",
              "      <td>4</td>\n",
              "      <td>2.50</td>\n",
              "      <td>2690</td>\n",
              "      <td>8036</td>\n",
              "      <td>2.0</td>\n",
              "      <td>0</td>\n",
              "      <td>0</td>\n",
              "      <td>...</td>\n",
              "      <td>9</td>\n",
              "      <td>2690</td>\n",
              "      <td>0</td>\n",
              "      <td>1987</td>\n",
              "      <td>0</td>\n",
              "      <td>98007</td>\n",
              "      <td>47.6596</td>\n",
              "      <td>-122.144</td>\n",
              "      <td>2420</td>\n",
              "      <td>8087</td>\n",
              "    </tr>\n",
              "    <tr>\n",
              "      <th>19369</th>\n",
              "      <td>7010701383</td>\n",
              "      <td>20141017T000000</td>\n",
              "      <td>680000.0</td>\n",
              "      <td>3</td>\n",
              "      <td>2.50</td>\n",
              "      <td>1800</td>\n",
              "      <td>4400</td>\n",
              "      <td>1.0</td>\n",
              "      <td>0</td>\n",
              "      <td>0</td>\n",
              "      <td>...</td>\n",
              "      <td>7</td>\n",
              "      <td>1350</td>\n",
              "      <td>450</td>\n",
              "      <td>1970</td>\n",
              "      <td>0</td>\n",
              "      <td>98199</td>\n",
              "      <td>47.6599</td>\n",
              "      <td>-122.396</td>\n",
              "      <td>1920</td>\n",
              "      <td>4400</td>\n",
              "    </tr>\n",
              "    <tr>\n",
              "      <th>20164</th>\n",
              "      <td>291310170</td>\n",
              "      <td>20140804T000000</td>\n",
              "      <td>384500.0</td>\n",
              "      <td>3</td>\n",
              "      <td>2.50</td>\n",
              "      <td>1600</td>\n",
              "      <td>2610</td>\n",
              "      <td>2.0</td>\n",
              "      <td>0</td>\n",
              "      <td>0</td>\n",
              "      <td>...</td>\n",
              "      <td>8</td>\n",
              "      <td>1600</td>\n",
              "      <td>0</td>\n",
              "      <td>2005</td>\n",
              "      <td>0</td>\n",
              "      <td>98027</td>\n",
              "      <td>47.5344</td>\n",
              "      <td>-122.068</td>\n",
              "      <td>1445</td>\n",
              "      <td>1288</td>\n",
              "    </tr>\n",
              "    <tr>\n",
              "      <th>7139</th>\n",
              "      <td>4232901990</td>\n",
              "      <td>20140516T000000</td>\n",
              "      <td>605000.0</td>\n",
              "      <td>2</td>\n",
              "      <td>1.00</td>\n",
              "      <td>910</td>\n",
              "      <td>3600</td>\n",
              "      <td>1.0</td>\n",
              "      <td>0</td>\n",
              "      <td>0</td>\n",
              "      <td>...</td>\n",
              "      <td>7</td>\n",
              "      <td>910</td>\n",
              "      <td>0</td>\n",
              "      <td>1909</td>\n",
              "      <td>0</td>\n",
              "      <td>98119</td>\n",
              "      <td>47.6341</td>\n",
              "      <td>-122.361</td>\n",
              "      <td>1720</td>\n",
              "      <td>3600</td>\n",
              "    </tr>\n",
              "  </tbody>\n",
              "</table>\n",
              "<p>10 rows × 21 columns</p>\n",
              "</div>\n",
              "      <button class=\"colab-df-convert\" onclick=\"convertToInteractive('df-1a298b52-651c-4188-85c3-27da6593bbbb')\"\n",
              "              title=\"Convert this dataframe to an interactive table.\"\n",
              "              style=\"display:none;\">\n",
              "        \n",
              "  <svg xmlns=\"http://www.w3.org/2000/svg\" height=\"24px\"viewBox=\"0 0 24 24\"\n",
              "       width=\"24px\">\n",
              "    <path d=\"M0 0h24v24H0V0z\" fill=\"none\"/>\n",
              "    <path d=\"M18.56 5.44l.94 2.06.94-2.06 2.06-.94-2.06-.94-.94-2.06-.94 2.06-2.06.94zm-11 1L8.5 8.5l.94-2.06 2.06-.94-2.06-.94L8.5 2.5l-.94 2.06-2.06.94zm10 10l.94 2.06.94-2.06 2.06-.94-2.06-.94-.94-2.06-.94 2.06-2.06.94z\"/><path d=\"M17.41 7.96l-1.37-1.37c-.4-.4-.92-.59-1.43-.59-.52 0-1.04.2-1.43.59L10.3 9.45l-7.72 7.72c-.78.78-.78 2.05 0 2.83L4 21.41c.39.39.9.59 1.41.59.51 0 1.02-.2 1.41-.59l7.78-7.78 2.81-2.81c.8-.78.8-2.07 0-2.86zM5.41 20L4 18.59l7.72-7.72 1.47 1.35L5.41 20z\"/>\n",
              "  </svg>\n",
              "      </button>\n",
              "      \n",
              "  <style>\n",
              "    .colab-df-container {\n",
              "      display:flex;\n",
              "      flex-wrap:wrap;\n",
              "      gap: 12px;\n",
              "    }\n",
              "\n",
              "    .colab-df-convert {\n",
              "      background-color: #E8F0FE;\n",
              "      border: none;\n",
              "      border-radius: 50%;\n",
              "      cursor: pointer;\n",
              "      display: none;\n",
              "      fill: #1967D2;\n",
              "      height: 32px;\n",
              "      padding: 0 0 0 0;\n",
              "      width: 32px;\n",
              "    }\n",
              "\n",
              "    .colab-df-convert:hover {\n",
              "      background-color: #E2EBFA;\n",
              "      box-shadow: 0px 1px 2px rgba(60, 64, 67, 0.3), 0px 1px 3px 1px rgba(60, 64, 67, 0.15);\n",
              "      fill: #174EA6;\n",
              "    }\n",
              "\n",
              "    [theme=dark] .colab-df-convert {\n",
              "      background-color: #3B4455;\n",
              "      fill: #D2E3FC;\n",
              "    }\n",
              "\n",
              "    [theme=dark] .colab-df-convert:hover {\n",
              "      background-color: #434B5C;\n",
              "      box-shadow: 0px 1px 3px 1px rgba(0, 0, 0, 0.15);\n",
              "      filter: drop-shadow(0px 1px 2px rgba(0, 0, 0, 0.3));\n",
              "      fill: #FFFFFF;\n",
              "    }\n",
              "  </style>\n",
              "\n",
              "      <script>\n",
              "        const buttonEl =\n",
              "          document.querySelector('#df-1a298b52-651c-4188-85c3-27da6593bbbb button.colab-df-convert');\n",
              "        buttonEl.style.display =\n",
              "          google.colab.kernel.accessAllowed ? 'block' : 'none';\n",
              "\n",
              "        async function convertToInteractive(key) {\n",
              "          const element = document.querySelector('#df-1a298b52-651c-4188-85c3-27da6593bbbb');\n",
              "          const dataTable =\n",
              "            await google.colab.kernel.invokeFunction('convertToInteractive',\n",
              "                                                     [key], {});\n",
              "          if (!dataTable) return;\n",
              "\n",
              "          const docLinkHtml = 'Like what you see? Visit the ' +\n",
              "            '<a target=\"_blank\" href=https://colab.research.google.com/notebooks/data_table.ipynb>data table notebook</a>'\n",
              "            + ' to learn more about interactive tables.';\n",
              "          element.innerHTML = '';\n",
              "          dataTable['output_type'] = 'display_data';\n",
              "          await google.colab.output.renderOutput(dataTable, element);\n",
              "          const docLink = document.createElement('div');\n",
              "          docLink.innerHTML = docLinkHtml;\n",
              "          element.appendChild(docLink);\n",
              "        }\n",
              "      </script>\n",
              "    </div>\n",
              "  </div>\n",
              "  "
            ]
          },
          "metadata": {},
          "execution_count": 185
        }
      ]
    },
    {
      "cell_type": "code",
      "source": [
        "df.info()"
      ],
      "metadata": {
        "id": "n0fs14KoqI3M",
        "colab": {
          "base_uri": "https://localhost:8080/"
        },
        "outputId": "f0bd2740-ec82-44db-c3a9-b51f2c4f539a"
      },
      "execution_count": 186,
      "outputs": [
        {
          "output_type": "stream",
          "name": "stdout",
          "text": [
            "<class 'pandas.core.frame.DataFrame'>\n",
            "RangeIndex: 21613 entries, 0 to 21612\n",
            "Data columns (total 21 columns):\n",
            " #   Column         Non-Null Count  Dtype  \n",
            "---  ------         --------------  -----  \n",
            " 0   id             21613 non-null  int64  \n",
            " 1   date           21613 non-null  object \n",
            " 2   price          21613 non-null  float64\n",
            " 3   bedrooms       21613 non-null  int64  \n",
            " 4   bathrooms      21613 non-null  float64\n",
            " 5   sqft_living    21613 non-null  int64  \n",
            " 6   sqft_lot       21613 non-null  int64  \n",
            " 7   floors         21613 non-null  float64\n",
            " 8   waterfront     21613 non-null  int64  \n",
            " 9   view           21613 non-null  int64  \n",
            " 10  condition      21613 non-null  int64  \n",
            " 11  grade          21613 non-null  int64  \n",
            " 12  sqft_above     21613 non-null  int64  \n",
            " 13  sqft_basement  21613 non-null  int64  \n",
            " 14  yr_built       21613 non-null  int64  \n",
            " 15  yr_renovated   21613 non-null  int64  \n",
            " 16  zipcode        21613 non-null  int64  \n",
            " 17  lat            21613 non-null  float64\n",
            " 18  long           21613 non-null  float64\n",
            " 19  sqft_living15  21613 non-null  int64  \n",
            " 20  sqft_lot15     21613 non-null  int64  \n",
            "dtypes: float64(5), int64(15), object(1)\n",
            "memory usage: 3.5+ MB\n"
          ]
        }
      ]
    },
    {
      "cell_type": "code",
      "source": [
        "df.describe()"
      ],
      "metadata": {
        "id": "1PNzDJZeqKhe",
        "colab": {
          "base_uri": "https://localhost:8080/",
          "height": 364
        },
        "outputId": "911ad7e5-01c2-4b4a-b05f-0046b1a618bd"
      },
      "execution_count": 187,
      "outputs": [
        {
          "output_type": "execute_result",
          "data": {
            "text/plain": [
              "                 id         price      bedrooms     bathrooms   sqft_living  \\\n",
              "count  2.161300e+04  2.161300e+04  21613.000000  21613.000000  21613.000000   \n",
              "mean   4.580302e+09  5.400881e+05      3.370842      2.114757   2079.899736   \n",
              "std    2.876566e+09  3.671272e+05      0.930062      0.770163    918.440897   \n",
              "min    1.000102e+06  7.500000e+04      0.000000      0.000000    290.000000   \n",
              "25%    2.123049e+09  3.219500e+05      3.000000      1.750000   1427.000000   \n",
              "50%    3.904930e+09  4.500000e+05      3.000000      2.250000   1910.000000   \n",
              "75%    7.308900e+09  6.450000e+05      4.000000      2.500000   2550.000000   \n",
              "max    9.900000e+09  7.700000e+06     33.000000      8.000000  13540.000000   \n",
              "\n",
              "           sqft_lot        floors    waterfront          view     condition  \\\n",
              "count  2.161300e+04  21613.000000  21613.000000  21613.000000  21613.000000   \n",
              "mean   1.510697e+04      1.494309      0.007542      0.234303      3.409430   \n",
              "std    4.142051e+04      0.539989      0.086517      0.766318      0.650743   \n",
              "min    5.200000e+02      1.000000      0.000000      0.000000      1.000000   \n",
              "25%    5.040000e+03      1.000000      0.000000      0.000000      3.000000   \n",
              "50%    7.618000e+03      1.500000      0.000000      0.000000      3.000000   \n",
              "75%    1.068800e+04      2.000000      0.000000      0.000000      4.000000   \n",
              "max    1.651359e+06      3.500000      1.000000      4.000000      5.000000   \n",
              "\n",
              "              grade    sqft_above  sqft_basement      yr_built  yr_renovated  \\\n",
              "count  21613.000000  21613.000000   21613.000000  21613.000000  21613.000000   \n",
              "mean       7.656873   1788.390691     291.509045   1971.005136     84.402258   \n",
              "std        1.175459    828.090978     442.575043     29.373411    401.679240   \n",
              "min        1.000000    290.000000       0.000000   1900.000000      0.000000   \n",
              "25%        7.000000   1190.000000       0.000000   1951.000000      0.000000   \n",
              "50%        7.000000   1560.000000       0.000000   1975.000000      0.000000   \n",
              "75%        8.000000   2210.000000     560.000000   1997.000000      0.000000   \n",
              "max       13.000000   9410.000000    4820.000000   2015.000000   2015.000000   \n",
              "\n",
              "            zipcode           lat          long  sqft_living15     sqft_lot15  \n",
              "count  21613.000000  21613.000000  21613.000000   21613.000000   21613.000000  \n",
              "mean   98077.939805     47.560053   -122.213896    1986.552492   12768.455652  \n",
              "std       53.505026      0.138564      0.140828     685.391304   27304.179631  \n",
              "min    98001.000000     47.155900   -122.519000     399.000000     651.000000  \n",
              "25%    98033.000000     47.471000   -122.328000    1490.000000    5100.000000  \n",
              "50%    98065.000000     47.571800   -122.230000    1840.000000    7620.000000  \n",
              "75%    98118.000000     47.678000   -122.125000    2360.000000   10083.000000  \n",
              "max    98199.000000     47.777600   -121.315000    6210.000000  871200.000000  "
            ],
            "text/html": [
              "\n",
              "  <div id=\"df-4a44a9d0-ab94-4c3f-bb67-b2cba616b0f6\">\n",
              "    <div class=\"colab-df-container\">\n",
              "      <div>\n",
              "<style scoped>\n",
              "    .dataframe tbody tr th:only-of-type {\n",
              "        vertical-align: middle;\n",
              "    }\n",
              "\n",
              "    .dataframe tbody tr th {\n",
              "        vertical-align: top;\n",
              "    }\n",
              "\n",
              "    .dataframe thead th {\n",
              "        text-align: right;\n",
              "    }\n",
              "</style>\n",
              "<table border=\"1\" class=\"dataframe\">\n",
              "  <thead>\n",
              "    <tr style=\"text-align: right;\">\n",
              "      <th></th>\n",
              "      <th>id</th>\n",
              "      <th>price</th>\n",
              "      <th>bedrooms</th>\n",
              "      <th>bathrooms</th>\n",
              "      <th>sqft_living</th>\n",
              "      <th>sqft_lot</th>\n",
              "      <th>floors</th>\n",
              "      <th>waterfront</th>\n",
              "      <th>view</th>\n",
              "      <th>condition</th>\n",
              "      <th>grade</th>\n",
              "      <th>sqft_above</th>\n",
              "      <th>sqft_basement</th>\n",
              "      <th>yr_built</th>\n",
              "      <th>yr_renovated</th>\n",
              "      <th>zipcode</th>\n",
              "      <th>lat</th>\n",
              "      <th>long</th>\n",
              "      <th>sqft_living15</th>\n",
              "      <th>sqft_lot15</th>\n",
              "    </tr>\n",
              "  </thead>\n",
              "  <tbody>\n",
              "    <tr>\n",
              "      <th>count</th>\n",
              "      <td>2.161300e+04</td>\n",
              "      <td>2.161300e+04</td>\n",
              "      <td>21613.000000</td>\n",
              "      <td>21613.000000</td>\n",
              "      <td>21613.000000</td>\n",
              "      <td>2.161300e+04</td>\n",
              "      <td>21613.000000</td>\n",
              "      <td>21613.000000</td>\n",
              "      <td>21613.000000</td>\n",
              "      <td>21613.000000</td>\n",
              "      <td>21613.000000</td>\n",
              "      <td>21613.000000</td>\n",
              "      <td>21613.000000</td>\n",
              "      <td>21613.000000</td>\n",
              "      <td>21613.000000</td>\n",
              "      <td>21613.000000</td>\n",
              "      <td>21613.000000</td>\n",
              "      <td>21613.000000</td>\n",
              "      <td>21613.000000</td>\n",
              "      <td>21613.000000</td>\n",
              "    </tr>\n",
              "    <tr>\n",
              "      <th>mean</th>\n",
              "      <td>4.580302e+09</td>\n",
              "      <td>5.400881e+05</td>\n",
              "      <td>3.370842</td>\n",
              "      <td>2.114757</td>\n",
              "      <td>2079.899736</td>\n",
              "      <td>1.510697e+04</td>\n",
              "      <td>1.494309</td>\n",
              "      <td>0.007542</td>\n",
              "      <td>0.234303</td>\n",
              "      <td>3.409430</td>\n",
              "      <td>7.656873</td>\n",
              "      <td>1788.390691</td>\n",
              "      <td>291.509045</td>\n",
              "      <td>1971.005136</td>\n",
              "      <td>84.402258</td>\n",
              "      <td>98077.939805</td>\n",
              "      <td>47.560053</td>\n",
              "      <td>-122.213896</td>\n",
              "      <td>1986.552492</td>\n",
              "      <td>12768.455652</td>\n",
              "    </tr>\n",
              "    <tr>\n",
              "      <th>std</th>\n",
              "      <td>2.876566e+09</td>\n",
              "      <td>3.671272e+05</td>\n",
              "      <td>0.930062</td>\n",
              "      <td>0.770163</td>\n",
              "      <td>918.440897</td>\n",
              "      <td>4.142051e+04</td>\n",
              "      <td>0.539989</td>\n",
              "      <td>0.086517</td>\n",
              "      <td>0.766318</td>\n",
              "      <td>0.650743</td>\n",
              "      <td>1.175459</td>\n",
              "      <td>828.090978</td>\n",
              "      <td>442.575043</td>\n",
              "      <td>29.373411</td>\n",
              "      <td>401.679240</td>\n",
              "      <td>53.505026</td>\n",
              "      <td>0.138564</td>\n",
              "      <td>0.140828</td>\n",
              "      <td>685.391304</td>\n",
              "      <td>27304.179631</td>\n",
              "    </tr>\n",
              "    <tr>\n",
              "      <th>min</th>\n",
              "      <td>1.000102e+06</td>\n",
              "      <td>7.500000e+04</td>\n",
              "      <td>0.000000</td>\n",
              "      <td>0.000000</td>\n",
              "      <td>290.000000</td>\n",
              "      <td>5.200000e+02</td>\n",
              "      <td>1.000000</td>\n",
              "      <td>0.000000</td>\n",
              "      <td>0.000000</td>\n",
              "      <td>1.000000</td>\n",
              "      <td>1.000000</td>\n",
              "      <td>290.000000</td>\n",
              "      <td>0.000000</td>\n",
              "      <td>1900.000000</td>\n",
              "      <td>0.000000</td>\n",
              "      <td>98001.000000</td>\n",
              "      <td>47.155900</td>\n",
              "      <td>-122.519000</td>\n",
              "      <td>399.000000</td>\n",
              "      <td>651.000000</td>\n",
              "    </tr>\n",
              "    <tr>\n",
              "      <th>25%</th>\n",
              "      <td>2.123049e+09</td>\n",
              "      <td>3.219500e+05</td>\n",
              "      <td>3.000000</td>\n",
              "      <td>1.750000</td>\n",
              "      <td>1427.000000</td>\n",
              "      <td>5.040000e+03</td>\n",
              "      <td>1.000000</td>\n",
              "      <td>0.000000</td>\n",
              "      <td>0.000000</td>\n",
              "      <td>3.000000</td>\n",
              "      <td>7.000000</td>\n",
              "      <td>1190.000000</td>\n",
              "      <td>0.000000</td>\n",
              "      <td>1951.000000</td>\n",
              "      <td>0.000000</td>\n",
              "      <td>98033.000000</td>\n",
              "      <td>47.471000</td>\n",
              "      <td>-122.328000</td>\n",
              "      <td>1490.000000</td>\n",
              "      <td>5100.000000</td>\n",
              "    </tr>\n",
              "    <tr>\n",
              "      <th>50%</th>\n",
              "      <td>3.904930e+09</td>\n",
              "      <td>4.500000e+05</td>\n",
              "      <td>3.000000</td>\n",
              "      <td>2.250000</td>\n",
              "      <td>1910.000000</td>\n",
              "      <td>7.618000e+03</td>\n",
              "      <td>1.500000</td>\n",
              "      <td>0.000000</td>\n",
              "      <td>0.000000</td>\n",
              "      <td>3.000000</td>\n",
              "      <td>7.000000</td>\n",
              "      <td>1560.000000</td>\n",
              "      <td>0.000000</td>\n",
              "      <td>1975.000000</td>\n",
              "      <td>0.000000</td>\n",
              "      <td>98065.000000</td>\n",
              "      <td>47.571800</td>\n",
              "      <td>-122.230000</td>\n",
              "      <td>1840.000000</td>\n",
              "      <td>7620.000000</td>\n",
              "    </tr>\n",
              "    <tr>\n",
              "      <th>75%</th>\n",
              "      <td>7.308900e+09</td>\n",
              "      <td>6.450000e+05</td>\n",
              "      <td>4.000000</td>\n",
              "      <td>2.500000</td>\n",
              "      <td>2550.000000</td>\n",
              "      <td>1.068800e+04</td>\n",
              "      <td>2.000000</td>\n",
              "      <td>0.000000</td>\n",
              "      <td>0.000000</td>\n",
              "      <td>4.000000</td>\n",
              "      <td>8.000000</td>\n",
              "      <td>2210.000000</td>\n",
              "      <td>560.000000</td>\n",
              "      <td>1997.000000</td>\n",
              "      <td>0.000000</td>\n",
              "      <td>98118.000000</td>\n",
              "      <td>47.678000</td>\n",
              "      <td>-122.125000</td>\n",
              "      <td>2360.000000</td>\n",
              "      <td>10083.000000</td>\n",
              "    </tr>\n",
              "    <tr>\n",
              "      <th>max</th>\n",
              "      <td>9.900000e+09</td>\n",
              "      <td>7.700000e+06</td>\n",
              "      <td>33.000000</td>\n",
              "      <td>8.000000</td>\n",
              "      <td>13540.000000</td>\n",
              "      <td>1.651359e+06</td>\n",
              "      <td>3.500000</td>\n",
              "      <td>1.000000</td>\n",
              "      <td>4.000000</td>\n",
              "      <td>5.000000</td>\n",
              "      <td>13.000000</td>\n",
              "      <td>9410.000000</td>\n",
              "      <td>4820.000000</td>\n",
              "      <td>2015.000000</td>\n",
              "      <td>2015.000000</td>\n",
              "      <td>98199.000000</td>\n",
              "      <td>47.777600</td>\n",
              "      <td>-121.315000</td>\n",
              "      <td>6210.000000</td>\n",
              "      <td>871200.000000</td>\n",
              "    </tr>\n",
              "  </tbody>\n",
              "</table>\n",
              "</div>\n",
              "      <button class=\"colab-df-convert\" onclick=\"convertToInteractive('df-4a44a9d0-ab94-4c3f-bb67-b2cba616b0f6')\"\n",
              "              title=\"Convert this dataframe to an interactive table.\"\n",
              "              style=\"display:none;\">\n",
              "        \n",
              "  <svg xmlns=\"http://www.w3.org/2000/svg\" height=\"24px\"viewBox=\"0 0 24 24\"\n",
              "       width=\"24px\">\n",
              "    <path d=\"M0 0h24v24H0V0z\" fill=\"none\"/>\n",
              "    <path d=\"M18.56 5.44l.94 2.06.94-2.06 2.06-.94-2.06-.94-.94-2.06-.94 2.06-2.06.94zm-11 1L8.5 8.5l.94-2.06 2.06-.94-2.06-.94L8.5 2.5l-.94 2.06-2.06.94zm10 10l.94 2.06.94-2.06 2.06-.94-2.06-.94-.94-2.06-.94 2.06-2.06.94z\"/><path d=\"M17.41 7.96l-1.37-1.37c-.4-.4-.92-.59-1.43-.59-.52 0-1.04.2-1.43.59L10.3 9.45l-7.72 7.72c-.78.78-.78 2.05 0 2.83L4 21.41c.39.39.9.59 1.41.59.51 0 1.02-.2 1.41-.59l7.78-7.78 2.81-2.81c.8-.78.8-2.07 0-2.86zM5.41 20L4 18.59l7.72-7.72 1.47 1.35L5.41 20z\"/>\n",
              "  </svg>\n",
              "      </button>\n",
              "      \n",
              "  <style>\n",
              "    .colab-df-container {\n",
              "      display:flex;\n",
              "      flex-wrap:wrap;\n",
              "      gap: 12px;\n",
              "    }\n",
              "\n",
              "    .colab-df-convert {\n",
              "      background-color: #E8F0FE;\n",
              "      border: none;\n",
              "      border-radius: 50%;\n",
              "      cursor: pointer;\n",
              "      display: none;\n",
              "      fill: #1967D2;\n",
              "      height: 32px;\n",
              "      padding: 0 0 0 0;\n",
              "      width: 32px;\n",
              "    }\n",
              "\n",
              "    .colab-df-convert:hover {\n",
              "      background-color: #E2EBFA;\n",
              "      box-shadow: 0px 1px 2px rgba(60, 64, 67, 0.3), 0px 1px 3px 1px rgba(60, 64, 67, 0.15);\n",
              "      fill: #174EA6;\n",
              "    }\n",
              "\n",
              "    [theme=dark] .colab-df-convert {\n",
              "      background-color: #3B4455;\n",
              "      fill: #D2E3FC;\n",
              "    }\n",
              "\n",
              "    [theme=dark] .colab-df-convert:hover {\n",
              "      background-color: #434B5C;\n",
              "      box-shadow: 0px 1px 3px 1px rgba(0, 0, 0, 0.15);\n",
              "      filter: drop-shadow(0px 1px 2px rgba(0, 0, 0, 0.3));\n",
              "      fill: #FFFFFF;\n",
              "    }\n",
              "  </style>\n",
              "\n",
              "      <script>\n",
              "        const buttonEl =\n",
              "          document.querySelector('#df-4a44a9d0-ab94-4c3f-bb67-b2cba616b0f6 button.colab-df-convert');\n",
              "        buttonEl.style.display =\n",
              "          google.colab.kernel.accessAllowed ? 'block' : 'none';\n",
              "\n",
              "        async function convertToInteractive(key) {\n",
              "          const element = document.querySelector('#df-4a44a9d0-ab94-4c3f-bb67-b2cba616b0f6');\n",
              "          const dataTable =\n",
              "            await google.colab.kernel.invokeFunction('convertToInteractive',\n",
              "                                                     [key], {});\n",
              "          if (!dataTable) return;\n",
              "\n",
              "          const docLinkHtml = 'Like what you see? Visit the ' +\n",
              "            '<a target=\"_blank\" href=https://colab.research.google.com/notebooks/data_table.ipynb>data table notebook</a>'\n",
              "            + ' to learn more about interactive tables.';\n",
              "          element.innerHTML = '';\n",
              "          dataTable['output_type'] = 'display_data';\n",
              "          await google.colab.output.renderOutput(dataTable, element);\n",
              "          const docLink = document.createElement('div');\n",
              "          docLink.innerHTML = docLinkHtml;\n",
              "          element.appendChild(docLink);\n",
              "        }\n",
              "      </script>\n",
              "    </div>\n",
              "  </div>\n",
              "  "
            ]
          },
          "metadata": {},
          "execution_count": 187
        }
      ]
    },
    {
      "cell_type": "code",
      "source": [
        "df.drop('id', axis = 1, inplace = True)\n",
        "df.drop('date', axis = 1, inplace = True)\n",
        "df.drop('zipcode', axis = 1, inplace = True)\n",
        "df.drop('lat', axis = 1, inplace = True)\n",
        "df.drop('long', axis = 1, inplace = True)\n"
      ],
      "metadata": {
        "id": "0KUD8T08qMmq"
      },
      "execution_count": 188,
      "outputs": []
    },
    {
      "cell_type": "code",
      "source": [
        "plt.figure(figsize=(12,8)) \n",
        "sns.heatmap(df.corr(), annot=True, cmap='Dark2_r', linewidths = 2)\n",
        "plt.show()"
      ],
      "metadata": {
        "id": "r-jk_nHmqKpp",
        "colab": {
          "base_uri": "https://localhost:8080/",
          "height": 551
        },
        "outputId": "6bd38b07-5383-4bef-b526-2ed141dfb8b7"
      },
      "execution_count": 189,
      "outputs": [
        {
          "output_type": "display_data",
          "data": {
            "text/plain": [
              "<Figure size 864x576 with 2 Axes>"
            ],
            "image/png": "[encoded data removed]"
          },
          "metadata": {
            "needs_background": "light"
          }
        }
      ]
    },
    {
      "cell_type": "code",
      "source": [
        "columns = df.columns.drop('price')\n",
        "\n",
        "features = columns\n",
        "label = ['price']\n",
        "\n",
        "X = df[features]\n",
        "y = df[label]"
      ],
      "metadata": {
        "id": "p4zqCnFwq7Oc"
      },
      "execution_count": 190,
      "outputs": []
    },
    {
      "cell_type": "code",
      "source": [
        "from sklearn.model_selection import train_test_split\n",
        "X_train, X_test, y_train, y_test = train_test_split(X, y, test_size = 0.1, random_state = 101)\n",
        "\n",
        "print(f'Numero total de registros en la bdd: {len(X)}')\n",
        "print(\"*****\"*10)\n",
        "print(f'Numero total de registros en el training set: {len(X_train)}')\n",
        "print(f'Tamaño de X_train: {X_train.shape}')\n",
        "print(\"*****\"*10)\n",
        "print(f'Mumero total de registros en el test dataset: {len(X_test)}')\n",
        "print(f'Tamaño del X_test: {X_test.shape}')"
      ],
      "metadata": {
        "id": "p91PEVPLq93-",
        "colab": {
          "base_uri": "https://localhost:8080/"
        },
        "outputId": "8518cf0f-d462-4a2e-ddb6-0b5b25d12f6a"
      },
      "execution_count": 191,
      "outputs": [
        {
          "output_type": "stream",
          "name": "stdout",
          "text": [
            "Numero total de registros en la bdd: 21613\n",
            "**************************************************\n",
            "Numero total de registros en el training set: 19451\n",
            "Tamaño de X_train: (19451, 15)\n",
            "**************************************************\n",
            "Mumero total de registros en el test dataset: 2162\n",
            "Tamaño del X_test: (2162, 15)\n"
          ]
        }
      ]
    },
    {
      "cell_type": "markdown",
      "source": [
        "## Regresión Múltiple Lineal"
      ],
      "metadata": {
        "id": "s8SNN3mkvtrW"
      }
    },
    {
      "cell_type": "code",
      "source": [
        "#tu codigo aquí\n",
        "from sklearn.linear_model import LinearRegression\n",
        "\n",
        "# Crear Modelo\n",
        "LR=LinearRegression()\n",
        "LR.fit(X_train,y_train)\n",
        "y_pred_lr = LR.predict(X_test)\n",
        "\n",
        "# Coeficientes del modelo multiple lineal\n",
        "print(LR.coef_,LR.intercept_)"
      ],
      "metadata": {
        "id": "0faHrN8-rv9V",
        "colab": {
          "base_uri": "https://localhost:8080/"
        },
        "outputId": "49c10252-b7a3-49c4-8f55-4310d435d59c"
      },
      "execution_count": 237,
      "outputs": [
        {
          "output_type": "stream",
          "name": "stdout",
          "text": [
            "[[-3.82008048e+04  4.14661380e+04  1.07992584e+02  1.71356997e-02\n",
            "   3.16916913e+04  5.52691023e+05  4.12493228e+04  2.12221443e+04\n",
            "   1.19493216e+05  4.77750271e+01  6.02175565e+01 -3.55090216e+03\n",
            "   1.32602215e+01  2.90059284e+01 -5.48132603e-01]] [6151359.2627409]\n"
          ]
        }
      ]
    },
    {
      "cell_type": "code",
      "source": [
        "# veamos las columnas a las que pertenece cada coeficiente\n",
        "X_train.columns"
      ],
      "metadata": {
        "colab": {
          "base_uri": "https://localhost:8080/"
        },
        "id": "L6PyL8Wqwa9f",
        "outputId": "f342c4a9-c43b-4ebb-a03c-fefb1ce47c12"
      },
      "execution_count": 197,
      "outputs": [
        {
          "output_type": "execute_result",
          "data": {
            "text/plain": [
              "Index(['bedrooms', 'bathrooms', 'sqft_living', 'sqft_lot', 'floors',\n",
              "       'waterfront', 'view', 'condition', 'grade', 'sqft_above',\n",
              "       'sqft_basement', 'yr_built', 'yr_renovated', 'sqft_living15',\n",
              "       'sqft_lot15'],\n",
              "      dtype='object')"
            ]
          },
          "metadata": {},
          "execution_count": 197
        }
      ]
    },
    {
      "cell_type": "code",
      "source": [
        "# Listas de errores para cada modelo\n",
        "list_MAE=[]\n",
        "list_R2=[]"
      ],
      "metadata": {
        "id": "WsT7-YQrxMxg"
      },
      "execution_count": 236,
      "outputs": []
    },
    {
      "cell_type": "code",
      "source": [
        "# Errores del modelo\n",
        "mae=metrics.mean_absolute_error(y_test, y_pred_lr)\n",
        "r2=r2_score(y_test, y_pred_lr)\n",
        "\n",
        "list_MAE.append(mae)\n",
        "list_R2.append(r2)\n",
        "print('Error medio Absoluto (MAE):', metrics.mean_absolute_error(y_test, y_pred_lr))\n",
        "print('Root Mean Squared Error:', np.sqrt(metrics.mean_squared_error(y_test, y_pred_lr)))\n",
        "print('r2_score',r2_score(y_test, y_pred_lr))"
      ],
      "metadata": {
        "colab": {
          "base_uri": "https://localhost:8080/"
        },
        "id": "ELJRPCajw02I",
        "outputId": "ac3264df-2bab-4a12-ad98-7e8154d93ebc"
      },
      "execution_count": 238,
      "outputs": [
        {
          "output_type": "stream",
          "name": "stdout",
          "text": [
            "Error medio Absoluto (MAE): 137480.1388273178\n",
            "Root Mean Squared Error: 232133.3676240749\n",
            "r2_score 0.6579723205007814\n"
          ]
        }
      ]
    },
    {
      "cell_type": "markdown",
      "source": [
        "## Regresión Múltiple Polinomial"
      ],
      "metadata": {
        "id": "KHQc3aFhxmnX"
      }
    },
    {
      "cell_type": "code",
      "source": [
        "from sklearn.preprocessing import PolynomialFeatures\n",
        "\n",
        "poly=PolynomialFeatures(2)\n",
        "X_poly=poly.fit_transform(X_train)\n",
        "X_poly_test=poly.fit_transform(X_test)\n",
        "\n",
        "LR.fit(X_poly,y_train)\n",
        "y_pred_poly=LR.predict(X_poly_test)"
      ],
      "metadata": {
        "id": "n1ZJP_qJxv13"
      },
      "execution_count": 239,
      "outputs": []
    },
    {
      "cell_type": "code",
      "source": [
        "# veamos los coeficientes de la ecuacion polinomial multiple\n",
        "LR.coef_,LR.intercept_"
      ],
      "metadata": {
        "colab": {
          "base_uri": "https://localhost:8080/"
        },
        "id": "SP9uhVbbyNQE",
        "outputId": "09ceab94-a9e5-4146-b393-3ac08c9c2f1a"
      },
      "execution_count": 207,
      "outputs": [
        {
          "output_type": "execute_result",
          "data": {
            "text/plain": [
              "(array([[-3.36215067e+02,  9.33786601e+05, -1.09276012e+06,\n",
              "         -5.00000916e+02, -2.78655818e+01, -2.07431876e+06,\n",
              "         -3.95454208e+06, -2.88626046e+05,  5.58593032e+05,\n",
              "          1.09860635e+06, -1.76306376e+02, -3.38830099e+02,\n",
              "         -8.59690742e+04, -2.95364696e+03,  3.99966813e+03,\n",
              "         -3.40100969e+01,  9.57353093e+02,  7.49573773e+03,\n",
              "         -1.43129923e+01, -1.86055609e-02,  8.57765264e+03,\n",
              "         -1.15023978e+04, -3.07568695e+02, -5.24425041e+03,\n",
              "         -5.36756662e+03, -6.90375101e-01, -1.40883136e+01,\n",
              "         -4.67027049e+02, -9.12671559e+00,  1.72774587e+01,\n",
              "          2.15692510e-01, -9.63018996e+03,  1.55434606e+01,\n",
              "         -1.35758634e-01, -2.59069352e+04,  4.33710369e+04,\n",
              "          3.82965496e+03, -1.07945148e+03,  2.22974058e+04,\n",
              "          1.42714685e+01,  1.18111267e+00,  5.03113646e+02,\n",
              "         -1.70855006e+01, -1.72874822e+01, -5.57330742e-02,\n",
              "         -4.95300818e-01, -1.18373560e+00,  4.83455018e+00,\n",
              "          1.60300634e+02, -1.42701954e+01,  1.31157574e+01,\n",
              "          2.07362736e+01, -3.88265256e+00,  1.77534910e+00,\n",
              "          3.44718628e+00,  2.90907898e-02, -2.87308877e+00,\n",
              "         -1.69344406e+00,  3.07802111e-07,  4.40837356e-01,\n",
              "         -9.85055610e-02, -9.75854874e-02,  9.17187597e-02,\n",
              "          1.51947523e-01,  1.18304976e+00,  1.18327142e+00,\n",
              "          1.37632645e-02, -1.48338513e-04,  1.76599249e-04,\n",
              "          1.05295840e-06,  2.16102817e+04, -1.31323610e+05,\n",
              "          1.44414306e+04,  2.03014521e+04, -4.27952652e+03,\n",
              "         -2.82332706e+00,  7.66118047e+00,  1.03677935e+03,\n",
              "          2.59523171e+00, -3.20407426e+01, -5.28613747e-01,\n",
              "         -3.95454020e+06, -1.60508338e+04,  9.19949119e+03,\n",
              "         -1.61638717e+05,  1.83103162e+02, -2.28024874e+01,\n",
              "          4.42859231e+03, -2.99136532e+01,  1.70605216e+02,\n",
              "         -8.13464467e-01,  7.98449145e+03,  7.33972187e+03,\n",
              "          1.79555207e+04, -1.24969207e+01, -1.77410890e+00,\n",
              "          7.20654536e+01, -9.96849430e+00,  4.63360490e+00,\n",
              "         -5.24451789e-02, -5.41709875e+02, -6.03796704e+03,\n",
              "          1.16203356e+00,  1.19555877e+01, -3.07024246e+02,\n",
              "         -2.01989010e+01,  4.63200472e+01, -2.76899554e-01,\n",
              "          7.36628623e+03,  9.59804274e+00,  1.11367779e+01,\n",
              "         -5.71967028e+02, -1.01341115e+01, -2.27556433e+01,\n",
              "         -5.08583316e-01,  4.38328806e+00,  3.13326922e+00,\n",
              "         -3.20761510e+00,  9.08475019e-03,  2.87101198e+00,\n",
              "          1.69363433e+00, -1.34180280e+00, -3.10646687e+00,\n",
              "          1.57077571e-02,  2.87625348e+00,  1.69292778e+00,\n",
              "          2.30613315e+01,  4.07031251e-01, -2.04695680e+00,\n",
              "          1.88934866e-02,  1.11629250e+00,  4.71243854e-02,\n",
              "          2.54890379e-04,  3.31536956e-02,  1.11445785e-04,\n",
              "          2.35595508e-06]]), array([80233537.22738773]))"
            ]
          },
          "metadata": {},
          "execution_count": 207
        }
      ]
    },
    {
      "cell_type": "code",
      "source": [
        "# errores\n",
        "mae=metrics.mean_absolute_error(y_test, y_pred_poly)\n",
        "r2=r2_score(y_test, y_pred_poly)\n",
        "\n",
        "list_MAE.append(mae)\n",
        "list_R2.append(r2)\n",
        "print('Error medio Absoluto (MAE):', mae)\n",
        "print('Root Mean Squared Error:', np.sqrt(metrics.mean_squared_error(y_test, y_pred_poly)))\n",
        "print('r2_score',r2)"
      ],
      "metadata": {
        "colab": {
          "base_uri": "https://localhost:8080/"
        },
        "id": "ZJh4zw_7yUHG",
        "outputId": "2b209d48-868a-410a-8408-5282d2dd27eb"
      },
      "execution_count": 240,
      "outputs": [
        {
          "output_type": "stream",
          "name": "stdout",
          "text": [
            "Error medio Absoluto (MAE): 121313.19643053468\n",
            "Root Mean Squared Error: 186263.02675855052\n",
            "r2_score 0.7797887906321873\n"
          ]
        }
      ]
    },
    {
      "cell_type": "markdown",
      "source": [
        "conclusion aumentando el grado del polinomio comenzamos a tener un peor r2 score."
      ],
      "metadata": {
        "id": "9s4Ml_tmyzYb"
      }
    },
    {
      "cell_type": "markdown",
      "source": [
        "## Implementacion con Ridge"
      ],
      "metadata": {
        "id": "gYBtL0h6ydor"
      }
    },
    {
      "cell_type": "code",
      "source": [
        "from sklearn.linear_model import Ridge\n",
        "\n",
        "# recordemos que ridge es menos estricto que lasso.\n",
        "model_ridge = Pipeline([(\"poly_features\", PolynomialFeatures(degree=2, include_bias=False)),\n",
        "                  (\"scaler\", StandardScaler()),\n",
        "                  (\"ridge\", Ridge(alpha = 6, solver = 'cholesky', random_state = 42))])\n",
        "model_ridge.fit(X_train, y_train)\n",
        "\n",
        "\n",
        "y_pred_ridge = model_ridge.predict(X_test)"
      ],
      "metadata": {
        "id": "uBbEIBF-yeu2"
      },
      "execution_count": 241,
      "outputs": []
    },
    {
      "cell_type": "markdown",
      "source": [
        "Ecaucion con Ridge"
      ],
      "metadata": {
        "id": "yAp7wGWYy-fx"
      }
    },
    {
      "cell_type": "code",
      "source": [
        "model_ridge.named_steps['ridge'].coef_, model_ridge.named_steps['ridge'].intercept_"
      ],
      "metadata": {
        "colab": {
          "base_uri": "https://localhost:8080/"
        },
        "id": "EqSwuvVIy7v_",
        "outputId": "8bdbbd52-d6b9-4717-bea9-a12856cf115f"
      },
      "execution_count": 213,
      "outputs": [
        {
          "output_type": "execute_result",
          "data": {
            "text/plain": [
              "(array([[ 1.35418678e+05, -7.05164319e+03,  3.07306288e+04,\n",
              "         -1.38966626e+05, -2.50652900e+04, -4.09167606e+04,\n",
              "         -2.44511905e+04,  1.25184934e+05,  1.48070310e+05,\n",
              "          1.07782604e+04,  4.34644074e+04, -1.40765590e+05,\n",
              "         -7.91624324e+04,  2.36260232e+05, -7.00218005e+04,\n",
              "          1.03689400e+04, -5.13995423e+03, -2.89092728e+04,\n",
              "         -2.49106048e+04,  1.67368453e+04, -6.02553461e+03,\n",
              "          5.79610428e+02, -2.63074093e+03, -3.90694682e+04,\n",
              "         -2.09854872e+04, -2.86189926e+04, -1.35498255e+05,\n",
              "         -1.39419624e+03,  6.01714484e+04,  2.28627489e+04,\n",
              "         -4.49954890e+03,  5.35913533e+04,  5.57602755e+02,\n",
              "         -4.54079275e+04,  1.35940716e+04,  9.72664177e+03,\n",
              "         -4.55573206e+04,  1.34723920e+05,  6.36893381e+04,\n",
              "         -2.65576435e+03,  1.08547624e+04, -2.45751575e+04,\n",
              "         -8.24783465e+04,  6.17297939e+03,  1.13977119e+04,\n",
              "         -3.19221736e+04,  1.66712111e+02,  3.79546804e+04,\n",
              "         -2.73026160e+04,  2.83437997e+04,  1.56096605e+05,\n",
              "          1.39362939e+04, -7.23977004e+02, -1.47771311e+05,\n",
              "          1.35425979e+04,  5.99859245e+03, -3.92324949e+03,\n",
              "         -1.08688406e+03,  2.94348687e+04, -9.17668452e+02,\n",
              "         -6.27092267e+03,  6.83103212e+03,  6.76171436e+04,\n",
              "         -3.39346357e+04, -6.87323721e+03,  1.09588876e+05,\n",
              "         -6.19915597e+03,  6.94856416e+03,  2.10286901e+04,\n",
              "          5.05217038e+04, -1.56281765e+04,  1.50478011e+04,\n",
              "          1.41105086e+04,  3.95024268e+03, -5.14039121e+03,\n",
              "          1.78122818e+04,  3.74092309e+04, -1.92954513e+04,\n",
              "         -8.79588926e+04, -1.83526912e+04, -4.09167606e+04,\n",
              "         -6.44318604e+03, -4.85221269e+03, -9.08239847e+04,\n",
              "          4.78330137e+04,  2.86260250e+03,  1.27161899e+05,\n",
              "         -5.88324622e+03,  3.86230244e+04, -3.14545510e+03,\n",
              "          1.80730907e+04,  1.56104739e+04,  1.17392140e+05,\n",
              "         -3.23689542e+04, -8.07201117e+03, -8.25917792e+04,\n",
              "         -7.87744593e+03,  2.16143115e+04, -3.89253024e+03,\n",
              "          7.17147585e+03, -1.27351551e+04,  1.70684613e+04,\n",
              "          2.81919531e+04, -1.82323261e+05, -3.36418093e+04,\n",
              "          1.72746156e+05, -4.90229404e+04,  1.07019756e+05,\n",
              "          1.37851751e+05,  8.89243850e+04, -1.58084849e+05,\n",
              "          2.95135042e+03, -2.24051099e+05, -1.05763061e+05,\n",
              "          8.74457338e+03,  2.52984127e+04, -1.09040093e+05,\n",
              "          1.47385931e+04,  2.69948071e+03, -1.08593522e+03,\n",
              "         -4.33125553e+04, -1.02979353e+05,  6.13778073e+03,\n",
              "          1.15210768e+04, -1.33366650e+04,  1.07974832e+05,\n",
              "          1.56652864e+04, -2.51893966e+05,  1.65940766e+05,\n",
              "          5.91458956e+04,  6.86698308e+04,  1.32601209e+01,\n",
              "          9.75449633e+04,  1.77492050e+04,  2.08941820e+04]]),\n",
              " array([539150.73672305]))"
            ]
          },
          "metadata": {},
          "execution_count": 213
        }
      ]
    },
    {
      "cell_type": "markdown",
      "source": [
        "Errores"
      ],
      "metadata": {
        "id": "KlR4gG87zD4z"
      }
    },
    {
      "cell_type": "code",
      "source": [
        "mae=metrics.mean_absolute_error(y_test, y_pred_ridge)\n",
        "r2=r2_score(y_test, y_pred_ridge)\n",
        "\n",
        "list_MAE.append(mae)\n",
        "list_R2.append(r2)\n",
        "print('Error medio Absoluto (MAE):', mae)\n",
        "print('Root Mean Squared Error:', np.sqrt(metrics.mean_squared_error(y_test, y_pred_ridge)))\n",
        "print('r2_score',r2)"
      ],
      "metadata": {
        "colab": {
          "base_uri": "https://localhost:8080/"
        },
        "id": "R0obU-Z4zAyW",
        "outputId": "6f447799-8bc4-43a9-85f2-efdf4f7233bf"
      },
      "execution_count": 242,
      "outputs": [
        {
          "output_type": "stream",
          "name": "stdout",
          "text": [
            "Error medio Absoluto (MAE): 122306.43060755903\n",
            "Root Mean Squared Error: 187955.56691223133\n",
            "r2_score 0.7757685647693542\n"
          ]
        }
      ]
    },
    {
      "cell_type": "markdown",
      "source": [
        "## Implementacion con Lasso"
      ],
      "metadata": {
        "id": "ReS9yu7qzH0b"
      }
    },
    {
      "cell_type": "code",
      "source": [
        "from sklearn.linear_model import Lasso\n",
        "\n",
        "model_lasso = Pipeline([(\"poly_features\", PolynomialFeatures(degree=3, include_bias=False)),\n",
        "                  (\"scaler\", StandardScaler()),\n",
        "                  (\"lasso\", Lasso(alpha = 0.8, random_state = 42))])\n",
        "model_lasso.fit(X_train, y_train)\n",
        "\n",
        "\n",
        "y_pred_lasso = model_lasso.predict(X_test)"
      ],
      "metadata": {
        "colab": {
          "base_uri": "https://localhost:8080/"
        },
        "id": "IhvCfTZCzIrM",
        "outputId": "6a3d878c-0fb8-4e8c-d965-04fdfd9fb9e9"
      },
      "execution_count": 243,
      "outputs": [
        {
          "output_type": "stream",
          "name": "stderr",
          "text": [
            "/usr/local/lib/python3.7/dist-packages/sklearn/linear_model/_coordinate_descent.py:648: ConvergenceWarning: Objective did not converge. You might want to increase the number of iterations, check the scale of the features or consider increasing regularisation. Duality gap: 2.920e+14, tolerance: 2.572e+11\n",
            "  coef_, l1_reg, l2_reg, X, y, max_iter, tol, rng, random, positive\n"
          ]
        }
      ]
    },
    {
      "cell_type": "markdown",
      "source": [
        "Errores"
      ],
      "metadata": {
        "id": "RGzerIp5ziTe"
      }
    },
    {
      "cell_type": "code",
      "source": [
        "mae=metrics.mean_absolute_error(y_test, y_pred_lasso)\n",
        "r2=r2_score(y_test, y_pred_lasso)\n",
        "\n",
        "list_MAE.append(mae)\n",
        "list_R2.append(r2)\n",
        "print('Error medio Absoluto (MAE):', mae)\n",
        "print('Root Mean Squared Error:', np.sqrt(metrics.mean_squared_error(y_test, y_pred_lasso)))\n",
        "print('r2_score',r2)"
      ],
      "metadata": {
        "colab": {
          "base_uri": "https://localhost:8080/"
        },
        "id": "sWCIlLw9zhWW",
        "outputId": "30f7e8d1-26f3-498c-9048-348779774313"
      },
      "execution_count": 244,
      "outputs": [
        {
          "output_type": "stream",
          "name": "stdout",
          "text": [
            "Error medio Absoluto (MAE): 121655.15105932411\n",
            "Root Mean Squared Error: 189525.59620430943\n",
            "r2_score 0.7720068215238601\n"
          ]
        }
      ]
    },
    {
      "cell_type": "markdown",
      "source": [
        "## **Analisis visual de errores mediante graficas**"
      ],
      "metadata": {
        "id": "pdWfHuSDz7H3"
      }
    },
    {
      "cell_type": "markdown",
      "source": [
        "**MAE**"
      ],
      "metadata": {
        "id": "r2wjZrZ30E4i"
      }
    },
    {
      "cell_type": "code",
      "source": [
        "import seaborn as sns\n",
        "\n",
        "sns.barplot(x=[\"Lineal\",\"Polinomial\",\"Ridge\",\"Lasso\"],y=list_MAE, palette=\"Paired\")\n",
        "plt.title(\"MAE\")\n",
        "plt.show()"
      ],
      "metadata": {
        "colab": {
          "base_uri": "https://localhost:8080/",
          "height": 281
        },
        "id": "TS8ucMDTzmLN",
        "outputId": "d9263160-6d0f-4c27-ef49-d526ce8f8d5d"
      },
      "execution_count": 245,
      "outputs": [
        {
          "output_type": "display_data",
          "data": {
            "text/plain": [
              "<Figure size 432x288 with 1 Axes>"
            ],
            "image/png": "[encoded data removed]"
          },
          "metadata": {
            "needs_background": "light"
          }
        }
      ]
    },
    {
      "cell_type": "markdown",
      "source": [
        "**R2 Score**"
      ],
      "metadata": {
        "id": "n1KyVO7K09EA"
      }
    },
    {
      "cell_type": "code",
      "source": [
        "sns.barplot(x=[\"Lineal\",\"Polinomial\",\"Ridge\",\"Lasso\"], y=list_R2, palette=\"Paired\")\n",
        "plt.title(\"R2\")\n",
        "plt.show()"
      ],
      "metadata": {
        "colab": {
          "base_uri": "https://localhost:8080/",
          "height": 281
        },
        "id": "SarMUezX0HKT",
        "outputId": "1b9fedeb-222d-49c3-c9a8-db068d9b2ee6"
      },
      "execution_count": 247,
      "outputs": [
        {
          "output_type": "display_data",
          "data": {
            "text/plain": [
              "<Figure size 432x288 with 1 Axes>"
            ],
            "image/png": "[encoded data removed]"
          },
          "metadata": {
            "needs_background": "light"
          }
        }
      ]
    },
    {
      "cell_type": "markdown",
      "source": [
        "## **Explica tus resultados, que método conviene más a la empresa, ¿por que?, ¿que porcentajes de entrenamiento y evaluación usaste?, ¿que error tienes?, ¿es bueno?, ¿cómo lo sabes?**<br>\n",
        "\n",
        "Para este caso de uso podemos visualizar que el modelo de regresion que mejore ajuste tiene son los polinomiales. Teniendo valores en sus metricas de error muy similares. Podemos notar que el R2 del polinomial es de 0.77 bastante cercano a 1 y deducimos que tiene un buen porcentaje de explicaion de la varianza de los datos. Por lo que tendremos que hacer uso del error MAE el cual tiene los siguientes valores para cada modelo:\n",
        "- MPL: 121313.19643053468\n",
        "- RIDGE: 122306.43060755903\n",
        "- LASSO: 121655.15105932411\n",
        "\n",
        "Podemos como el modelo polinomial multiple es el que tiene un MAE mas bajo y un R2 score bastente aceptable. Con esto concluimos que este es el mejor modelo a escoger.\n",
        "\n"
      ],
      "metadata": {
        "id": "fbttWPU41h-g"
      }
    },
    {
      "cell_type": "markdown",
      "source": [
        "## Conclusiones\n"
      ],
      "metadata": {
        "id": "vJRopUfG1iFm"
      }
    },
    {
      "cell_type": "markdown",
      "source": [
        "La realizacion de estos ejercisios nos permite ver que no siempre los modelos polinomiales son mejores que los lineales y que es necesario conocer el comportamiento de los parametros de entrenamiento,spliting y de penalizacion ya que tendran un impacto considerable en el modelo\n",
        "- Podemos ver como incluso teniendo el mismo alfa tenemos una penalizacion mas fuerte en el metodo de lasso que con el metodo ridge.\n",
        "- El utilizar diferentes valores de test_size y de random_state durante el splitting de la data, afectara al modelo final. Incluso en el modelo polinomial diferentes niveles de polinomio con estas combinaciones se veian sumamente afectados.\n",
        "- Mientras MAE sea mas cercano a una media de los valores o a 0 y R2 mas cercano a 1 es una indicacion de un mejor modelo.\n",
        "\n",
        "Esta practica nos brinda una pequeña experiencia de como definir cual es el modelo ideal para un caso de uso y de sus posibles optimizaciones con el fin de obtener lo mejor para los clientes o nuestro negocio."
      ],
      "metadata": {
        "id": "Zc1VCrcW1iId"
      }
    },
    {
      "cell_type": "markdown",
      "source": [
        "# Referencias\n",
        "Géron, A. (s. f.). Hands-On Machine Learning with Scikit-Learn, Keras, and TensorFlow, 3rd Edition. O’Reilly Online Learning. https://www.oreilly.com/library/view/hands-on-machine-learning/9781098125967/\n",
        "\n",
        "VanderPlas, J. (s. f.). Python Data Science Handbook. O’Reilly Online Learning. https://www.oreilly.com/library/view/python-data-science/9781491912126/"
      ],
      "metadata": {
        "id": "1h7omVb-5CaP"
      }
    }
  ]
}