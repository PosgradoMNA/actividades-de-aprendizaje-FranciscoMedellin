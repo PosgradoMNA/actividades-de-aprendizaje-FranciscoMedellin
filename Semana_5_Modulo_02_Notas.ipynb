{
  "nbformat": 4,
  "nbformat_minor": 0,
  "metadata": {
    "colab": {
      "provenance": [],
      "include_colab_link": true
    },
    "kernelspec": {
      "name": "python3",
      "display_name": "Python 3"
    },
    "language_info": {
      "name": "python"
    }
  },
  "cells": [
    {
      "cell_type": "markdown",
      "metadata": {
        "id": "view-in-github",
        "colab_type": "text"
      },
      "source": [
        "<a href=\"https://colab.research.google.com/github/PosgradoMNA/actividades-de-aprendizaje-FranciscoMedellin/blob/main/Semana_5_Modulo_02_Notas.ipynb\" target=\"_parent\"><img src=\"https://colab.research.google.com/assets/colab-badge.svg\" alt=\"Open In Colab\"/></a>"
      ]
    },
    {
      "cell_type": "markdown",
      "source": [
        "# Pre-Processing Data in Python"
      ],
      "metadata": {
        "id": "lgorTe02xOLd"
      }
    },
    {
      "cell_type": "markdown",
      "source": [
        "Data pre-processing is also often called “data cleaning” or “data wrangling”, and there\n",
        "are likely other terms."
      ],
      "metadata": {
        "id": "fytTLGNxxQsS"
      }
    },
    {
      "cell_type": "markdown",
      "source": [
        "Objectives of the this module:<br>\n",
        "- First, we’ll show you how to identify and handle missing values.\n",
        "A “missing value” condition occurs whenever a data entry is left empty.\n",
        "- Data from different sources\n",
        "- We will introduce some methods in Python pandas that can standardize the values into the same\n",
        "format, or unit, or convention..\n",
        "- Normalization is a way to bring all data into a similar range, for more useful comparison.\n",
        "Specifically, we’ll focus on the techniques of centering and scaling.\n",
        "-  Data binning.\n",
        "Binning creates bigger categories from a set of numerical values.\n",
        "It is particularly useful for comparison between groups of data.\n",
        "- Categorical variables, how to convert categorical\n",
        "values into numeric variables to make statistical modeling easier."
      ],
      "metadata": {
        "id": "0znSsz_sxTJV"
      }
    },
    {
      "cell_type": "markdown",
      "source": [
        "# Dealing with missing values in Python"
      ],
      "metadata": {
        "id": "_m0cmFG7yETn"
      }
    },
    {
      "cell_type": "markdown",
      "source": [
        "When no data value is stored for a feature for a particular observation, we say this\n",
        "feature has a “missing value”.\n",
        "Usually, missing value in dataset appears as “?”, “N/A”, 0 or just a blank cell.<br>\n",
        "But how can you deal with missing data?<br>"
      ],
      "metadata": {
        "id": "Ms-sVKMyyHiN"
      }
    },
    {
      "cell_type": "markdown",
      "source": [
        "Of course, each situation is different and should be judged differently.\n",
        "However, these are the typical options you can consider:\n",
        "- The first is to check if the person or group that collected the data can go back.\n",
        "\n",
        "- Another possibility is just to remove the data where that missing value is found.\n",
        "When you drop data, you can either drop the whole variable or just the single data.\n",
        "\n",
        "  - Drop the variable.\n",
        "  - Drop the data entry.\n",
        "\n",
        "If you’re removing data, you want to look to do something that has the least amount\n",
        "of impact. <br>\n",
        "Replacing data is better, since no data is wasted.<br>\n",
        "\n",
        "- Replace the mising values.\n",
        "  - Replace it with an averange (of similar detapoints).\n",
        "\n",
        "  - Replace it by Frequency. What happen in variable categoricals when you can not replace with the averange?.\n",
        "  - Replace it based on other functions.\n",
        "\n",
        "- Leave it as missing data.\n"
      ],
      "metadata": {
        "id": "Epeh9XXOyTvY"
      }
    },
    {
      "cell_type": "markdown",
      "source": [
        "How to drop missing values?\n",
        "```\n",
        "df.dropna()\n",
        "```\n",
        "You can use drop rows or columns.\n",
        "- axis=0 , the entire row.\n",
        "- axis = 1 , the entire column.\n",
        "\n",
        "Drop in specific column.<br>\n",
        "The parameter, *inplace = True* , allows the modyfication to be done in the dataset directly. \n",
        "```\n",
        "df.dropna(subset = [\"columnName\"], axis=0, inplace = True)\n",
        "\n",
        "df = df.dropna(subset = [\"columnName\"], axis=0)\n",
        "``` "
      ],
      "metadata": {
        "id": "WCHrrHxRzyBA"
      }
    },
    {
      "cell_type": "markdown",
      "source": [
        "How to replace missing values?\n",
        "```\n",
        "df.replace(missing_value, new_value)\n",
        "```\n",
        "\n",
        "Example to replace with the mean\n",
        "```\n",
        "mean  = df[\"columnName\"].mean()\n",
        "df[\"columnName\"].replace(np.nan, mean)\n",
        "``` "
      ],
      "metadata": {
        "id": "b2XEvWENykL3"
      }
    },
    {
      "cell_type": "code",
      "source": [],
      "metadata": {
        "id": "YLY2LM2pxPo5"
      },
      "execution_count": null,
      "outputs": []
    },
    {
      "cell_type": "code",
      "source": [],
      "metadata": {
        "id": "fxuC12oe2Dbw"
      },
      "execution_count": null,
      "outputs": []
    }
  ]
}