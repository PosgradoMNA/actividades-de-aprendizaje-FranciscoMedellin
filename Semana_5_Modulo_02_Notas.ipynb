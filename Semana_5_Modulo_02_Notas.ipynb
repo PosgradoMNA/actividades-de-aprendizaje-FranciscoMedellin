{
  "nbformat": 4,
  "nbformat_minor": 0,
  "metadata": {
    "colab": {
      "provenance": [],
      "include_colab_link": true
    },
    "kernelspec": {
      "name": "python3",
      "display_name": "Python 3"
    },
    "language_info": {
      "name": "python"
    }
  },
  "cells": [
    {
      "cell_type": "markdown",
      "metadata": {
        "id": "view-in-github",
        "colab_type": "text"
      },
      "source": [
        "<a href=\"https://colab.research.google.com/github/PosgradoMNA/actividades-de-aprendizaje-FranciscoMedellin/blob/main/Semana_5_Modulo_02_Notas.ipynb\" target=\"_parent\"><img src=\"https://colab.research.google.com/assets/colab-badge.svg\" alt=\"Open In Colab\"/></a>"
      ]
    },
    {
      "cell_type": "markdown",
      "source": [
        "# Pre-Processing Data in Python"
      ],
      "metadata": {
        "id": "lgorTe02xOLd"
      }
    },
    {
      "cell_type": "markdown",
      "source": [
        "Data pre-processing is also often called “data cleaning” or “data wrangling”, and there\n",
        "are likely other terms."
      ],
      "metadata": {
        "id": "fytTLGNxxQsS"
      }
    },
    {
      "cell_type": "markdown",
      "source": [
        "Objectives of the this module:<br>\n",
        "- First, we’ll show you how to identify and handle missing values.\n",
        "A “missing value” condition occurs whenever a data entry is left empty.\n",
        "- Data from different sources\n",
        "- We will introduce some methods in Python pandas that can standardize the values into the same\n",
        "format, or unit, or convention..\n",
        "- Normalization is a way to bring all data into a similar range, for more useful comparison.\n",
        "Specifically, we’ll focus on the techniques of centering and scaling.\n",
        "-  Data binning.\n",
        "Binning creates bigger categories from a set of numerical values.\n",
        "It is particularly useful for comparison between groups of data.\n",
        "- Categorical variables, how to convert categorical\n",
        "values into numeric variables to make statistical modeling easier."
      ],
      "metadata": {
        "id": "0znSsz_sxTJV"
      }
    },
    {
      "cell_type": "markdown",
      "source": [
        "# Dealing with missing values in Python"
      ],
      "metadata": {
        "id": "_m0cmFG7yETn"
      }
    },
    {
      "cell_type": "markdown",
      "source": [
        "When no data value is stored for a feature for a particular observation, we say this\n",
        "feature has a “missing value”.\n",
        "Usually, missing value in dataset appears as “?”, “N/A”, 0 or just a blank cell.<br>\n",
        "But how can you deal with missing data?<br>"
      ],
      "metadata": {
        "id": "Ms-sVKMyyHiN"
      }
    },
    {
      "cell_type": "markdown",
      "source": [
        "Of course, each situation is different and should be judged differently.\n",
        "However, these are the typical options you can consider:\n",
        "- The first is to check if the person or group that collected the data can go back.\n",
        "\n",
        "- Another possibility is just to remove the data where that missing value is found.\n",
        "When you drop data, you can either drop the whole variable or just the single data.\n",
        "\n",
        "  - Drop the variable.\n",
        "  - Drop the data entry.\n",
        "\n",
        "If you’re removing data, you want to look to do something that has the least amount\n",
        "of impact. <br>\n",
        "Replacing data is better, since no data is wasted.<br>\n",
        "\n",
        "- Replace the mising values.\n",
        "  - Replace it with an averange (of similar detapoints).\n",
        "\n",
        "  - Replace it by Frequency. What happen in variable categoricals when you can not replace with the averange?.\n",
        "  - Replace it based on other functions.\n",
        "\n",
        "- Leave it as missing data.\n"
      ],
      "metadata": {
        "id": "Epeh9XXOyTvY"
      }
    },
    {
      "cell_type": "markdown",
      "source": [
        "How to drop missing values?\n",
        "```\n",
        "df.dropna()\n",
        "```\n",
        "You can use drop rows or columns.\n",
        "- axis=0 , the entire row.\n",
        "- axis = 1 , the entire column.\n",
        "\n",
        "Drop in specific column.<br>\n",
        "The parameter, *inplace = True* , allows the modyfication to be done in the dataset directly. \n",
        "```\n",
        "df.dropna(subset = [\"columnName\"], axis=0, inplace = True)\n",
        "\n",
        "df = df.dropna(subset = [\"columnName\"], axis=0)\n",
        "``` "
      ],
      "metadata": {
        "id": "WCHrrHxRzyBA"
      }
    },
    {
      "cell_type": "markdown",
      "source": [
        "How to replace missing values?\n",
        "```\n",
        "df.replace(missing_value, new_value)\n",
        "```\n",
        "\n",
        "Example to replace with the mean\n",
        "```\n",
        "mean  = df[\"columnName\"].mean()\n",
        "df[\"columnName\"].replace(np.nan, mean)\n",
        "``` "
      ],
      "metadata": {
        "id": "b2XEvWENykL3"
      }
    },
    {
      "cell_type": "markdown",
      "source": [
        "# Data Formatting in Python"
      ],
      "metadata": {
        "id": "VLiqWRrl2Zoj"
      }
    },
    {
      "cell_type": "markdown",
      "source": [
        "- Data is usually collected from different places, by different people, which may be stored in different formats.\n",
        "- Data formatting means bringing data into a common standard of expression that allows\n",
        "users to make meaningful comparisons.\n",
        "\n",
        "As a part of dataset cleaning, data formatting ensures that data is consistent and easily\n",
        "understandable."
      ],
      "metadata": {
        "id": "pU6n0jeB2cAV"
      }
    },
    {
      "cell_type": "markdown",
      "source": [
        "Example of how to rename the new york city name.<br>\n",
        "**Non-Formatted:**<br>\n",
        "City:\n",
        "- NY\n",
        "- New York\n",
        "- N.Y\n",
        "- N.Y\n",
        "\n",
        "**Formatted:**<br>\n",
        "City:\n",
        "- New York\n",
        "- New York\n",
        "- New York\n",
        "- New York\n"
      ],
      "metadata": {
        "id": "f9_jQeqp2tXr"
      }
    },
    {
      "cell_type": "markdown",
      "source": [
        "**Incorrect Data Types**<br>\n",
        "- Sometimes the wrong data types is assigned to a feature.\n",
        "Is important that in the analysis explore that our columns has the correct data type.<br>\n",
        "\n",
        "There are many data types in pandas.<br>\n",
        "\n",
        "To identiy data types:\n",
        "```\n",
        "df.dtypes()\n",
        "```\n",
        "\n",
        "To convert data types:\n",
        "```\n",
        "df.astype() # to convert data type\n",
        "df[\"price\"] = df[\"price\"].astype(\"int\")\n",
        "```"
      ],
      "metadata": {
        "id": "V0zrPrpR3UEu"
      }
    },
    {
      "cell_type": "markdown",
      "source": [
        "# Data Normalization"
      ],
      "metadata": {
        "id": "x9cRFrUt9GXY"
      }
    },
    {
      "cell_type": "markdown",
      "source": [
        "When we take a look at the used car data set, we notice in the data that the feature “length”\n",
        "ranges from 150 to 250, while feature “width” and “height” ranges from 50 to 100.\n",
        "We may want to normalize these variables so that the range of the values is consistent.\n",
        "This normalization can make some statistical analyses easier down the road.\n",
        "By making the ranges consistent between variables, normalization enables a fairer comparison\n",
        "between the different features."
      ],
      "metadata": {
        "id": "ULvPMFNc9JGZ"
      }
    },
    {
      "cell_type": "markdown",
      "source": [
        "Consider a dataset containing two features: “age” and “income”, where “age”\n",
        "ranges from 0 to 100, while “income” ranges from 0 to 20,000 and higher.\n",
        "“income” is about 1,000 times larger than “age”, and ranges from 20,000 to 500,000.\n",
        "So these two features are in very different ranges.\n",
        "When we do further analysis, like linear regression, for example, the attribute “income” will\n",
        "intrinsically influence the result more, due to its larger value, but this doesn’t necessarily\n",
        "mean it is more ‘important’ as a predictor."
      ],
      "metadata": {
        "id": "5rPmNmfK9MsE"
      }
    },
    {
      "cell_type": "markdown",
      "source": [
        "To avoid this, we can normalize these two variables into values that range from 0 to 1.\n",
        "Compare the two tables at the right. <BR>\n",
        "After normalization, both variables now have a similar influence on the models we will\n",
        "build later."
      ],
      "metadata": {
        "id": "znLO29qV9U_4"
      }
    },
    {
      "cell_type": "markdown",
      "source": [
        "**Simple feature scaling** <BR> \n",
        "Just divides each value by themaximum value for that feature.\n",
        "This makes the new values range between 0 and 1.<BR> \n",
        "\n",
        "x_new = x_old/x_max\n",
        "\n"
      ],
      "metadata": {
        "id": "p-T5XGtx9fTe"
      }
    },
    {
      "cell_type": "markdown",
      "source": [
        "**Min-Max** <br> \n",
        "Takes each value, X_old, subtracted from the minimum\n",
        "value of that feature, then divides by the range of that feature.\n",
        "Again, the resulting new values range between 0 and 1.<br>\n",
        "x_new = x_old - x_min / x_max - x_min"
      ],
      "metadata": {
        "id": "OPnTYjVF9rkq"
      }
    },
    {
      "cell_type": "markdown",
      "source": [
        "**z-score or standard score**<br>\n",
        "In this formula, for each value, you subtract the Mu which is the average of the feature, and then divide by the standard deviation (sigma).<br>\n",
        "The resulting values hover around 0, and typically range between -3 and +3, but c\n",
        "an be higheror lower.<br>\n",
        "x_new = x_old-u / v <br>\n",
        "- u, miu: Mean of the feature.\n",
        "- v, sigma: Standar deveatin of the feature."
      ],
      "metadata": {
        "id": "c9OhX2af91yZ"
      }
    },
    {
      "cell_type": "code",
      "source": [],
      "metadata": {
        "id": "0ovcrWoJ2rqM"
      },
      "execution_count": null,
      "outputs": []
    }
  ]
}