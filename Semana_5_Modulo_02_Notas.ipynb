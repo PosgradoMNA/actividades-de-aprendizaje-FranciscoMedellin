{
  "nbformat": 4,
  "nbformat_minor": 0,
  "metadata": {
    "colab": {
      "provenance": [],
      "collapsed_sections": [],
      "include_colab_link": true
    },
    "kernelspec": {
      "name": "python3",
      "display_name": "Python 3"
    },
    "language_info": {
      "name": "python"
    }
  },
  "cells": [
    {
      "cell_type": "markdown",
      "metadata": {
        "id": "view-in-github",
        "colab_type": "text"
      },
      "source": [
        "<a href=\"https://colab.research.google.com/github/PosgradoMNA/actividades-de-aprendizaje-FranciscoMedellin/blob/main/Semana_5_Modulo_02_Notas.ipynb\" target=\"_parent\"><img src=\"https://colab.research.google.com/assets/colab-badge.svg\" alt=\"Open In Colab\"/></a>"
      ]
    },
    {
      "cell_type": "markdown",
      "source": [
        "# Introduction\n",
        "In this module, you'll learn about an example around estimating used car prices that wewill analyze in this course, using Python. <br>\n",
        "Then we will introduce an overview of Python packages used for data analysis.\n",
        "And finally, you will learn about how to import and export data in and from Python, and howto obtain basic insights from the dataset on used cars and their prices.<br>\n",
        "So to learn how to analyze data in Python, we'll be answering the following question:<br>\n",
        "\"Can we estimate the price of a used car based on its characteristics?\""
      ],
      "metadata": {
        "id": "PgfS9jYdlD2I"
      }
    },
    {
      "cell_type": "markdown",
      "source": [
        "# The Problem\n",
        "Let's say we have a friend named Tom.\n",
        "And Tom wants to sell his car.\n",
        "But the problem is, he doesn't know how much he should sell his car for.\n",
        "Tom wants to sell his car for as much as he can.\n",
        "But he also wants to set the price reasonably so someone would want to purchase it.\n",
        "So the price he sets should represent the value of the car.\n",
        "How can we help Tom determine the best price for his car?"
      ],
      "metadata": {
        "id": "nqxfwizHlT4m"
      }
    },
    {
      "cell_type": "markdown",
      "source": [
        "Let's think like data scientists and clearly define some of his problems:\n",
        "For example:\n",
        "- Is there data on the prices of other cars and their characteristics?\n",
        "- What features of cars affect their prices?\n",
        "  - Colour?,Brand?, horsepower, or something else?\n",
        "\n",
        "As a data analyst or data scientist, these are some of the questions we can start thinking\n",
        "about."
      ],
      "metadata": {
        "id": "irxVGmjElwkb"
      }
    },
    {
      "cell_type": "markdown",
      "source": [
        "# Understanding the Data\n",
        "Describes each atribute , and the numer  26 is our target, the price."
      ],
      "metadata": {
        "id": "TYbTtW4Ymjpx"
      }
    },
    {
      "cell_type": "markdown",
      "source": [
        "# Python Packages for Data Science\n",
        "Main packages to analysis."
      ],
      "metadata": {
        "id": "vv95ePVOEXX6"
      }
    },
    {
      "cell_type": "markdown",
      "source": [],
      "metadata": {
        "id": "YAsze-8zH3Q_"
      }
    },
    {
      "cell_type": "markdown",
      "source": [
        "Python Scientific Computing:\n",
        "- Pandas (Data Structures and tools)\n",
        "- Numpy (Arrays and matrices)\n",
        "- Scipy (Integrals, solving differential equations, optimization).\n",
        "\n",
        "Visualization Libraries:\n",
        "- Matplotlib (Plots, graphs, most popular)\n",
        "- Seaborn (plots: heat maps, time series, violin plots).\n",
        "\n",
        "Algorithmic Libraries:\n",
        "- Scikit-Learn (Machine Learning Models...).\n",
        "- Statsmodels (Explore data, estimate statistical models, and pergorm statistical tests.)."
      ],
      "metadata": {
        "id": "Z54dQlfIFgrO"
      }
    },
    {
      "cell_type": "markdown",
      "source": [
        "# Importing and Exporting Data in Python"
      ],
      "metadata": {
        "id": "PKKbIpFnH4Op"
      }
    },
    {
      "cell_type": "markdown",
      "source": [
        "Import data:\n",
        "```\n",
        "import pandas as pd\n",
        "\n",
        "url = \"path_url\"\n",
        "\n",
        "# In the last car example data we did not have headers in the first column.\n",
        "df = pd.read_csv(url, header = None)\n",
        "```\n",
        "Then we can get a overview of DF:\n",
        "```\n",
        "df # Prints the entire df\n",
        "df.head(n) # to show the first n rows of data frame\n",
        "df.tail(n) # shows the bottom n ros of df\n",
        "```\n"
      ],
      "metadata": {
        "id": "vMLpvU6IH82J"
      }
    },
    {
      "cell_type": "markdown",
      "source": [
        "Adding headers:\n",
        "```\n",
        "headers = [\"h1\", \"h1\",\"h3\",\"hn\"]\n",
        "\n",
        "# Replace default header\n",
        "df.columns = headers\n",
        "```"
      ],
      "metadata": {
        "id": "1dsPbBovJJoV"
      }
    },
    {
      "cell_type": "markdown",
      "source": [
        "Export Pandas DF to csv/json/excel/sql:\n",
        "```\n",
        "# Exporting to CSV\n",
        "path = \"path/folder/file.csv\"\n",
        "df.to_csv(path)\n",
        "\n",
        "```\n",
        "Read Methods:\n",
        "- pd.read_csv()\n",
        "- pd.read_json()\n",
        "- pd.read_excel()\n",
        "- pd.read_sql()\n",
        "<br>\n",
        "Save Methods:\n",
        "- pd.to_csv()\n",
        "- pd.to_json()\n",
        "- pd.to_excel()\n",
        "- pd.to_sql()"
      ],
      "metadata": {
        "id": "1GKHZA6JJe6p"
      }
    },
    {
      "cell_type": "markdown",
      "source": [
        "# Getting Started Analyzing Data in Python"
      ],
      "metadata": {
        "id": "6e4fOQ1yJv8s"
      }
    },
    {
      "cell_type": "markdown",
      "source": [
        "Basic Insights of Dataset - Data Types."
      ],
      "metadata": {
        "id": "sNPIl4JeKZfd"
      }
    },
    {
      "cell_type": "markdown",
      "source": [
        "Why check data types?\n",
        "- potential info and type mismatch\n",
        "- compatibility with python methods\n",
        "\n",
        "```\n",
        "df.dtypes\n",
        "```"
      ],
      "metadata": {
        "id": "fBes4b5BKv_4"
      }
    },
    {
      "cell_type": "markdown",
      "source": [
        "Returns statistical summary.\n",
        "```\n",
        "df.describe()\n",
        "```\n",
        "Returns values as:\n",
        "- count\n",
        "- mean\n",
        "- std\n",
        "- min, max"
      ],
      "metadata": {
        "id": "njWmfEg4LKi1"
      }
    },
    {
      "cell_type": "markdown",
      "source": [
        "To return a full summary statistics of all columns , we could add an argument.\n",
        "```\n",
        "df.describe(include = all)\n",
        "```\n",
        "- Unique: number of distinc elements in the column.\n",
        "- top: most frequently object in the column.\n",
        "- freq is the number of times the top object appears in the column."
      ],
      "metadata": {
        "id": "6eusMv7YLjzs"
      }
    },
    {
      "cell_type": "markdown",
      "source": [
        "To provide a concise summary of your data frame you could use: \n",
        "```\n",
        "df.info()\n",
        "```\n",
        "This function return the top 30 rows and bottom 30 rows of the data frame."
      ],
      "metadata": {
        "id": "_7UmbAnIMJPL"
      }
    },
    {
      "cell_type": "code",
      "source": [],
      "metadata": {
        "id": "oZf46CpPKpsr"
      },
      "execution_count": null,
      "outputs": []
    }
  ]
}