{
  "nbformat": 4,
  "nbformat_minor": 0,
  "metadata": {
    "colab": {
      "provenance": [],
      "collapsed_sections": [],
      "include_colab_link": true
    },
    "kernelspec": {
      "name": "python3",
      "display_name": "Python 3"
    },
    "language_info": {
      "name": "python"
    }
  },
  "cells": [
    {
      "cell_type": "markdown",
      "metadata": {
        "id": "view-in-github",
        "colab_type": "text"
      },
      "source": [
        "<a href=\"https://colab.research.google.com/github/PosgradoMNA/actividades-de-aprendizaje-FranciscoMedellin/blob/main/Semana_2_Actividad_01_Notas.ipynb\" target=\"_parent\"><img src=\"https://colab.research.google.com/assets/colab-badge.svg\" alt=\"Open In Colab\"/></a>"
      ]
    },
    {
      "cell_type": "markdown",
      "source": [
        "# Module 04"
      ],
      "metadata": {
        "id": "tMNAlpZI6lVz"
      }
    },
    {
      "cell_type": "markdown",
      "source": [
        "## Reading Files with Open"
      ],
      "metadata": {
        "id": "Q3W-mJei6pec"
      }
    },
    {
      "cell_type": "markdown",
      "source": [
        "We can use the function \"open()\" in order to manage files. \n",
        "\n",
        "```\n",
        "# Example\n",
        "File1 = open(\"/resources/data/Example2.txt\", \"w\")\n",
        "```\n",
        "\n",
        "The first parameter is the file path.\n",
        "The second parameter is the \"mode\".\n",
        "- w: writing\n",
        "- r: reading\n",
        "- a: apending\n",
        "\n",
        "Then we have the file1 object representing to our file object in the code."
      ],
      "metadata": {
        "id": "lVw_SYvu6whQ"
      }
    },
    {
      "cell_type": "markdown",
      "source": [
        "Use \"with\" to open file is a good practice.\n",
        "```\n",
        "with open(\"Exapmle1.txt\", \"r\") as File1:\n",
        "  file_stuff = File1.read()\n",
        "  print(file_stuff)\n",
        "\n",
        "  print(File1.closed)\n",
        "  print(file_stuff)\n",
        "```"
      ],
      "metadata": {
        "id": "53TuwSc07isD"
      }
    },
    {
      "cell_type": "markdown",
      "source": [
        "We can use readlines() to read each line in the file.\n",
        "```\n",
        "with open(\"Exapmle1.txt\", \"r\") as File1:\n",
        "  file_stuff = File1.readlines()\n",
        "  print(file_stuff)\n",
        "\n",
        "  print(file_stuff[0]) # \"This is the line 1\\n\"\n",
        "  print(file_stuff[1]) # \"This is the line 2\\n\"\n",
        "\n",
        "```"
      ],
      "metadata": {
        "id": "2U0Y-I8s8Ow_"
      }
    },
    {
      "cell_type": "markdown",
      "source": [
        "We can use readline(n) to read the first line in the file, n is an optional parameter to set how character we want to read.\n",
        "```\n",
        "with open(\"Exapmle1.txt\", \"r\") as File1:\n",
        "  file_stuff = File1.readline()\n",
        "  print(file_stuff) # this is the line 1\n",
        "  file_stuff = File1.readline(4)\n",
        "  print(file_stuff) # this is the line 2 with 4 characters\n"
      ],
      "metadata": {
        "id": "srEXD9x98yvI"
      }
    },
    {
      "cell_type": "markdown",
      "source": [
        "## Writting Files with Open"
      ],
      "metadata": {
        "id": "DombJytDxaaK"
      }
    },
    {
      "cell_type": "code",
      "source": [],
      "metadata": {
        "id": "Kqk0_cf86oV8"
      },
      "execution_count": null,
      "outputs": []
    }
  ]
}