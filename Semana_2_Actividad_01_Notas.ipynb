{
  "nbformat": 4,
  "nbformat_minor": 0,
  "metadata": {
    "colab": {
      "provenance": [],
      "collapsed_sections": [],
      "include_colab_link": true
    },
    "kernelspec": {
      "name": "python3",
      "display_name": "Python 3"
    },
    "language_info": {
      "name": "python"
    }
  },
  "cells": [
    {
      "cell_type": "markdown",
      "metadata": {
        "id": "view-in-github",
        "colab_type": "text"
      },
      "source": [
        "<a href=\"https://colab.research.google.com/github/PosgradoMNA/actividades-de-aprendizaje-FranciscoMedellin/blob/main/Semana_2_Actividad_01_Notas.ipynb\" target=\"_parent\"><img src=\"https://colab.research.google.com/assets/colab-badge.svg\" alt=\"Open In Colab\"/></a>"
      ]
    },
    {
      "cell_type": "markdown",
      "source": [
        "# Module 04"
      ],
      "metadata": {
        "id": "tMNAlpZI6lVz"
      }
    },
    {
      "cell_type": "markdown",
      "source": [
        "## Reading Files with Open"
      ],
      "metadata": {
        "id": "Q3W-mJei6pec"
      }
    },
    {
      "cell_type": "markdown",
      "source": [
        "We can use the function \"open()\" in order to manage files. \n",
        "\n",
        "```\n",
        "# Example\n",
        "File1 = open(\"/resources/data/Example2.txt\", \"w\")\n",
        "```\n",
        "\n",
        "The first parameter is the file path.\n",
        "The second parameter is the \"mode\".\n",
        "- w: writing\n",
        "- r: reading\n",
        "- a: apending\n",
        "\n",
        "Then we have the file1 object representing to our file object in the code."
      ],
      "metadata": {
        "id": "lVw_SYvu6whQ"
      }
    },
    {
      "cell_type": "markdown",
      "source": [
        "Use \"with\" to open file is a good practice.\n",
        "```\n",
        "with open(\"Exapmle1.txt\", \"r\") as File1:\n",
        "  file_stuff = File1.read()\n",
        "  print(file_stuff)\n",
        "\n",
        "  print(File1.closed)\n",
        "  print(file_stuff)\n",
        "```"
      ],
      "metadata": {
        "id": "53TuwSc07isD"
      }
    },
    {
      "cell_type": "markdown",
      "source": [
        "We can use readlines() to read each line in the file.\n",
        "```\n",
        "with open(\"Exapmle1.txt\", \"r\") as File1:\n",
        "  file_stuff = File1.readlines()\n",
        "  print(file_stuff)\n",
        "\n",
        "  print(file_stuff[0]) # \"This is the line 1\\n\"\n",
        "  print(file_stuff[1]) # \"This is the line 2\\n\"\n",
        "\n",
        "```"
      ],
      "metadata": {
        "id": "2U0Y-I8s8Ow_"
      }
    },
    {
      "cell_type": "markdown",
      "source": [
        "We can use readline(n) to read the first line in the file, n is an optional parameter to set how character we want to read.\n",
        "```\n",
        "with open(\"Exapmle1.txt\", \"r\") as File1:\n",
        "  file_stuff = File1.readline()\n",
        "  print(file_stuff) # this is the line 1\n",
        "  file_stuff = File1.readline(4)\n",
        "  print(file_stuff) # this is the line 2 with 4 characters\n"
      ],
      "metadata": {
        "id": "srEXD9x98yvI"
      }
    },
    {
      "cell_type": "markdown",
      "source": [
        "## Writting Files with Open"
      ],
      "metadata": {
        "id": "DombJytDxaaK"
      }
    },
    {
      "cell_type": "markdown",
      "source": [
        "We can open open files using open fuction.\n",
        "```\n",
        "# File1 = open(\"Example2.txt\", \"w\")\n",
        "with open(\"Example2.txt\", \"w\") as Files1:\n",
        "  File1.write(\"This is line A\")\n",
        "\n",
        "```"
      ],
      "metadata": {
        "id": "WP7cWPqqyOC5"
      }
    },
    {
      "cell_type": "code",
      "source": [
        "with open(\"Example2.txt\", \"w\") as File1:\n",
        "  File1.write(\"This is line A\\n\")\n",
        "  File1.write(\"This is line B\\n\")\n",
        "  print(File1)"
      ],
      "metadata": {
        "id": "Kqk0_cf86oV8",
        "outputId": "0828bfdf-81a8-47b3-e0cc-d2acca6da959",
        "colab": {
          "base_uri": "https://localhost:8080/"
        }
      },
      "execution_count": 6,
      "outputs": [
        {
          "output_type": "stream",
          "name": "stdout",
          "text": [
            "<_io.TextIOWrapper name='Example2.txt' mode='w' encoding='UTF-8'>\n"
          ]
        }
      ]
    },
    {
      "cell_type": "markdown",
      "source": [
        "We can write lines in a file using For"
      ],
      "metadata": {
        "id": "YQD0a5oy2ZID"
      }
    },
    {
      "cell_type": "code",
      "source": [
        "Lines = [\"This is line A\\n\", \"This is line B\\n\", \"This is line C\\n\"]\n",
        "with open(\"Example2.txt\", \"w\") as File1:\n",
        "  for line in Lines:\n",
        "    File1.write(line)"
      ],
      "metadata": {
        "id": "HY30HHFTt5Ef"
      },
      "execution_count": 7,
      "outputs": []
    },
    {
      "cell_type": "markdown",
      "source": [
        "Si utilizamos el tipo de modo \"a\", appenden, no creara un nuevo archivo sino que agregara lineas sobre uno existente."
      ],
      "metadata": {
        "id": "D3XLB_p9214g"
      }
    },
    {
      "cell_type": "code",
      "source": [
        "with open(\"Example2.txt\", \"a\") as File1:\n",
        "  File1.write(\"This is line D\\n\")"
      ],
      "metadata": {
        "id": "IgmuSVVG2w8f"
      },
      "execution_count": 8,
      "outputs": []
    },
    {
      "cell_type": "markdown",
      "source": [
        "Podemos copiar de un archivo a otro.\n",
        "```\n",
        "# Primero abrimos el archivo de fuentes a copiar\n",
        "# Luego dentro abrimos el archivo sobre el cual copiaremos.\n",
        "with open(\"Example1.txt\", \"r\") as readfile:\n",
        "    with open(\"Example2.txt\", \"w\") as writefile:\n",
        "      for line in readfile:\n",
        "        writefile.write(line)\n",
        "```"
      ],
      "metadata": {
        "id": "w8mupdyi3Mj6"
      }
    },
    {
      "cell_type": "markdown",
      "source": [
        "## Loading Data with Pandas"
      ],
      "metadata": {
        "id": "YbE5nbZS397A"
      }
    },
    {
      "cell_type": "code",
      "source": [
        "# Importamos la libreria\n",
        "import pandas as pd"
      ],
      "metadata": {
        "id": "mbUC5pRo3PcV"
      },
      "execution_count": 12,
      "outputs": []
    },
    {
      "cell_type": "markdown",
      "source": [
        "Tenemos una serie de funciones en pandas:\n",
        "\n",
        "\n",
        "*   read_csv()\n",
        "*   Series()\n",
        "* DataFrame\n",
        "* values\n",
        "* etc...\n",
        "\n"
      ],
      "metadata": {
        "id": "OGAj_5Ew9vnm"
      }
    },
    {
      "cell_type": "markdown",
      "source": [
        "Podemos leer y cargar un archivo con pandas.\n",
        "```\n",
        "import pandas as pd\n",
        "csv_path = \"file1.csv\"\n",
        "df = pd.read_csv(csv_path)\n",
        "```"
      ],
      "metadata": {
        "id": "-WZB2CfS-MxF"
      }
    },
    {
      "cell_type": "markdown",
      "source": [
        "La forma en que pandas trabaja los archivos de datos es mediante datarames.\n",
        "```\n",
        "import pandas as pd\n",
        "csv_path = \"file1.csv\"\n",
        "df = pd.read_csv(csv_path)\n",
        "df.head()\n",
        "```\n",
        "\n",
        "Con el metodo head() es usado para examinar las primeras 5 filas del dataframe."
      ],
      "metadata": {
        "id": "AUEdQTT9-g8d"
      }
    },
    {
      "cell_type": "markdown",
      "source": [
        "El proceso para cargar archivos es excel es el similar mediante el uso de la funcion \"read_excel(csv_path)\".\n",
        "```\n",
        "import pandas as pd\n",
        "csv_path = \"file1.xlsx\"\n",
        "df = pd.read_excel(csv_path)\n",
        "df.head()\n",
        "```"
      ],
      "metadata": {
        "id": "TqIVdKNA-2dP"
      }
    },
    {
      "cell_type": "markdown",
      "source": [
        "Podemos crear dataframes con diccionarios. Las llaves corresponderan a los labes \"etiquetas\" o sea los nombres de las columnas y los valures a las filas."
      ],
      "metadata": {
        "id": "sX80NHoo_Kb8"
      }
    },
    {
      "cell_type": "code",
      "source": [
        "songs = {\n",
        "    \"Album\": [\"Thiller\",\"Back in Black\", \"The Dark side of the moon\",\n",
        "              \"the bodyguard\",\"bat out the hell\"],\n",
        "    \"Released\": [1982,1980,1973,1992,1977],\n",
        "    \"Length\":['00:42:19','00:42:11','00:42:49','00:57:44','00:46:33']\n",
        "}\n",
        "songs_frame = pd.DataFrame(songs)\n",
        "songs_frame.head()"
      ],
      "metadata": {
        "id": "V03G5n6g-JnI",
        "outputId": "a338b98d-4969-46b0-a631-06afd87444f6",
        "colab": {
          "base_uri": "https://localhost:8080/",
          "height": 206
        }
      },
      "execution_count": 14,
      "outputs": [
        {
          "output_type": "execute_result",
          "data": {
            "text/plain": [
              "                       Album  Released    Length\n",
              "0                    Thiller      1982  00:42:19\n",
              "1              Back in Black      1980  00:42:11\n",
              "2  The Dark side of the moon      1973  00:42:49\n",
              "3              the bodyguard      1992  00:57:44\n",
              "4           bat out the hell      1977  00:46:33"
            ],
            "text/html": [
              "\n",
              "  <div id=\"df-25bbcdcf-1d5a-45d9-a6c1-1395190b9aa3\">\n",
              "    <div class=\"colab-df-container\">\n",
              "      <div>\n",
              "<style scoped>\n",
              "    .dataframe tbody tr th:only-of-type {\n",
              "        vertical-align: middle;\n",
              "    }\n",
              "\n",
              "    .dataframe tbody tr th {\n",
              "        vertical-align: top;\n",
              "    }\n",
              "\n",
              "    .dataframe thead th {\n",
              "        text-align: right;\n",
              "    }\n",
              "</style>\n",
              "<table border=\"1\" class=\"dataframe\">\n",
              "  <thead>\n",
              "    <tr style=\"text-align: right;\">\n",
              "      <th></th>\n",
              "      <th>Album</th>\n",
              "      <th>Released</th>\n",
              "      <th>Length</th>\n",
              "    </tr>\n",
              "  </thead>\n",
              "  <tbody>\n",
              "    <tr>\n",
              "      <th>0</th>\n",
              "      <td>Thiller</td>\n",
              "      <td>1982</td>\n",
              "      <td>00:42:19</td>\n",
              "    </tr>\n",
              "    <tr>\n",
              "      <th>1</th>\n",
              "      <td>Back in Black</td>\n",
              "      <td>1980</td>\n",
              "      <td>00:42:11</td>\n",
              "    </tr>\n",
              "    <tr>\n",
              "      <th>2</th>\n",
              "      <td>The Dark side of the moon</td>\n",
              "      <td>1973</td>\n",
              "      <td>00:42:49</td>\n",
              "    </tr>\n",
              "    <tr>\n",
              "      <th>3</th>\n",
              "      <td>the bodyguard</td>\n",
              "      <td>1992</td>\n",
              "      <td>00:57:44</td>\n",
              "    </tr>\n",
              "    <tr>\n",
              "      <th>4</th>\n",
              "      <td>bat out the hell</td>\n",
              "      <td>1977</td>\n",
              "      <td>00:46:33</td>\n",
              "    </tr>\n",
              "  </tbody>\n",
              "</table>\n",
              "</div>\n",
              "      <button class=\"colab-df-convert\" onclick=\"convertToInteractive('df-25bbcdcf-1d5a-45d9-a6c1-1395190b9aa3')\"\n",
              "              title=\"Convert this dataframe to an interactive table.\"\n",
              "              style=\"display:none;\">\n",
              "        \n",
              "  <svg xmlns=\"http://www.w3.org/2000/svg\" height=\"24px\"viewBox=\"0 0 24 24\"\n",
              "       width=\"24px\">\n",
              "    <path d=\"M0 0h24v24H0V0z\" fill=\"none\"/>\n",
              "    <path d=\"M18.56 5.44l.94 2.06.94-2.06 2.06-.94-2.06-.94-.94-2.06-.94 2.06-2.06.94zm-11 1L8.5 8.5l.94-2.06 2.06-.94-2.06-.94L8.5 2.5l-.94 2.06-2.06.94zm10 10l.94 2.06.94-2.06 2.06-.94-2.06-.94-.94-2.06-.94 2.06-2.06.94z\"/><path d=\"M17.41 7.96l-1.37-1.37c-.4-.4-.92-.59-1.43-.59-.52 0-1.04.2-1.43.59L10.3 9.45l-7.72 7.72c-.78.78-.78 2.05 0 2.83L4 21.41c.39.39.9.59 1.41.59.51 0 1.02-.2 1.41-.59l7.78-7.78 2.81-2.81c.8-.78.8-2.07 0-2.86zM5.41 20L4 18.59l7.72-7.72 1.47 1.35L5.41 20z\"/>\n",
              "  </svg>\n",
              "      </button>\n",
              "      \n",
              "  <style>\n",
              "    .colab-df-container {\n",
              "      display:flex;\n",
              "      flex-wrap:wrap;\n",
              "      gap: 12px;\n",
              "    }\n",
              "\n",
              "    .colab-df-convert {\n",
              "      background-color: #E8F0FE;\n",
              "      border: none;\n",
              "      border-radius: 50%;\n",
              "      cursor: pointer;\n",
              "      display: none;\n",
              "      fill: #1967D2;\n",
              "      height: 32px;\n",
              "      padding: 0 0 0 0;\n",
              "      width: 32px;\n",
              "    }\n",
              "\n",
              "    .colab-df-convert:hover {\n",
              "      background-color: #E2EBFA;\n",
              "      box-shadow: 0px 1px 2px rgba(60, 64, 67, 0.3), 0px 1px 3px 1px rgba(60, 64, 67, 0.15);\n",
              "      fill: #174EA6;\n",
              "    }\n",
              "\n",
              "    [theme=dark] .colab-df-convert {\n",
              "      background-color: #3B4455;\n",
              "      fill: #D2E3FC;\n",
              "    }\n",
              "\n",
              "    [theme=dark] .colab-df-convert:hover {\n",
              "      background-color: #434B5C;\n",
              "      box-shadow: 0px 1px 3px 1px rgba(0, 0, 0, 0.15);\n",
              "      filter: drop-shadow(0px 1px 2px rgba(0, 0, 0, 0.3));\n",
              "      fill: #FFFFFF;\n",
              "    }\n",
              "  </style>\n",
              "\n",
              "      <script>\n",
              "        const buttonEl =\n",
              "          document.querySelector('#df-25bbcdcf-1d5a-45d9-a6c1-1395190b9aa3 button.colab-df-convert');\n",
              "        buttonEl.style.display =\n",
              "          google.colab.kernel.accessAllowed ? 'block' : 'none';\n",
              "\n",
              "        async function convertToInteractive(key) {\n",
              "          const element = document.querySelector('#df-25bbcdcf-1d5a-45d9-a6c1-1395190b9aa3');\n",
              "          const dataTable =\n",
              "            await google.colab.kernel.invokeFunction('convertToInteractive',\n",
              "                                                     [key], {});\n",
              "          if (!dataTable) return;\n",
              "\n",
              "          const docLinkHtml = 'Like what you see? Visit the ' +\n",
              "            '<a target=\"_blank\" href=https://colab.research.google.com/notebooks/data_table.ipynb>data table notebook</a>'\n",
              "            + ' to learn more about interactive tables.';\n",
              "          element.innerHTML = '';\n",
              "          dataTable['output_type'] = 'display_data';\n",
              "          await google.colab.output.renderOutput(dataTable, element);\n",
              "          const docLink = document.createElement('div');\n",
              "          docLink.innerHTML = docLinkHtml;\n",
              "          element.appendChild(docLink);\n",
              "        }\n",
              "      </script>\n",
              "    </div>\n",
              "  </div>\n",
              "  "
            ]
          },
          "metadata": {},
          "execution_count": 14
        }
      ]
    },
    {
      "cell_type": "markdown",
      "source": [
        "Podemos crear un nuevo data frame a partir de otro."
      ],
      "metadata": {
        "id": "8jfqEyW8Ag6K"
      }
    },
    {
      "cell_type": "code",
      "source": [
        "x = pd.DataFrame(songs_frame[[\"Length\",\"Album\"]])\n",
        "x.head()"
      ],
      "metadata": {
        "id": "CxfIERz4ATl9",
        "outputId": "5c625396-64fc-40d7-94c3-ac1fe5238564",
        "colab": {
          "base_uri": "https://localhost:8080/",
          "height": 206
        }
      },
      "execution_count": 28,
      "outputs": [
        {
          "output_type": "execute_result",
          "data": {
            "text/plain": [
              "     Length                      Album\n",
              "0  00:42:19                    Thiller\n",
              "1  00:42:11              Back in Black\n",
              "2  00:42:49  The Dark side of the moon\n",
              "3  00:57:44              the bodyguard\n",
              "4  00:46:33           bat out the hell"
            ],
            "text/html": [
              "\n",
              "  <div id=\"df-e54ea8eb-472e-465b-b160-5d209a876e4b\">\n",
              "    <div class=\"colab-df-container\">\n",
              "      <div>\n",
              "<style scoped>\n",
              "    .dataframe tbody tr th:only-of-type {\n",
              "        vertical-align: middle;\n",
              "    }\n",
              "\n",
              "    .dataframe tbody tr th {\n",
              "        vertical-align: top;\n",
              "    }\n",
              "\n",
              "    .dataframe thead th {\n",
              "        text-align: right;\n",
              "    }\n",
              "</style>\n",
              "<table border=\"1\" class=\"dataframe\">\n",
              "  <thead>\n",
              "    <tr style=\"text-align: right;\">\n",
              "      <th></th>\n",
              "      <th>Length</th>\n",
              "      <th>Album</th>\n",
              "    </tr>\n",
              "  </thead>\n",
              "  <tbody>\n",
              "    <tr>\n",
              "      <th>0</th>\n",
              "      <td>00:42:19</td>\n",
              "      <td>Thiller</td>\n",
              "    </tr>\n",
              "    <tr>\n",
              "      <th>1</th>\n",
              "      <td>00:42:11</td>\n",
              "      <td>Back in Black</td>\n",
              "    </tr>\n",
              "    <tr>\n",
              "      <th>2</th>\n",
              "      <td>00:42:49</td>\n",
              "      <td>The Dark side of the moon</td>\n",
              "    </tr>\n",
              "    <tr>\n",
              "      <th>3</th>\n",
              "      <td>00:57:44</td>\n",
              "      <td>the bodyguard</td>\n",
              "    </tr>\n",
              "    <tr>\n",
              "      <th>4</th>\n",
              "      <td>00:46:33</td>\n",
              "      <td>bat out the hell</td>\n",
              "    </tr>\n",
              "  </tbody>\n",
              "</table>\n",
              "</div>\n",
              "      <button class=\"colab-df-convert\" onclick=\"convertToInteractive('df-e54ea8eb-472e-465b-b160-5d209a876e4b')\"\n",
              "              title=\"Convert this dataframe to an interactive table.\"\n",
              "              style=\"display:none;\">\n",
              "        \n",
              "  <svg xmlns=\"http://www.w3.org/2000/svg\" height=\"24px\"viewBox=\"0 0 24 24\"\n",
              "       width=\"24px\">\n",
              "    <path d=\"M0 0h24v24H0V0z\" fill=\"none\"/>\n",
              "    <path d=\"M18.56 5.44l.94 2.06.94-2.06 2.06-.94-2.06-.94-.94-2.06-.94 2.06-2.06.94zm-11 1L8.5 8.5l.94-2.06 2.06-.94-2.06-.94L8.5 2.5l-.94 2.06-2.06.94zm10 10l.94 2.06.94-2.06 2.06-.94-2.06-.94-.94-2.06-.94 2.06-2.06.94z\"/><path d=\"M17.41 7.96l-1.37-1.37c-.4-.4-.92-.59-1.43-.59-.52 0-1.04.2-1.43.59L10.3 9.45l-7.72 7.72c-.78.78-.78 2.05 0 2.83L4 21.41c.39.39.9.59 1.41.59.51 0 1.02-.2 1.41-.59l7.78-7.78 2.81-2.81c.8-.78.8-2.07 0-2.86zM5.41 20L4 18.59l7.72-7.72 1.47 1.35L5.41 20z\"/>\n",
              "  </svg>\n",
              "      </button>\n",
              "      \n",
              "  <style>\n",
              "    .colab-df-container {\n",
              "      display:flex;\n",
              "      flex-wrap:wrap;\n",
              "      gap: 12px;\n",
              "    }\n",
              "\n",
              "    .colab-df-convert {\n",
              "      background-color: #E8F0FE;\n",
              "      border: none;\n",
              "      border-radius: 50%;\n",
              "      cursor: pointer;\n",
              "      display: none;\n",
              "      fill: #1967D2;\n",
              "      height: 32px;\n",
              "      padding: 0 0 0 0;\n",
              "      width: 32px;\n",
              "    }\n",
              "\n",
              "    .colab-df-convert:hover {\n",
              "      background-color: #E2EBFA;\n",
              "      box-shadow: 0px 1px 2px rgba(60, 64, 67, 0.3), 0px 1px 3px 1px rgba(60, 64, 67, 0.15);\n",
              "      fill: #174EA6;\n",
              "    }\n",
              "\n",
              "    [theme=dark] .colab-df-convert {\n",
              "      background-color: #3B4455;\n",
              "      fill: #D2E3FC;\n",
              "    }\n",
              "\n",
              "    [theme=dark] .colab-df-convert:hover {\n",
              "      background-color: #434B5C;\n",
              "      box-shadow: 0px 1px 3px 1px rgba(0, 0, 0, 0.15);\n",
              "      filter: drop-shadow(0px 1px 2px rgba(0, 0, 0, 0.3));\n",
              "      fill: #FFFFFF;\n",
              "    }\n",
              "  </style>\n",
              "\n",
              "      <script>\n",
              "        const buttonEl =\n",
              "          document.querySelector('#df-e54ea8eb-472e-465b-b160-5d209a876e4b button.colab-df-convert');\n",
              "        buttonEl.style.display =\n",
              "          google.colab.kernel.accessAllowed ? 'block' : 'none';\n",
              "\n",
              "        async function convertToInteractive(key) {\n",
              "          const element = document.querySelector('#df-e54ea8eb-472e-465b-b160-5d209a876e4b');\n",
              "          const dataTable =\n",
              "            await google.colab.kernel.invokeFunction('convertToInteractive',\n",
              "                                                     [key], {});\n",
              "          if (!dataTable) return;\n",
              "\n",
              "          const docLinkHtml = 'Like what you see? Visit the ' +\n",
              "            '<a target=\"_blank\" href=https://colab.research.google.com/notebooks/data_table.ipynb>data table notebook</a>'\n",
              "            + ' to learn more about interactive tables.';\n",
              "          element.innerHTML = '';\n",
              "          dataTable['output_type'] = 'display_data';\n",
              "          await google.colab.output.renderOutput(dataTable, element);\n",
              "          const docLink = document.createElement('div');\n",
              "          docLink.innerHTML = docLinkHtml;\n",
              "          element.appendChild(docLink);\n",
              "        }\n",
              "      </script>\n",
              "    </div>\n",
              "  </div>\n",
              "  "
            ]
          },
          "metadata": {},
          "execution_count": 28
        }
      ]
    },
    {
      "cell_type": "markdown",
      "source": [
        "Una forma de acceder a elementos especificos es el metodo \"iloc\" (para ingresar a tra vez de numeros como index). Puedes acceder a la primera fila de la primera columna.\n",
        "```\n",
        "df.iloc[:,:] # fila, columna\n",
        "```\n",
        "O puedes usar el metodo loc para acceder a index del tipo str.\n",
        "```\n",
        "df.loc[:,'col_header'] # fila , columna\n",
        "```"
      ],
      "metadata": {
        "id": "CYtqHSe5BtCA"
      }
    },
    {
      "cell_type": "code",
      "source": [
        "df = songs_frame\n",
        "df.iloc[0,0]"
      ],
      "metadata": {
        "id": "s4syV4GAA0G9",
        "outputId": "a92ba16d-0aa1-4dbd-811e-1d06d1697e28",
        "colab": {
          "base_uri": "https://localhost:8080/",
          "height": 36
        }
      },
      "execution_count": 40,
      "outputs": [
        {
          "output_type": "execute_result",
          "data": {
            "text/plain": [
              "'Thiller'"
            ],
            "application/vnd.google.colaboratory.intrinsic+json": {
              "type": "string"
            }
          },
          "metadata": {},
          "execution_count": 40
        }
      ]
    },
    {
      "cell_type": "code",
      "source": [
        "# Segunda fila primera columna\n",
        "df.iloc[1,0]"
      ],
      "metadata": {
        "id": "rN-oka2jCG9F",
        "outputId": "8d8844cd-3715-402b-b997-a3854755d6cc",
        "colab": {
          "base_uri": "https://localhost:8080/",
          "height": 36
        }
      },
      "execution_count": 42,
      "outputs": [
        {
          "output_type": "execute_result",
          "data": {
            "text/plain": [
              "'Back in Black'"
            ],
            "application/vnd.google.colaboratory.intrinsic+json": {
              "type": "string"
            }
          },
          "metadata": {},
          "execution_count": 42
        }
      ]
    },
    {
      "cell_type": "code",
      "source": [
        "# prierma fila de la tercera columna\n",
        "df.iloc[0,1]"
      ],
      "metadata": {
        "id": "qpn-t-X3D-dn",
        "outputId": "0ebcae01-815c-454e-dd40-d56414b7ad57",
        "colab": {
          "base_uri": "https://localhost:8080/"
        }
      },
      "execution_count": 46,
      "outputs": [
        {
          "output_type": "execute_result",
          "data": {
            "text/plain": [
              "1982"
            ]
          },
          "metadata": {},
          "execution_count": 46
        }
      ]
    },
    {
      "cell_type": "code",
      "source": [
        "# Primera fila de la columna album\n",
        "df.loc[1,:\"Album\"]"
      ],
      "metadata": {
        "id": "keE4UjTuDLt4",
        "outputId": "49c991b5-a911-49ad-9239-8ba5edf68622",
        "colab": {
          "base_uri": "https://localhost:8080/"
        }
      },
      "execution_count": 43,
      "outputs": [
        {
          "output_type": "execute_result",
          "data": {
            "text/plain": [
              "Album    Back in Black\n",
              "Name: 1, dtype: object"
            ]
          },
          "metadata": {},
          "execution_count": 43
        }
      ]
    },
    {
      "cell_type": "markdown",
      "source": [
        "Tambien podemos utilizar slicing para asginar a variables. El resultado sera un dataframe comprimido con las filas y columnas seleccionadas."
      ],
      "metadata": {
        "id": "PQxQ0nYTElPg"
      }
    },
    {
      "cell_type": "code",
      "source": [
        "# Asignamos las primeras dos filas a las primeras 3 columnas a la variable z\n",
        "z = df.iloc[0:2 ,  0:3]\n",
        "z"
      ],
      "metadata": {
        "id": "Rz-r58E6EVRe",
        "outputId": "41df11f7-801d-4bc0-df15-9e48ced31447",
        "colab": {
          "base_uri": "https://localhost:8080/",
          "height": 112
        }
      },
      "execution_count": 48,
      "outputs": [
        {
          "output_type": "execute_result",
          "data": {
            "text/plain": [
              "           Album  Released    Length\n",
              "0        Thiller      1982  00:42:19\n",
              "1  Back in Black      1980  00:42:11"
            ],
            "text/html": [
              "\n",
              "  <div id=\"df-c8a304e4-19aa-4483-b6d8-ec12bb8aea35\">\n",
              "    <div class=\"colab-df-container\">\n",
              "      <div>\n",
              "<style scoped>\n",
              "    .dataframe tbody tr th:only-of-type {\n",
              "        vertical-align: middle;\n",
              "    }\n",
              "\n",
              "    .dataframe tbody tr th {\n",
              "        vertical-align: top;\n",
              "    }\n",
              "\n",
              "    .dataframe thead th {\n",
              "        text-align: right;\n",
              "    }\n",
              "</style>\n",
              "<table border=\"1\" class=\"dataframe\">\n",
              "  <thead>\n",
              "    <tr style=\"text-align: right;\">\n",
              "      <th></th>\n",
              "      <th>Album</th>\n",
              "      <th>Released</th>\n",
              "      <th>Length</th>\n",
              "    </tr>\n",
              "  </thead>\n",
              "  <tbody>\n",
              "    <tr>\n",
              "      <th>0</th>\n",
              "      <td>Thiller</td>\n",
              "      <td>1982</td>\n",
              "      <td>00:42:19</td>\n",
              "    </tr>\n",
              "    <tr>\n",
              "      <th>1</th>\n",
              "      <td>Back in Black</td>\n",
              "      <td>1980</td>\n",
              "      <td>00:42:11</td>\n",
              "    </tr>\n",
              "  </tbody>\n",
              "</table>\n",
              "</div>\n",
              "      <button class=\"colab-df-convert\" onclick=\"convertToInteractive('df-c8a304e4-19aa-4483-b6d8-ec12bb8aea35')\"\n",
              "              title=\"Convert this dataframe to an interactive table.\"\n",
              "              style=\"display:none;\">\n",
              "        \n",
              "  <svg xmlns=\"http://www.w3.org/2000/svg\" height=\"24px\"viewBox=\"0 0 24 24\"\n",
              "       width=\"24px\">\n",
              "    <path d=\"M0 0h24v24H0V0z\" fill=\"none\"/>\n",
              "    <path d=\"M18.56 5.44l.94 2.06.94-2.06 2.06-.94-2.06-.94-.94-2.06-.94 2.06-2.06.94zm-11 1L8.5 8.5l.94-2.06 2.06-.94-2.06-.94L8.5 2.5l-.94 2.06-2.06.94zm10 10l.94 2.06.94-2.06 2.06-.94-2.06-.94-.94-2.06-.94 2.06-2.06.94z\"/><path d=\"M17.41 7.96l-1.37-1.37c-.4-.4-.92-.59-1.43-.59-.52 0-1.04.2-1.43.59L10.3 9.45l-7.72 7.72c-.78.78-.78 2.05 0 2.83L4 21.41c.39.39.9.59 1.41.59.51 0 1.02-.2 1.41-.59l7.78-7.78 2.81-2.81c.8-.78.8-2.07 0-2.86zM5.41 20L4 18.59l7.72-7.72 1.47 1.35L5.41 20z\"/>\n",
              "  </svg>\n",
              "      </button>\n",
              "      \n",
              "  <style>\n",
              "    .colab-df-container {\n",
              "      display:flex;\n",
              "      flex-wrap:wrap;\n",
              "      gap: 12px;\n",
              "    }\n",
              "\n",
              "    .colab-df-convert {\n",
              "      background-color: #E8F0FE;\n",
              "      border: none;\n",
              "      border-radius: 50%;\n",
              "      cursor: pointer;\n",
              "      display: none;\n",
              "      fill: #1967D2;\n",
              "      height: 32px;\n",
              "      padding: 0 0 0 0;\n",
              "      width: 32px;\n",
              "    }\n",
              "\n",
              "    .colab-df-convert:hover {\n",
              "      background-color: #E2EBFA;\n",
              "      box-shadow: 0px 1px 2px rgba(60, 64, 67, 0.3), 0px 1px 3px 1px rgba(60, 64, 67, 0.15);\n",
              "      fill: #174EA6;\n",
              "    }\n",
              "\n",
              "    [theme=dark] .colab-df-convert {\n",
              "      background-color: #3B4455;\n",
              "      fill: #D2E3FC;\n",
              "    }\n",
              "\n",
              "    [theme=dark] .colab-df-convert:hover {\n",
              "      background-color: #434B5C;\n",
              "      box-shadow: 0px 1px 3px 1px rgba(0, 0, 0, 0.15);\n",
              "      filter: drop-shadow(0px 1px 2px rgba(0, 0, 0, 0.3));\n",
              "      fill: #FFFFFF;\n",
              "    }\n",
              "  </style>\n",
              "\n",
              "      <script>\n",
              "        const buttonEl =\n",
              "          document.querySelector('#df-c8a304e4-19aa-4483-b6d8-ec12bb8aea35 button.colab-df-convert');\n",
              "        buttonEl.style.display =\n",
              "          google.colab.kernel.accessAllowed ? 'block' : 'none';\n",
              "\n",
              "        async function convertToInteractive(key) {\n",
              "          const element = document.querySelector('#df-c8a304e4-19aa-4483-b6d8-ec12bb8aea35');\n",
              "          const dataTable =\n",
              "            await google.colab.kernel.invokeFunction('convertToInteractive',\n",
              "                                                     [key], {});\n",
              "          if (!dataTable) return;\n",
              "\n",
              "          const docLinkHtml = 'Like what you see? Visit the ' +\n",
              "            '<a target=\"_blank\" href=https://colab.research.google.com/notebooks/data_table.ipynb>data table notebook</a>'\n",
              "            + ' to learn more about interactive tables.';\n",
              "          element.innerHTML = '';\n",
              "          dataTable['output_type'] = 'display_data';\n",
              "          await google.colab.output.renderOutput(dataTable, element);\n",
              "          const docLink = document.createElement('div');\n",
              "          docLink.innerHTML = docLinkHtml;\n",
              "          element.appendChild(docLink);\n",
              "        }\n",
              "      </script>\n",
              "    </div>\n",
              "  </div>\n",
              "  "
            ]
          },
          "metadata": {},
          "execution_count": 48
        }
      ]
    },
    {
      "cell_type": "markdown",
      "source": [
        "Tambien puedes usar slice in DF's para asignar valores a un nuevo data frame usando los nombres de columna. (Recuerda usar loc)"
      ],
      "metadata": {
        "id": "jKkw75ABFUuI"
      }
    },
    {
      "cell_type": "code",
      "source": [
        "# Asignamos las primeras tres filas y todas las columnas entre \"album y length\"\n",
        "z = df.loc[0:2, \"Album\":\"Length\"]\n",
        "z"
      ],
      "metadata": {
        "id": "9ND_RT_GE7LZ",
        "outputId": "33f6efd6-3756-4ea2-c097-9d19489ec291",
        "colab": {
          "base_uri": "https://localhost:8080/",
          "height": 143
        }
      },
      "execution_count": 50,
      "outputs": [
        {
          "output_type": "execute_result",
          "data": {
            "text/plain": [
              "                       Album  Released    Length\n",
              "0                    Thiller      1982  00:42:19\n",
              "1              Back in Black      1980  00:42:11\n",
              "2  The Dark side of the moon      1973  00:42:49"
            ],
            "text/html": [
              "\n",
              "  <div id=\"df-0645754f-7825-4157-8bf2-d83ea7b78ad2\">\n",
              "    <div class=\"colab-df-container\">\n",
              "      <div>\n",
              "<style scoped>\n",
              "    .dataframe tbody tr th:only-of-type {\n",
              "        vertical-align: middle;\n",
              "    }\n",
              "\n",
              "    .dataframe tbody tr th {\n",
              "        vertical-align: top;\n",
              "    }\n",
              "\n",
              "    .dataframe thead th {\n",
              "        text-align: right;\n",
              "    }\n",
              "</style>\n",
              "<table border=\"1\" class=\"dataframe\">\n",
              "  <thead>\n",
              "    <tr style=\"text-align: right;\">\n",
              "      <th></th>\n",
              "      <th>Album</th>\n",
              "      <th>Released</th>\n",
              "      <th>Length</th>\n",
              "    </tr>\n",
              "  </thead>\n",
              "  <tbody>\n",
              "    <tr>\n",
              "      <th>0</th>\n",
              "      <td>Thiller</td>\n",
              "      <td>1982</td>\n",
              "      <td>00:42:19</td>\n",
              "    </tr>\n",
              "    <tr>\n",
              "      <th>1</th>\n",
              "      <td>Back in Black</td>\n",
              "      <td>1980</td>\n",
              "      <td>00:42:11</td>\n",
              "    </tr>\n",
              "    <tr>\n",
              "      <th>2</th>\n",
              "      <td>The Dark side of the moon</td>\n",
              "      <td>1973</td>\n",
              "      <td>00:42:49</td>\n",
              "    </tr>\n",
              "  </tbody>\n",
              "</table>\n",
              "</div>\n",
              "      <button class=\"colab-df-convert\" onclick=\"convertToInteractive('df-0645754f-7825-4157-8bf2-d83ea7b78ad2')\"\n",
              "              title=\"Convert this dataframe to an interactive table.\"\n",
              "              style=\"display:none;\">\n",
              "        \n",
              "  <svg xmlns=\"http://www.w3.org/2000/svg\" height=\"24px\"viewBox=\"0 0 24 24\"\n",
              "       width=\"24px\">\n",
              "    <path d=\"M0 0h24v24H0V0z\" fill=\"none\"/>\n",
              "    <path d=\"M18.56 5.44l.94 2.06.94-2.06 2.06-.94-2.06-.94-.94-2.06-.94 2.06-2.06.94zm-11 1L8.5 8.5l.94-2.06 2.06-.94-2.06-.94L8.5 2.5l-.94 2.06-2.06.94zm10 10l.94 2.06.94-2.06 2.06-.94-2.06-.94-.94-2.06-.94 2.06-2.06.94z\"/><path d=\"M17.41 7.96l-1.37-1.37c-.4-.4-.92-.59-1.43-.59-.52 0-1.04.2-1.43.59L10.3 9.45l-7.72 7.72c-.78.78-.78 2.05 0 2.83L4 21.41c.39.39.9.59 1.41.59.51 0 1.02-.2 1.41-.59l7.78-7.78 2.81-2.81c.8-.78.8-2.07 0-2.86zM5.41 20L4 18.59l7.72-7.72 1.47 1.35L5.41 20z\"/>\n",
              "  </svg>\n",
              "      </button>\n",
              "      \n",
              "  <style>\n",
              "    .colab-df-container {\n",
              "      display:flex;\n",
              "      flex-wrap:wrap;\n",
              "      gap: 12px;\n",
              "    }\n",
              "\n",
              "    .colab-df-convert {\n",
              "      background-color: #E8F0FE;\n",
              "      border: none;\n",
              "      border-radius: 50%;\n",
              "      cursor: pointer;\n",
              "      display: none;\n",
              "      fill: #1967D2;\n",
              "      height: 32px;\n",
              "      padding: 0 0 0 0;\n",
              "      width: 32px;\n",
              "    }\n",
              "\n",
              "    .colab-df-convert:hover {\n",
              "      background-color: #E2EBFA;\n",
              "      box-shadow: 0px 1px 2px rgba(60, 64, 67, 0.3), 0px 1px 3px 1px rgba(60, 64, 67, 0.15);\n",
              "      fill: #174EA6;\n",
              "    }\n",
              "\n",
              "    [theme=dark] .colab-df-convert {\n",
              "      background-color: #3B4455;\n",
              "      fill: #D2E3FC;\n",
              "    }\n",
              "\n",
              "    [theme=dark] .colab-df-convert:hover {\n",
              "      background-color: #434B5C;\n",
              "      box-shadow: 0px 1px 3px 1px rgba(0, 0, 0, 0.15);\n",
              "      filter: drop-shadow(0px 1px 2px rgba(0, 0, 0, 0.3));\n",
              "      fill: #FFFFFF;\n",
              "    }\n",
              "  </style>\n",
              "\n",
              "      <script>\n",
              "        const buttonEl =\n",
              "          document.querySelector('#df-0645754f-7825-4157-8bf2-d83ea7b78ad2 button.colab-df-convert');\n",
              "        buttonEl.style.display =\n",
              "          google.colab.kernel.accessAllowed ? 'block' : 'none';\n",
              "\n",
              "        async function convertToInteractive(key) {\n",
              "          const element = document.querySelector('#df-0645754f-7825-4157-8bf2-d83ea7b78ad2');\n",
              "          const dataTable =\n",
              "            await google.colab.kernel.invokeFunction('convertToInteractive',\n",
              "                                                     [key], {});\n",
              "          if (!dataTable) return;\n",
              "\n",
              "          const docLinkHtml = 'Like what you see? Visit the ' +\n",
              "            '<a target=\"_blank\" href=https://colab.research.google.com/notebooks/data_table.ipynb>data table notebook</a>'\n",
              "            + ' to learn more about interactive tables.';\n",
              "          element.innerHTML = '';\n",
              "          dataTable['output_type'] = 'display_data';\n",
              "          await google.colab.output.renderOutput(dataTable, element);\n",
              "          const docLink = document.createElement('div');\n",
              "          docLink.innerHTML = docLinkHtml;\n",
              "          element.appendChild(docLink);\n",
              "        }\n",
              "      </script>\n",
              "    </div>\n",
              "  </div>\n",
              "  "
            ]
          },
          "metadata": {},
          "execution_count": 50
        }
      ]
    },
    {
      "cell_type": "code",
      "source": [],
      "metadata": {
        "id": "0bOATGVdFvT5"
      },
      "execution_count": null,
      "outputs": []
    }
  ]
}