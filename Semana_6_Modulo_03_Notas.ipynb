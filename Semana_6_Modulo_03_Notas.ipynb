{
  "nbformat": 4,
  "nbformat_minor": 0,
  "metadata": {
    "colab": {
      "provenance": [],
      "include_colab_link": true
    },
    "kernelspec": {
      "name": "python3",
      "display_name": "Python 3"
    },
    "language_info": {
      "name": "python"
    }
  },
  "cells": [
    {
      "cell_type": "markdown",
      "metadata": {
        "id": "view-in-github",
        "colab_type": "text"
      },
      "source": [
        "<a href=\"https://colab.research.google.com/github/PosgradoMNA/actividades-de-aprendizaje-FranciscoMedellin/blob/main/Semana_6_Modulo_03_Notas.ipynb\" target=\"_parent\"><img src=\"https://colab.research.google.com/assets/colab-badge.svg\" alt=\"Open In Colab\"/></a>"
      ]
    },
    {
      "cell_type": "markdown",
      "source": [
        "# Data Analysis with Python Module 03 Exploratory Data Analysis\n",
        "- Francisco Medellin Zertuche \n",
        "- A01794044"
      ],
      "metadata": {
        "id": "07JK7BiNIaP0"
      }
    },
    {
      "cell_type": "markdown",
      "source": [
        "In this module we’re going to cover the basics of Exploratory Data Analysis using Python. Exploratory Data Analysis, or in short “EDA”, is an approach to analyze data in order to:\n",
        "- Summarize main characteristics of the data \n",
        "- Gain better understanding of the dataset,\n",
        "- Uncover relationships between different variables, and\n",
        "- Extract important variables for the problem we are trying to solve."
      ],
      "metadata": {
        "id": "18WOUvDQn5O6"
      }
    },
    {
      "cell_type": "markdown",
      "source": [
        "The main question we are trying to answer in this module is:\n",
        "*“What are the characteristics that have the most impact on the car price?”*\n",
        "For this we will be going through a couple of different useful exploratory data analysis techniques"
      ],
      "metadata": {
        "id": "ZfnWjbLRoUKr"
      }
    },
    {
      "cell_type": "markdown",
      "source": [
        "**Learning Objectives:**\n",
        "- Descriptive Statistics, which describe basic features of a dataset and obtains a short summary about the sample and measures of the data.\n",
        "- Basic of Grouping Data using groupby, and how this can help to transform our dataset.\n",
        "- ANOVA, the analysis of variance, a statistical method in which the variation in a set of observations is divided into distinct components.\n",
        "- Correctlation, Statistics.The Correlation between different variables.\n",
        "And lastly, ***Advanced Correlation***, where we’ll introduce you to various correlation statistical methods, namely ***Pearson Correlation*** and ***Correlation Heatmaps***."
      ],
      "metadata": {
        "id": "XgKA_GeOoY8K"
      }
    }
  ]
}