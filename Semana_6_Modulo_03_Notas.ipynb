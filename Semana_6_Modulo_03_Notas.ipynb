{
  "nbformat": 4,
  "nbformat_minor": 0,
  "metadata": {
    "colab": {
      "provenance": [],
      "include_colab_link": true
    },
    "kernelspec": {
      "name": "python3",
      "display_name": "Python 3"
    },
    "language_info": {
      "name": "python"
    }
  },
  "cells": [
    {
      "cell_type": "markdown",
      "metadata": {
        "id": "view-in-github",
        "colab_type": "text"
      },
      "source": [
        "<a href=\"https://colab.research.google.com/github/PosgradoMNA/actividades-de-aprendizaje-FranciscoMedellin/blob/main/Semana_6_Modulo_03_Notas.ipynb\" target=\"_parent\"><img src=\"https://colab.research.google.com/assets/colab-badge.svg\" alt=\"Open In Colab\"/></a>"
      ]
    },
    {
      "cell_type": "markdown",
      "source": [
        "# Data Analysis with Python Module 03 Exploratory Data Analysis\n",
        "- Francisco Medellin Zertuche \n",
        "- A01794044"
      ],
      "metadata": {
        "id": "07JK7BiNIaP0"
      }
    },
    {
      "cell_type": "markdown",
      "source": [
        "In this module we’re going to cover the basics of Exploratory Data Analysis using Python. Exploratory Data Analysis, or in short “EDA”, is an approach to analyze data in order to:\n",
        "- Summarize main characteristics of the data \n",
        "- Gain better understanding of the dataset,\n",
        "- Uncover relationships between different variables, and\n",
        "- Extract important variables for the problem we are trying to solve."
      ],
      "metadata": {
        "id": "18WOUvDQn5O6"
      }
    },
    {
      "cell_type": "markdown",
      "source": [
        "The main question we are trying to answer in this module is:\n",
        "*“What are the characteristics that have the most impact on the car price?”*\n",
        "For this we will be going through a couple of different useful exploratory data analysis techniques"
      ],
      "metadata": {
        "id": "ZfnWjbLRoUKr"
      }
    },
    {
      "cell_type": "markdown",
      "source": [
        "**Learning Objectives:**\n",
        "- Descriptive Statistics, which describe basic features of a dataset and obtains a short summary about the sample and measures of the data.\n",
        "- Basic of Grouping Data using groupby, and how this can help to transform our dataset.\n",
        "- ANOVA, the analysis of variance, a statistical method in which the variation in a set of observations is divided into distinct components.\n",
        "- Correctlation, Statistics.The Correlation between different variables.\n",
        "And lastly, ***Advanced Correlation***, where we’ll introduce you to various correlation statistical methods, namely ***Pearson Correlation*** and ***Correlation Heatmaps***."
      ],
      "metadata": {
        "id": "XgKA_GeOoY8K"
      }
    },
    {
      "cell_type": "markdown",
      "source": [
        "# Descriptive Statistics\n",
        "When you begin to analyze data, it’s important to first explore your data before you spend\n",
        "time building complicated models. One easy way to do so is to calculate some\n",
        "descriptive statistics for your data. Descriptive statistical analysis helps to\n",
        "describe basic features of a dataset and obtains a short summary about the sample and measures\n",
        "of the data. \n"
      ],
      "metadata": {
        "id": "ogfWurs1Mkqb"
      }
    },
    {
      "cell_type": "markdown",
      "source": [
        "- Describe basic features of data.\n",
        "- Giving short summaries baout the sample and measures of the data."
      ],
      "metadata": {
        "id": "ZRVMzoOxMvcd"
      }
    },
    {
      "cell_type": "markdown",
      "source": [
        "**Describe()** <br>\n",
        "\n",
        "Summarize statstics using mandas methond\n",
        "```\n",
        "df.describe()\n",
        "```\n",
        "\n"
      ],
      "metadata": {
        "id": "KM1_tW-NM2x_"
      }
    },
    {
      "cell_type": "markdown",
      "source": [
        "**Value_Counts()** <br>\n",
        "You could have also categorical variables\n",
        "in your dataset. These are variables that can be divided up into different categories,\n",
        "or groups and have discrete values.<br>\n",
        "\n",
        "Summarize the categorical data is by using the value_counts() method.\n",
        "\n",
        "```\n",
        "drive_wheels_counts = df[\"drive-wheels\"].value_counts()\n",
        "\n",
        "# rename the columns\n",
        "drive_wheels_counts.rename(colunms={\"drive-wheels\":\"value_counts\"}, inplace = True)\n",
        "\n",
        "# print\n",
        "drive_wheels_counts.index.name = \"drive-wheels\"\n",
        "```\n",
        "\n",
        "Result:<br>\n",
        "\n",
        "|                   | value_counts |\n",
        "|-------------------|--------------|\n",
        "| drive-wheels      |      0       |\n",
        "|     fwd           |      118       |\n",
        "|     rwd           |      75       |\n",
        "|     4wd           |      8       |\n",
        "\n",
        "\n"
      ],
      "metadata": {
        "id": "WYBHxC7CNRCq"
      }
    },
    {
      "cell_type": "markdown",
      "source": [
        "### **Box Plots** <br>\n",
        "Boxplots are a great way to visualize numeric\n",
        "data, since you can visualize the various distributions of the data."
      ],
      "metadata": {
        "id": "Tnen52xPPbtv"
      }
    },
    {
      "cell_type": "markdown",
      "source": [
        "The main features that the boxplot shows are the median of the data, which represents where\n",
        "the middle datapoint is. <br>\n",
        "\n",
        "The Upper Quartile shows where the 75th percentile is, the Lower Quartile shows where the 25th percentile is. The data between the Upper and Lower Quartile represents the Interquartile Range.<br>\n",
        "\n",
        "Next, you have the Lower and Upper Extremes. These are calculated as 1.5 times the interquartile range above the 75th percentile, and as 1.5 times the IQR below the 25th percentile."
      ],
      "metadata": {
        "id": "_gHabs4VP8u8"
      }
    },
    {
      "cell_type": "code",
      "source": [],
      "metadata": {
        "id": "Z7kdc-K3dEId"
      },
      "execution_count": null,
      "outputs": []
    },
    {
      "cell_type": "code",
      "source": [],
      "metadata": {
        "id": "AcjJGvzYMuNf"
      },
      "execution_count": null,
      "outputs": []
    }
  ]
}