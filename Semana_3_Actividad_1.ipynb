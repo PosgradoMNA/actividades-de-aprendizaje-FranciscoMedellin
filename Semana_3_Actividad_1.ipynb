{
  "nbformat": 4,
  "nbformat_minor": 0,
  "metadata": {
    "colab": {
      "provenance": [],
      "include_colab_link": true
    },
    "kernelspec": {
      "name": "python3",
      "display_name": "Python 3"
    },
    "language_info": {
      "name": "python"
    }
  },
  "cells": [
    {
      "cell_type": "markdown",
      "metadata": {
        "id": "view-in-github",
        "colab_type": "text"
      },
      "source": [
        "<a href=\"https://colab.research.google.com/github/PosgradoMNA/actividades-de-aprendizaje-FranciscoMedellin/blob/main/Semana_3_Actividad_1.ipynb\" target=\"_parent\"><img src=\"https://colab.research.google.com/assets/colab-badge.svg\" alt=\"Open In Colab\"/></a>"
      ]
    },
    {
      "cell_type": "markdown",
      "source": [
        "# Parte 1 Fundamentos de bases de datos"
      ],
      "metadata": {
        "id": "Qz7EOO14bmkC"
      }
    },
    {
      "cell_type": "markdown",
      "source": [
        "## 1. Fundamentos de bases de datos y para ciencia de datos.  \n"
      ],
      "metadata": {
        "id": "Oo3r-2sIbpui"
      }
    },
    {
      "cell_type": "markdown",
      "source": [
        "Una base de datos es una colección organizada de datos que mediante el uso de software podemos tener diferentes tipos. Estas son capaces de modelar un sistema del mundo real mediante los datos.\n",
        "Normalmente una base de datos se compone de tablas de datos organizadas por filas columnas y celdas. \n",
        "<br>Terminologías:\n",
        "* Una tabla es la combinación de filas(registros de información) y de columnas(campos de información).\n",
        "* Registros, información recolectada separada por columnas o campos.\n",
        "* Campos, las diferentes categorías de la información separadas por columnas.\n",
        "\n",
        "Tipos de bases de datos relacionales  y no relacionales.\n",
        "* Bases de datos relacionales, son aquellas que tienen datos lógicamente relacionados entre si, mediante el uso de entidades, atributos o campos en las diferentes tablas. Un ejemplo de esto seria una base de datos que tenga 2 tablas en donde una tabla contiene un campo relacionado con otro campo de la otra tabla.\n",
        "* Bases de datos no relacionales: Aquellas la informacion se organiza por categorias y no por relaciones.\n",
        "\n",
        "Otro concepto importante es el de DBMS y DML.\n",
        "* DBMS (Data Bases Manangment System),un software que permite interactuar con la base de datos.\n",
        "* DML  Es el lenguaje de manipulación de datos, ejemplo: SQL."
      ],
      "metadata": {
        "id": "0B54bR0-bz45"
      }
    },
    {
      "cell_type": "code",
      "source": [],
      "metadata": {
        "id": "mxM_WppZPMFx"
      },
      "execution_count": null,
      "outputs": []
    },
    {
      "cell_type": "markdown",
      "source": [
        "## 2. Fundamentos de almacenes de datos (Data Warehouse) para ciencia de datos.\n"
      ],
      "metadata": {
        "id": "mMZg5k39jK7w"
      }
    },
    {
      "cell_type": "code",
      "source": [],
      "metadata": {
        "id": "HOdawYSfjZmp"
      },
      "execution_count": null,
      "outputs": []
    }
  ]
}